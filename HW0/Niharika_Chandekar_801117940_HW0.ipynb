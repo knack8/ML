{
  "nbformat": 4,
  "nbformat_minor": 0,
  "metadata": {
    "colab": {
      "provenance": []
    },
    "kernelspec": {
      "name": "python3",
      "display_name": "Python 3"
    },
    "language_info": {
      "name": "python"
    }
  },
  "cells": [
    {
      "cell_type": "markdown",
      "source": [
        "Question 1 "
      ],
      "metadata": {
        "id": "qNuHngLnY-e4"
      }
    },
    {
      "cell_type": "code",
      "execution_count": 137,
      "metadata": {
        "id": "r24ybxmdv3oj",
        "colab": {
          "base_uri": "https://localhost:8080/"
        },
        "outputId": "bb6ce786-13bd-4d8a-8f15-14be27d3d295"
      },
      "outputs": [
        {
          "output_type": "stream",
          "name": "stdout",
          "text": [
            "/content\n"
          ]
        }
      ],
      "source": [
        "import numpy as np\n",
        "import pandas as pd\n",
        "import matplotlib.pyplot as plt\n",
        "\n",
        "import os\n",
        "print(os.getcwd())"
      ]
    },
    {
      "cell_type": "code",
      "source": [
        "df = pd.read_csv(\"D3.csv\")\n",
        "display(df)"
      ],
      "metadata": {
        "colab": {
          "base_uri": "https://localhost:8080/",
          "height": 423
        },
        "id": "tRUKDgcV-CbH",
        "outputId": "7ec44d21-a6ab-403c-d9c7-f5a8952b9402"
      },
      "execution_count": 138,
      "outputs": [
        {
          "output_type": "display_data",
          "data": {
            "text/plain": [
              "          X1        X2        X3         Y\n",
              "0   0.000000  3.440000  0.440000  4.387545\n",
              "1   0.040404  0.134949  0.888485  2.679650\n",
              "2   0.080808  0.829899  1.336970  2.968490\n",
              "3   0.121212  1.524848  1.785455  3.254065\n",
              "4   0.161616  2.219798  2.233939  3.536375\n",
              "..       ...       ...       ...       ...\n",
              "95  3.838384  1.460202  3.046061 -4.440595\n",
              "96  3.878788  2.155152  3.494545 -4.458663\n",
              "97  3.919192  2.850101  3.943030 -4.479995\n",
              "98  3.959596  3.545051  0.391515 -3.304593\n",
              "99  4.000000  0.240000  0.840000 -5.332455\n",
              "\n",
              "[100 rows x 4 columns]"
            ],
            "text/html": [
              "\n",
              "  <div id=\"df-3f8168df-691c-4879-814d-4e39d970a089\">\n",
              "    <div class=\"colab-df-container\">\n",
              "      <div>\n",
              "<style scoped>\n",
              "    .dataframe tbody tr th:only-of-type {\n",
              "        vertical-align: middle;\n",
              "    }\n",
              "\n",
              "    .dataframe tbody tr th {\n",
              "        vertical-align: top;\n",
              "    }\n",
              "\n",
              "    .dataframe thead th {\n",
              "        text-align: right;\n",
              "    }\n",
              "</style>\n",
              "<table border=\"1\" class=\"dataframe\">\n",
              "  <thead>\n",
              "    <tr style=\"text-align: right;\">\n",
              "      <th></th>\n",
              "      <th>X1</th>\n",
              "      <th>X2</th>\n",
              "      <th>X3</th>\n",
              "      <th>Y</th>\n",
              "    </tr>\n",
              "  </thead>\n",
              "  <tbody>\n",
              "    <tr>\n",
              "      <th>0</th>\n",
              "      <td>0.000000</td>\n",
              "      <td>3.440000</td>\n",
              "      <td>0.440000</td>\n",
              "      <td>4.387545</td>\n",
              "    </tr>\n",
              "    <tr>\n",
              "      <th>1</th>\n",
              "      <td>0.040404</td>\n",
              "      <td>0.134949</td>\n",
              "      <td>0.888485</td>\n",
              "      <td>2.679650</td>\n",
              "    </tr>\n",
              "    <tr>\n",
              "      <th>2</th>\n",
              "      <td>0.080808</td>\n",
              "      <td>0.829899</td>\n",
              "      <td>1.336970</td>\n",
              "      <td>2.968490</td>\n",
              "    </tr>\n",
              "    <tr>\n",
              "      <th>3</th>\n",
              "      <td>0.121212</td>\n",
              "      <td>1.524848</td>\n",
              "      <td>1.785455</td>\n",
              "      <td>3.254065</td>\n",
              "    </tr>\n",
              "    <tr>\n",
              "      <th>4</th>\n",
              "      <td>0.161616</td>\n",
              "      <td>2.219798</td>\n",
              "      <td>2.233939</td>\n",
              "      <td>3.536375</td>\n",
              "    </tr>\n",
              "    <tr>\n",
              "      <th>...</th>\n",
              "      <td>...</td>\n",
              "      <td>...</td>\n",
              "      <td>...</td>\n",
              "      <td>...</td>\n",
              "    </tr>\n",
              "    <tr>\n",
              "      <th>95</th>\n",
              "      <td>3.838384</td>\n",
              "      <td>1.460202</td>\n",
              "      <td>3.046061</td>\n",
              "      <td>-4.440595</td>\n",
              "    </tr>\n",
              "    <tr>\n",
              "      <th>96</th>\n",
              "      <td>3.878788</td>\n",
              "      <td>2.155152</td>\n",
              "      <td>3.494545</td>\n",
              "      <td>-4.458663</td>\n",
              "    </tr>\n",
              "    <tr>\n",
              "      <th>97</th>\n",
              "      <td>3.919192</td>\n",
              "      <td>2.850101</td>\n",
              "      <td>3.943030</td>\n",
              "      <td>-4.479995</td>\n",
              "    </tr>\n",
              "    <tr>\n",
              "      <th>98</th>\n",
              "      <td>3.959596</td>\n",
              "      <td>3.545051</td>\n",
              "      <td>0.391515</td>\n",
              "      <td>-3.304593</td>\n",
              "    </tr>\n",
              "    <tr>\n",
              "      <th>99</th>\n",
              "      <td>4.000000</td>\n",
              "      <td>0.240000</td>\n",
              "      <td>0.840000</td>\n",
              "      <td>-5.332455</td>\n",
              "    </tr>\n",
              "  </tbody>\n",
              "</table>\n",
              "<p>100 rows × 4 columns</p>\n",
              "</div>\n",
              "      <button class=\"colab-df-convert\" onclick=\"convertToInteractive('df-3f8168df-691c-4879-814d-4e39d970a089')\"\n",
              "              title=\"Convert this dataframe to an interactive table.\"\n",
              "              style=\"display:none;\">\n",
              "        \n",
              "  <svg xmlns=\"http://www.w3.org/2000/svg\" height=\"24px\"viewBox=\"0 0 24 24\"\n",
              "       width=\"24px\">\n",
              "    <path d=\"M0 0h24v24H0V0z\" fill=\"none\"/>\n",
              "    <path d=\"M18.56 5.44l.94 2.06.94-2.06 2.06-.94-2.06-.94-.94-2.06-.94 2.06-2.06.94zm-11 1L8.5 8.5l.94-2.06 2.06-.94-2.06-.94L8.5 2.5l-.94 2.06-2.06.94zm10 10l.94 2.06.94-2.06 2.06-.94-2.06-.94-.94-2.06-.94 2.06-2.06.94z\"/><path d=\"M17.41 7.96l-1.37-1.37c-.4-.4-.92-.59-1.43-.59-.52 0-1.04.2-1.43.59L10.3 9.45l-7.72 7.72c-.78.78-.78 2.05 0 2.83L4 21.41c.39.39.9.59 1.41.59.51 0 1.02-.2 1.41-.59l7.78-7.78 2.81-2.81c.8-.78.8-2.07 0-2.86zM5.41 20L4 18.59l7.72-7.72 1.47 1.35L5.41 20z\"/>\n",
              "  </svg>\n",
              "      </button>\n",
              "      \n",
              "  <style>\n",
              "    .colab-df-container {\n",
              "      display:flex;\n",
              "      flex-wrap:wrap;\n",
              "      gap: 12px;\n",
              "    }\n",
              "\n",
              "    .colab-df-convert {\n",
              "      background-color: #E8F0FE;\n",
              "      border: none;\n",
              "      border-radius: 50%;\n",
              "      cursor: pointer;\n",
              "      display: none;\n",
              "      fill: #1967D2;\n",
              "      height: 32px;\n",
              "      padding: 0 0 0 0;\n",
              "      width: 32px;\n",
              "    }\n",
              "\n",
              "    .colab-df-convert:hover {\n",
              "      background-color: #E2EBFA;\n",
              "      box-shadow: 0px 1px 2px rgba(60, 64, 67, 0.3), 0px 1px 3px 1px rgba(60, 64, 67, 0.15);\n",
              "      fill: #174EA6;\n",
              "    }\n",
              "\n",
              "    [theme=dark] .colab-df-convert {\n",
              "      background-color: #3B4455;\n",
              "      fill: #D2E3FC;\n",
              "    }\n",
              "\n",
              "    [theme=dark] .colab-df-convert:hover {\n",
              "      background-color: #434B5C;\n",
              "      box-shadow: 0px 1px 3px 1px rgba(0, 0, 0, 0.15);\n",
              "      filter: drop-shadow(0px 1px 2px rgba(0, 0, 0, 0.3));\n",
              "      fill: #FFFFFF;\n",
              "    }\n",
              "  </style>\n",
              "\n",
              "      <script>\n",
              "        const buttonEl =\n",
              "          document.querySelector('#df-3f8168df-691c-4879-814d-4e39d970a089 button.colab-df-convert');\n",
              "        buttonEl.style.display =\n",
              "          google.colab.kernel.accessAllowed ? 'block' : 'none';\n",
              "\n",
              "        async function convertToInteractive(key) {\n",
              "          const element = document.querySelector('#df-3f8168df-691c-4879-814d-4e39d970a089');\n",
              "          const dataTable =\n",
              "            await google.colab.kernel.invokeFunction('convertToInteractive',\n",
              "                                                     [key], {});\n",
              "          if (!dataTable) return;\n",
              "\n",
              "          const docLinkHtml = 'Like what you see? Visit the ' +\n",
              "            '<a target=\"_blank\" href=https://colab.research.google.com/notebooks/data_table.ipynb>data table notebook</a>'\n",
              "            + ' to learn more about interactive tables.';\n",
              "          element.innerHTML = '';\n",
              "          dataTable['output_type'] = 'display_data';\n",
              "          await google.colab.output.renderOutput(dataTable, element);\n",
              "          const docLink = document.createElement('div');\n",
              "          docLink.innerHTML = docLinkHtml;\n",
              "          element.appendChild(docLink);\n",
              "        }\n",
              "      </script>\n",
              "    </div>\n",
              "  </div>\n",
              "  "
            ]
          },
          "metadata": {}
        }
      ]
    },
    {
      "cell_type": "code",
      "source": [
        "X1 = df.values[:, 0] #gets input from 1st column\n",
        "X2 = df.values[:, 1] #gets input from 2nd column\n",
        "X3 = df.values[:, 2] #gets input from 3rd column\n",
        "Y = df.values[:, 3] #gets input from 4th column\n",
        "len(Y), len(X1), len(X2), len(X3)"
      ],
      "metadata": {
        "colab": {
          "base_uri": "https://localhost:8080/"
        },
        "id": "QHau61HXaq--",
        "outputId": "72506f6f-263e-4220-c69d-4b30a136940d"
      },
      "execution_count": 139,
      "outputs": [
        {
          "output_type": "execute_result",
          "data": {
            "text/plain": [
              "(100, 100, 100, 100)"
            ]
          },
          "metadata": {},
          "execution_count": 139
        }
      ]
    },
    {
      "cell_type": "code",
      "source": [
        "#prints first five rows all the variables\n",
        "print('X1 = ', X1[: 5]) \n",
        "print('X2 = ', X2[: 5])\n",
        "print('X3 = ', X3[: 5])\n",
        "print('Y = ', Y[: 5])\n",
        "len(Y), len(X1), len(X2), len(X3)"
      ],
      "metadata": {
        "colab": {
          "base_uri": "https://localhost:8080/"
        },
        "id": "h7pUeMwTgKpy",
        "outputId": "e20f1d79-f051-4493-8c69-c97bba0b89e2"
      },
      "execution_count": 140,
      "outputs": [
        {
          "output_type": "stream",
          "name": "stdout",
          "text": [
            "X1 =  [0.         0.04040404 0.08080808 0.12121212 0.16161616]\n",
            "X2 =  [3.44       0.1349495  0.82989899 1.52484848 2.21979798]\n",
            "X3 =  [0.44       0.88848485 1.3369697  1.78545454 2.23393939]\n",
            "Y =  [4.38754501 2.6796499  2.96848981 3.25406475 3.53637472]\n"
          ]
        },
        {
          "output_type": "execute_result",
          "data": {
            "text/plain": [
              "(100, 100, 100, 100)"
            ]
          },
          "metadata": {},
          "execution_count": 140
        }
      ]
    },
    {
      "cell_type": "markdown",
      "source": [
        "Explanatory variable 1: X1"
      ],
      "metadata": {
        "id": "KoZQg2OnZEJ1"
      }
    },
    {
      "cell_type": "code",
      "source": [
        "plt.scatter(X1, Y, color = 'pink', marker = '*')\n",
        "plt.grid()\n",
        "plt.rcParams[\"figure.figsize\"] = (10,6)\n",
        "plt.xlabel('X1')\n",
        "plt.ylabel('Y')\n",
        "plt.title('X1 vs. Y')"
      ],
      "metadata": {
        "colab": {
          "base_uri": "https://localhost:8080/",
          "height": 421
        },
        "id": "-CgT16JphrJZ",
        "outputId": "51ed4ca1-676c-44d1-832d-7959d315d167"
      },
      "execution_count": 141,
      "outputs": [
        {
          "output_type": "execute_result",
          "data": {
            "text/plain": [
              "Text(0.5, 1.0, 'X1 vs. Y')"
            ]
          },
          "metadata": {},
          "execution_count": 141
        },
        {
          "output_type": "display_data",
          "data": {
            "text/plain": [
              "<Figure size 720x432 with 1 Axes>"
            ],
            "image/png": "[encoded data removed]"
          },
          "metadata": {
            "needs_background": "light"
          }
        }
      ]
    },
    {
      "cell_type": "code",
      "source": [
        "m = len(X1)\n",
        "X1_1 = X1.reshape(m,1)\n",
        "print('X_1', X1_1[:5,:])#outputs X1's first 5 rows, X1[0] - X1[4] so doesnt include 5th row  \n",
        "m"
      ],
      "metadata": {
        "colab": {
          "base_uri": "https://localhost:8080/"
        },
        "id": "4vZBcUgpTd4W",
        "outputId": "87d2bcad-38e2-41ed-b436-bd676d2b35f6"
      },
      "execution_count": 142,
      "outputs": [
        {
          "output_type": "stream",
          "name": "stdout",
          "text": [
            "X_1 [[0.        ]\n",
            " [0.04040404]\n",
            " [0.08080808]\n",
            " [0.12121212]\n",
            " [0.16161616]]\n"
          ]
        },
        {
          "output_type": "execute_result",
          "data": {
            "text/plain": [
              "100"
            ]
          },
          "metadata": {},
          "execution_count": 142
        }
      ]
    },
    {
      "cell_type": "code",
      "source": [
        "m = len(X1)\n",
        "X1_0 = np.ones((m,1))\n",
        "X1_0[:5], len(X1_0) # 5 rows of 1s with len(X1_0) at the end"
      ],
      "metadata": {
        "colab": {
          "base_uri": "https://localhost:8080/"
        },
        "id": "SYYxXpMsVUym",
        "outputId": "1c582b3f-5407-413b-b18e-8871af68ae2d"
      },
      "execution_count": 143,
      "outputs": [
        {
          "output_type": "execute_result",
          "data": {
            "text/plain": [
              "(array([[1.],\n",
              "        [1.],\n",
              "        [1.],\n",
              "        [1.],\n",
              "        [1.]]), 100)"
            ]
          },
          "metadata": {},
          "execution_count": 143
        }
      ]
    },
    {
      "cell_type": "code",
      "source": [
        "X1 = np.hstack((X1_0, X1_1))\n",
        "X1[:5] #5 rows, 2 columns"
      ],
      "metadata": {
        "colab": {
          "base_uri": "https://localhost:8080/"
        },
        "id": "WDg5Q9WUV_wt",
        "outputId": "00d553cb-ae9d-40bc-f120-81bf7bcf6748"
      },
      "execution_count": 144,
      "outputs": [
        {
          "output_type": "execute_result",
          "data": {
            "text/plain": [
              "array([[1.        , 0.        ],\n",
              "       [1.        , 0.04040404],\n",
              "       [1.        , 0.08080808],\n",
              "       [1.        , 0.12121212],\n",
              "       [1.        , 0.16161616]])"
            ]
          },
          "metadata": {},
          "execution_count": 144
        }
      ]
    },
    {
      "cell_type": "code",
      "source": [
        "# theta = np.zeros((2)) #needs to be the same as len(X1)\n",
        "# theta.shape\n",
        "theta = np.zeros(2)\n",
        "iterations = 1500\n",
        "alpha = .1 #learning rate \n",
        "theta.shape"
      ],
      "metadata": {
        "colab": {
          "base_uri": "https://localhost:8080/"
        },
        "id": "bHpLaxz87YUi",
        "outputId": "0187ff06-e3ed-48d8-c1f9-7483795c15ef"
      },
      "execution_count": 145,
      "outputs": [
        {
          "output_type": "execute_result",
          "data": {
            "text/plain": [
              "(2,)"
            ]
          },
          "metadata": {},
          "execution_count": 145
        }
      ]
    },
    {
      "cell_type": "code",
      "source": [
        "def compute_loss(X, Y, theta):\n",
        "  predictions = X.dot(theta)\n",
        "  errors = np.subtract(predictions, Y)#compares how far away the line is from the dots\n",
        "  sqrErrors = np.square(errors)\n",
        "  J = 1/(2*m) * np.sum(sqrErrors)\n",
        "  return J"
      ],
      "metadata": {
        "id": "N-2ok47fHJEt"
      },
      "execution_count": 146,
      "outputs": []
    },
    {
      "cell_type": "code",
      "source": [
        "cost = compute_loss(X1, Y, theta)\n",
        "print('The cost for given values of theta_0 and theta_1 = ', cost)"
      ],
      "metadata": {
        "colab": {
          "base_uri": "https://localhost:8080/"
        },
        "id": "X_byl64SK9Gq",
        "outputId": "057b4d97-6aee-48bd-a93b-8a22613012cb"
      },
      "execution_count": 147,
      "outputs": [
        {
          "output_type": "stream",
          "name": "stdout",
          "text": [
            "The cost for given values of theta_0 and theta_1 =  5.524438459196242\n"
          ]
        }
      ]
    },
    {
      "cell_type": "code",
      "source": [
        "def gradient_descent(X, Y, theta, alpha, iterations):\n",
        "  cost_history = np.zeros(iterations)\n",
        "\n",
        "  for i in range(iterations):\n",
        "    predictions = X.dot(theta)\n",
        "    errors = np.subtract(predictions, Y)\n",
        "    sum_delta = (alpha/m)*X.transpose().dot(errors)\n",
        "    theta = theta - sum_delta\n",
        "    cost_history[i] = compute_loss(X, Y, theta)\n",
        "    \n",
        "  return theta, cost_history"
      ],
      "metadata": {
        "id": "cDD6tLO-a8Oj"
      },
      "execution_count": 148,
      "outputs": []
    },
    {
      "cell_type": "code",
      "source": [
        "theta, cost_history = gradient_descent(X1, Y,theta, alpha, iterations)\n",
        "print('Final value of theta =', theta)\n",
        "print('cost_history = ', cost_history)"
      ],
      "metadata": {
        "colab": {
          "base_uri": "https://localhost:8080/"
        },
        "id": "jhXVQUT-1DvK",
        "outputId": "5f7ec75e-c1a0-45e1-894e-e92a46b1740a"
      },
      "execution_count": 149,
      "outputs": [
        {
          "output_type": "stream",
          "name": "stdout",
          "text": [
            "Final value of theta = [ 5.92794892 -2.03833663]\n",
            "cost_history =  [5.16999006 4.96338989 4.7855721  ... 0.98499308 0.98499308 0.98499308]\n"
          ]
        }
      ]
    },
    {
      "cell_type": "code",
      "source": [
        "plt.scatter(X1[:,1], Y, color = 'pink', marker = '*', label = 'training data')\n",
        "plt.plot(X1[:,1], X1.dot(theta), color = 'yellow', label = 'training data')\n",
        "\n",
        "plt.rcParams[\"figure.figsize\"] = (10,6)\n",
        "plt.grid()\n",
        "plt.xlabel('X1')\n",
        "plt.ylabel('Y')\n",
        "plt.title('X1 vs. Y')\n",
        "plt.legend()"
      ],
      "metadata": {
        "colab": {
          "base_uri": "https://localhost:8080/",
          "height": 421
        },
        "id": "lpsxkO7LA6GK",
        "outputId": "6c89cda1-0fc6-4bb2-d45a-a20ff1bbdf9e"
      },
      "execution_count": 150,
      "outputs": [
        {
          "output_type": "execute_result",
          "data": {
            "text/plain": [
              "<matplotlib.legend.Legend at 0x7f3d34641dc0>"
            ]
          },
          "metadata": {},
          "execution_count": 150
        },
        {
          "output_type": "display_data",
          "data": {
            "text/plain": [
              "<Figure size 720x432 with 1 Axes>"
            ],
            "image/png": "[encoded data removed]"
          },
          "metadata": {
            "needs_background": "light"
          }
        }
      ]
    },
    {
      "cell_type": "code",
      "source": [
        "plt.plot(range(1, iterations + 1), cost_history, color = 'pink')\n",
        "plt.rcParams[\"figure.figsize\"] = (10,6)\n",
        "plt.grid()\n",
        "plt.xlabel('Number of iterations')\n",
        "plt.ylabel('Cost(J)')\n",
        "plt.title('Convergence of gradient descent')\n"
      ],
      "metadata": {
        "colab": {
          "base_uri": "https://localhost:8080/",
          "height": 421
        },
        "id": "qgAlV2JgXdxr",
        "outputId": "0cb5a504-d526-49b8-92f0-a9cf2d9f9b77"
      },
      "execution_count": 151,
      "outputs": [
        {
          "output_type": "execute_result",
          "data": {
            "text/plain": [
              "Text(0.5, 1.0, 'Convergence of gradient descent')"
            ]
          },
          "metadata": {},
          "execution_count": 151
        },
        {
          "output_type": "display_data",
          "data": {
            "text/plain": [
              "<Figure size 720x432 with 1 Axes>"
            ],
            "image/png": "[encoded data removed]"
          },
          "metadata": {
            "needs_background": "light"
          }
        }
      ]
    },
    {
      "cell_type": "markdown",
      "source": [
        "Explanatory variable 2: X2"
      ],
      "metadata": {
        "id": "mTp98k-IZW4S"
      }
    },
    {
      "cell_type": "code",
      "source": [
        "plt.scatter(X2, Y, color = 'green', marker = '*')\n",
        "plt.grid()\n",
        "plt.rcParams[\"figure.figsize\"] = (10,6)\n",
        "plt.xlabel('X2')\n",
        "plt.ylabel('Y')\n",
        "plt.title('X2 vs. Y')"
      ],
      "metadata": {
        "colab": {
          "base_uri": "https://localhost:8080/",
          "height": 421
        },
        "id": "hRPI4cukkKtC",
        "outputId": "03b2b569-6dea-4f00-f3c5-b726eb021b16"
      },
      "execution_count": 152,
      "outputs": [
        {
          "output_type": "execute_result",
          "data": {
            "text/plain": [
              "Text(0.5, 1.0, 'X2 vs. Y')"
            ]
          },
          "metadata": {},
          "execution_count": 152
        },
        {
          "output_type": "display_data",
          "data": {
            "text/plain": [
              "<Figure size 720x432 with 1 Axes>"
            ],
            "image/png": "[encoded data removed]"
          },
          "metadata": {
            "needs_background": "light"
          }
        }
      ]
    },
    {
      "cell_type": "code",
      "source": [
        "m = len(X2)\n",
        "X2_1 = X2.reshape(m,1)\n",
        "print('X_2', X2_1[:5,:])#outputs X2's first 5 rows, X2[0] - X2[4] so doesnt include 5th row  "
      ],
      "metadata": {
        "colab": {
          "base_uri": "https://localhost:8080/"
        },
        "id": "ql-RzG_uOgie",
        "outputId": "7c2330ae-12ce-42e1-e1b8-aee1d53d3c42"
      },
      "execution_count": 153,
      "outputs": [
        {
          "output_type": "stream",
          "name": "stdout",
          "text": [
            "X_2 [[3.44      ]\n",
            " [0.1349495 ]\n",
            " [0.82989899]\n",
            " [1.52484848]\n",
            " [2.21979798]]\n"
          ]
        }
      ]
    },
    {
      "cell_type": "code",
      "source": [
        "m = len(X2)\n",
        "X2_0 = np.ones((m,1)) #1 column\n",
        "X2_0[:5], len(X2_0) #5 rows of 1s with len(X2_0) at the end"
      ],
      "metadata": {
        "colab": {
          "base_uri": "https://localhost:8080/"
        },
        "id": "arGHsjIkOvW1",
        "outputId": "21688ecc-6a3d-4fca-dbaf-cca8379aa57d"
      },
      "execution_count": 154,
      "outputs": [
        {
          "output_type": "execute_result",
          "data": {
            "text/plain": [
              "(array([[1.],\n",
              "        [1.],\n",
              "        [1.],\n",
              "        [1.],\n",
              "        [1.]]), 100)"
            ]
          },
          "metadata": {},
          "execution_count": 154
        }
      ]
    },
    {
      "cell_type": "code",
      "source": [
        "X2 = np.hstack((X2_0, X2_1))\n",
        "X2[:5] #5 rows, 2 columns"
      ],
      "metadata": {
        "colab": {
          "base_uri": "https://localhost:8080/"
        },
        "id": "wQ9PxMpGO-fd",
        "outputId": "23ac1987-d885-418e-b20b-9b1c446f6ad4"
      },
      "execution_count": 155,
      "outputs": [
        {
          "output_type": "execute_result",
          "data": {
            "text/plain": [
              "array([[1.        , 3.44      ],\n",
              "       [1.        , 0.1349495 ],\n",
              "       [1.        , 0.82989899],\n",
              "       [1.        , 1.52484848],\n",
              "       [1.        , 2.21979798]])"
            ]
          },
          "metadata": {},
          "execution_count": 155
        }
      ]
    },
    {
      "cell_type": "code",
      "source": [
        "cost = compute_loss(X2, Y, theta)\n",
        "print('The cost for given values of theta_0 and theta_1 = ', cost)"
      ],
      "metadata": {
        "colab": {
          "base_uri": "https://localhost:8080/"
        },
        "id": "izvFyPtFPWM6",
        "outputId": "efd09a9d-b2d5-4a95-bcc2-c1560e1c9855"
      },
      "execution_count": 156,
      "outputs": [
        {
          "output_type": "stream",
          "name": "stdout",
          "text": [
            "The cost for given values of theta_0 and theta_1 =  8.182525826043467\n"
          ]
        }
      ]
    },
    {
      "cell_type": "code",
      "source": [
        "theta, cost_history = gradient_descent(X2, Y,theta, alpha, iterations)\n",
        "print('Final value of theta =', theta)\n",
        "print('cost_history = ', cost_history)"
      ],
      "metadata": {
        "colab": {
          "base_uri": "https://localhost:8080/"
        },
        "id": "NqYONjdrQG-K",
        "outputId": "72231f86-b9ac-4184-fcf5-30044c6f9150"
      },
      "execution_count": 157,
      "outputs": [
        {
          "output_type": "stream",
          "name": "stdout",
          "text": [
            "Final value of theta = [0.73606043 0.55760761]\n",
            "cost_history =  [7.26987578 7.00288482 6.83790041 ... 3.59936602 3.59936602 3.59936602]\n"
          ]
        }
      ]
    },
    {
      "cell_type": "code",
      "source": [
        "plt.scatter(X2[:,1], Y, color = 'green', marker = '*', label = 'training data')\n",
        "plt.plot(X2[:,1], X2.dot(theta), color = 'orange', label = 'training data')\n",
        "\n",
        "plt.rcParams[\"figure.figsize\"] = (10,6)\n",
        "plt.grid()\n",
        "plt.xlabel('X2')\n",
        "plt.ylabel('Y')\n",
        "plt.title('X2 vs. Y')\n",
        "plt.legend()"
      ],
      "metadata": {
        "colab": {
          "base_uri": "https://localhost:8080/",
          "height": 421
        },
        "id": "N2f0SubqQOyy",
        "outputId": "e26bd529-32e8-4338-deb6-67d5e7124ecd"
      },
      "execution_count": 158,
      "outputs": [
        {
          "output_type": "execute_result",
          "data": {
            "text/plain": [
              "<matplotlib.legend.Legend at 0x7f3d344ebf10>"
            ]
          },
          "metadata": {},
          "execution_count": 158
        },
        {
          "output_type": "display_data",
          "data": {
            "text/plain": [
              "<Figure size 720x432 with 1 Axes>"
            ],
            "image/png": "[encoded data removed]"
          },
          "metadata": {
            "needs_background": "light"
          }
        }
      ]
    },
    {
      "cell_type": "code",
      "source": [
        "plt.plot(range(1, iterations + 1), cost_history, color = 'green')\n",
        "plt.rcParams[\"figure.figsize\"] = (10,6)\n",
        "plt.grid()\n",
        "plt.xlabel('Number of iterations')\n",
        "plt.ylabel('Cost(J)')\n",
        "plt.title('Convergence of gradient descent')"
      ],
      "metadata": {
        "colab": {
          "base_uri": "https://localhost:8080/",
          "height": 421
        },
        "id": "qqHRNwf3YexJ",
        "outputId": "de23d311-2586-40e8-a86e-10c87a6b4d9a"
      },
      "execution_count": 159,
      "outputs": [
        {
          "output_type": "execute_result",
          "data": {
            "text/plain": [
              "Text(0.5, 1.0, 'Convergence of gradient descent')"
            ]
          },
          "metadata": {},
          "execution_count": 159
        },
        {
          "output_type": "display_data",
          "data": {
            "text/plain": [
              "<Figure size 720x432 with 1 Axes>"
            ],
            "image/png": "[encoded data removed]"
          },
          "metadata": {
            "needs_background": "light"
          }
        }
      ]
    },
    {
      "cell_type": "markdown",
      "source": [
        "Explanatory variable 3: X3"
      ],
      "metadata": {
        "id": "I12mGjEWZcK8"
      }
    },
    {
      "cell_type": "code",
      "source": [
        "plt.scatter(X3, Y, color = 'purple', marker = '*')\n",
        "plt.grid()\n",
        "plt.rcParams[\"figure.figsize\"] = (10,6)\n",
        "plt.xlabel('X3')\n",
        "plt.ylabel('Y')\n",
        "plt.title('X3 vs. Y')"
      ],
      "metadata": {
        "colab": {
          "base_uri": "https://localhost:8080/",
          "height": 421
        },
        "id": "xX7sx3WVkeIE",
        "outputId": "62d9e351-fe30-4125-ea6a-b5f0ca5c726d"
      },
      "execution_count": 160,
      "outputs": [
        {
          "output_type": "execute_result",
          "data": {
            "text/plain": [
              "Text(0.5, 1.0, 'X3 vs. Y')"
            ]
          },
          "metadata": {},
          "execution_count": 160
        },
        {
          "output_type": "display_data",
          "data": {
            "text/plain": [
              "<Figure size 720x432 with 1 Axes>"
            ],
            "image/png": "[encoded data removed]"
          },
          "metadata": {
            "needs_background": "light"
          }
        }
      ]
    },
    {
      "cell_type": "code",
      "source": [
        "m = len(X3)\n",
        "X3_1 = X3.reshape(m,1)\n",
        "print('X_3', X3_1[:5,:])#outputs X3's first 5 rows, X3[0] - X3[4] so doesnt include 5th row "
      ],
      "metadata": {
        "colab": {
          "base_uri": "https://localhost:8080/"
        },
        "id": "02yJrP82RcYQ",
        "outputId": "e5773c10-1c33-45fc-f19f-921a9bc53570"
      },
      "execution_count": 161,
      "outputs": [
        {
          "output_type": "stream",
          "name": "stdout",
          "text": [
            "X_3 [[0.44      ]\n",
            " [0.88848485]\n",
            " [1.3369697 ]\n",
            " [1.78545454]\n",
            " [2.23393939]]\n"
          ]
        }
      ]
    },
    {
      "cell_type": "code",
      "source": [
        "m = len(X3)\n",
        "X3_0 = np.ones((m,1))#1 column\n",
        "X3_0[:5], len(X3_0) #5 rows pf 1s with len(X3_0) at the end"
      ],
      "metadata": {
        "colab": {
          "base_uri": "https://localhost:8080/"
        },
        "id": "xV_dqfvBR6OG",
        "outputId": "45135491-98de-445d-d474-015474145c26"
      },
      "execution_count": 162,
      "outputs": [
        {
          "output_type": "execute_result",
          "data": {
            "text/plain": [
              "(array([[1.],\n",
              "        [1.],\n",
              "        [1.],\n",
              "        [1.],\n",
              "        [1.]]), 100)"
            ]
          },
          "metadata": {},
          "execution_count": 162
        }
      ]
    },
    {
      "cell_type": "code",
      "source": [
        "X3 = np.hstack((X3_0, X3_1))\n",
        "X3[:5] #5 rows, 2 columns"
      ],
      "metadata": {
        "colab": {
          "base_uri": "https://localhost:8080/"
        },
        "id": "KQ76a3kmSKPw",
        "outputId": "dfa52211-0e10-4dfe-bbba-93a101223ef0"
      },
      "execution_count": 163,
      "outputs": [
        {
          "output_type": "execute_result",
          "data": {
            "text/plain": [
              "array([[1.        , 0.44      ],\n",
              "       [1.        , 0.88848485],\n",
              "       [1.        , 1.3369697 ],\n",
              "       [1.        , 1.78545454],\n",
              "       [1.        , 2.23393939]])"
            ]
          },
          "metadata": {},
          "execution_count": 163
        }
      ]
    },
    {
      "cell_type": "code",
      "source": [
        "t = np.array([2.78048129 ,-0.48451631])\n",
        "# b + w1 * x example -> 2.7 + (-0.48)(0.44) = 2.7 + -0.21\n",
        "print((X3*t)[:5])"
      ],
      "metadata": {
        "colab": {
          "base_uri": "https://localhost:8080/"
        },
        "id": "2c9-TPQakixc",
        "outputId": "c6cf3762-7216-40ce-8a1d-995803d88230"
      },
      "execution_count": 164,
      "outputs": [
        {
          "output_type": "stream",
          "name": "stdout",
          "text": [
            "[[ 2.78048129 -0.21318718]\n",
            " [ 2.78048129 -0.4304854 ]\n",
            " [ 2.78048129 -0.64778362]\n",
            " [ 2.78048129 -0.86508185]\n",
            " [ 2.78048129 -1.08238007]]\n"
          ]
        }
      ]
    },
    {
      "cell_type": "code",
      "source": [
        "print((X3.dot(t))[:5])"
      ],
      "metadata": {
        "colab": {
          "base_uri": "https://localhost:8080/"
        },
        "id": "u8WY0_0wlvEW",
        "outputId": "9901b60f-9b10-48af-faf1-04dfe239d296"
      },
      "execution_count": 165,
      "outputs": [
        {
          "output_type": "stream",
          "name": "stdout",
          "text": [
            "[2.56729411 2.34999589 2.13269767 1.91539944 1.69810122]\n"
          ]
        }
      ]
    },
    {
      "cell_type": "code",
      "source": [
        "cost = compute_loss(X3, Y, theta)\n",
        "print('The cost for given values of theta_0 and theta_1 = ', cost)"
      ],
      "metadata": {
        "colab": {
          "base_uri": "https://localhost:8080/"
        },
        "id": "MkrMbHeLSfOV",
        "outputId": "7c781c84-3cb1-4d2e-e7b0-16cd742bbb4c"
      },
      "execution_count": 166,
      "outputs": [
        {
          "output_type": "stream",
          "name": "stdout",
          "text": [
            "The cost for given values of theta_0 and theta_1 =  4.407877431359302\n"
          ]
        }
      ]
    },
    {
      "cell_type": "code",
      "source": [
        "theta, cost_history = gradient_descent(X3, Y,theta, alpha, iterations)\n",
        "print('Final value of theta =', theta)\n",
        "print('cost_history = ', cost_history)"
      ],
      "metadata": {
        "colab": {
          "base_uri": "https://localhost:8080/"
        },
        "id": "D04x5VI3W2Ik",
        "outputId": "133fe9f0-cf04-41d9-b51d-84d394c7db33"
      },
      "execution_count": 167,
      "outputs": [
        {
          "output_type": "stream",
          "name": "stdout",
          "text": [
            "Final value of theta = [ 2.8714221  -0.52048288]\n",
            "cost_history =  [4.26200819 4.21568729 4.18664662 ... 3.62945112 3.62945112 3.62945112]\n"
          ]
        }
      ]
    },
    {
      "cell_type": "code",
      "source": [
        "plt.scatter(X3[:,1], Y, color = 'purple', marker = '*', label = 'training data')\n",
        "plt.plot(X3[:,1], X3.dot(theta), color = 'red', label = 'training data')\n",
        "\n",
        "plt.rcParams[\"figure.figsize\"] = (10,6)\n",
        "plt.grid()\n",
        "plt.xlabel('X3')\n",
        "plt.ylabel('Y')\n",
        "plt.title('X3 vs. Y')\n",
        "plt.legend()"
      ],
      "metadata": {
        "colab": {
          "base_uri": "https://localhost:8080/",
          "height": 421
        },
        "id": "Rxzz6KAXXCTf",
        "outputId": "4f3a5d3a-5c80-4f57-ed72-283f2eea0b97"
      },
      "execution_count": 168,
      "outputs": [
        {
          "output_type": "execute_result",
          "data": {
            "text/plain": [
              "<matplotlib.legend.Legend at 0x7f3d33fb6df0>"
            ]
          },
          "metadata": {},
          "execution_count": 168
        },
        {
          "output_type": "display_data",
          "data": {
            "text/plain": [
              "<Figure size 720x432 with 1 Axes>"
            ],
            "image/png": "[encoded data removed]"
          },
          "metadata": {
            "needs_background": "light"
          }
        }
      ]
    },
    {
      "cell_type": "code",
      "source": [
        "plt.plot(range(1, iterations + 1), cost_history, color = 'purple')\n",
        "plt.rcParams[\"figure.figsize\"] = (10,6)\n",
        "plt.grid()\n",
        "plt.xlabel('Number of iterations')\n",
        "plt.ylabel('Cost(J)')\n",
        "plt.title('Convergence of gradient descent')"
      ],
      "metadata": {
        "colab": {
          "base_uri": "https://localhost:8080/",
          "height": 421
        },
        "id": "BkaZdpxIYomE",
        "outputId": "e2165024-c36b-4e28-d474-fbbbf4585bf1"
      },
      "execution_count": 169,
      "outputs": [
        {
          "output_type": "execute_result",
          "data": {
            "text/plain": [
              "Text(0.5, 1.0, 'Convergence of gradient descent')"
            ]
          },
          "metadata": {},
          "execution_count": 169
        },
        {
          "output_type": "display_data",
          "data": {
            "text/plain": [
              "<Figure size 720x432 with 1 Axes>"
            ],
            "image/png": "[encoded data removed]"
          },
          "metadata": {
            "needs_background": "light"
          }
        }
      ]
    },
    {
      "cell_type": "code",
      "source": [
        "#print(X1[:,1:])\n",
        "plt.scatter(X1[:,1], Y, color = 'pink', marker = '*')\n",
        "#print(X2)\n",
        "plt.scatter(X2[:,1], Y, color = 'green', marker = '*')\n",
        "plt.scatter(X3[:,1], Y, color = 'purple', marker = '*')\n",
        "plt.grid()\n",
        "plt.rcParams[\"figure.figsize\"] = (10,6)\n",
        "plt.xlabel('X1, X2, X3')\n",
        "plt.ylabel('Y')\n",
        "plt.title('X1,X2,X3 vs. Y')"
      ],
      "metadata": {
        "colab": {
          "base_uri": "https://localhost:8080/",
          "height": 421
        },
        "id": "eNKiSol14KI_",
        "outputId": "b91d2ac4-e5ae-4755-daaa-36407fb71017"
      },
      "execution_count": 170,
      "outputs": [
        {
          "output_type": "execute_result",
          "data": {
            "text/plain": [
              "Text(0.5, 1.0, 'X1,X2,X3 vs. Y')"
            ]
          },
          "metadata": {},
          "execution_count": 170
        },
        {
          "output_type": "display_data",
          "data": {
            "text/plain": [
              "<Figure size 720x432 with 1 Axes>"
            ],
            "image/png": "[encoded data removed]"
          },
          "metadata": {
            "needs_background": "light"
          }
        }
      ]
    },
    {
      "cell_type": "code",
      "source": [
        "m = len(X3)\n",
        "X1 = df.values[:, 0] #gets input from 1st column\n",
        "X2 = df.values[:, 1] #gets input from 2nd column\n",
        "X3 = df.values[:, 2] #gets input from 3rd column\n",
        "X1_1 = X1.reshape(m,1)\n",
        "X2_1 = X2.reshape(m,1)\n",
        "X3_1 = X3.reshape(m,1)\n",
        "print('X_1', X1_1[:5,:])\n",
        "print('X_2', X2_1[:5,:])\n",
        "print('X_3', X3_1[:5,:])#outputs X3's first 5 rows, X3[0] - X3[4] so doesnt include 5th row "
      ],
      "metadata": {
        "colab": {
          "base_uri": "https://localhost:8080/"
        },
        "id": "JFKwtfI-L6aZ",
        "outputId": "d6cc2261-c632-462f-b09b-09bd10bba1e4"
      },
      "execution_count": 171,
      "outputs": [
        {
          "output_type": "stream",
          "name": "stdout",
          "text": [
            "X_1 [[0.        ]\n",
            " [0.04040404]\n",
            " [0.08080808]\n",
            " [0.12121212]\n",
            " [0.16161616]]\n",
            "X_2 [[3.44      ]\n",
            " [0.1349495 ]\n",
            " [0.82989899]\n",
            " [1.52484848]\n",
            " [2.21979798]]\n",
            "X_3 [[0.44      ]\n",
            " [0.88848485]\n",
            " [1.3369697 ]\n",
            " [1.78545454]\n",
            " [2.23393939]]\n"
          ]
        }
      ]
    },
    {
      "cell_type": "code",
      "source": [
        "X_0 = np.ones((m,1))#1 column\n",
        "X_0[:5], len(X_0) #5 rows of 1s with len(X3_0) at the end"
      ],
      "metadata": {
        "colab": {
          "base_uri": "https://localhost:8080/"
        },
        "id": "UoqjzgLpOFRr",
        "outputId": "1b578297-8a2b-42a2-d2c9-499bdc0f0132"
      },
      "execution_count": 172,
      "outputs": [
        {
          "output_type": "execute_result",
          "data": {
            "text/plain": [
              "(array([[1.],\n",
              "        [1.],\n",
              "        [1.],\n",
              "        [1.],\n",
              "        [1.]]), 100)"
            ]
          },
          "metadata": {},
          "execution_count": 172
        }
      ]
    },
    {
      "cell_type": "code",
      "source": [
        "X = np.hstack((X_0, X1_1, X2_1, X3_1))\n",
        "X[:5] #5 rows, 2 columns"
      ],
      "metadata": {
        "colab": {
          "base_uri": "https://localhost:8080/"
        },
        "id": "zAVsyYzsOXrI",
        "outputId": "f47a62db-3556-4fb0-94cc-a4315f1b6b33"
      },
      "execution_count": 173,
      "outputs": [
        {
          "output_type": "execute_result",
          "data": {
            "text/plain": [
              "array([[1.        , 0.        , 3.44      , 0.44      ],\n",
              "       [1.        , 0.04040404, 0.1349495 , 0.88848485],\n",
              "       [1.        , 0.08080808, 0.82989899, 1.3369697 ],\n",
              "       [1.        , 0.12121212, 1.52484848, 1.78545454],\n",
              "       [1.        , 0.16161616, 2.21979798, 2.23393939]])"
            ]
          },
          "metadata": {},
          "execution_count": 173
        }
      ]
    },
    {
      "cell_type": "code",
      "source": [
        "theta = np.zeros(4) #needs to have the same amnt of columns as X3\n",
        "iterations = 1500\n",
        "alpha = 0.01 #learning rate\n",
        "theta.shape"
      ],
      "metadata": {
        "colab": {
          "base_uri": "https://localhost:8080/"
        },
        "id": "L1pGi7sdQFV3",
        "outputId": "30c1c4b0-8e32-4255-a3fd-99a4bf800628"
      },
      "execution_count": 174,
      "outputs": [
        {
          "output_type": "execute_result",
          "data": {
            "text/plain": [
              "(4,)"
            ]
          },
          "metadata": {},
          "execution_count": 174
        }
      ]
    },
    {
      "cell_type": "code",
      "source": [
        "theta, cost_history = gradient_descent(X, Y,theta, alpha, iterations)\n",
        "print('Final value of theta =', theta)\n",
        "print('cost_history = ', cost_history)"
      ],
      "metadata": {
        "colab": {
          "base_uri": "https://localhost:8080/"
        },
        "id": "DVFTV4PXRowm",
        "outputId": "77d95453-895e-47c4-d107-881d3649cfa0"
      },
      "execution_count": 175,
      "outputs": [
        {
          "output_type": "stream",
          "name": "stdout",
          "text": [
            "Final value of theta = [ 4.15118728 -1.8394291   0.72473856 -0.09513266]\n",
            "cost_history =  [5.21542243 4.97171977 4.7765543  ... 0.81079843 0.81065429 0.81051044]\n"
          ]
        }
      ]
    },
    {
      "cell_type": "code",
      "source": [
        "plt.plot(range(1, iterations + 1), cost_history, color = 'orange')\n",
        "plt.rcParams[\"figure.figsize\"] = (10,6)\n",
        "plt.grid()\n",
        "plt.xlabel('Number of iterations')\n",
        "plt.ylabel('Cost(J)')\n",
        "plt.title('Convergence of gradient descent')"
      ],
      "metadata": {
        "colab": {
          "base_uri": "https://localhost:8080/",
          "height": 421
        },
        "id": "UeMk7oOgSveA",
        "outputId": "ce5f3430-d4e4-4151-be3a-2951f6f8cd28"
      },
      "execution_count": 176,
      "outputs": [
        {
          "output_type": "execute_result",
          "data": {
            "text/plain": [
              "Text(0.5, 1.0, 'Convergence of gradient descent')"
            ]
          },
          "metadata": {},
          "execution_count": 176
        },
        {
          "output_type": "display_data",
          "data": {
            "text/plain": [
              "<Figure size 720x432 with 1 Axes>"
            ],
            "image/png": "[encoded data removed]"
          },
          "metadata": {
            "needs_background": "light"
          }
        }
      ]
    },
    {
      "cell_type": "markdown",
      "source": [
        "4. Predict the value of y for new (X1, X2, X3) values (1, 1, 1), for (2, 0, 4), and for (3, 2, 1)"
      ],
      "metadata": {
        "id": "AAgKe2AdTdzw"
      }
    },
    {
      "cell_type": "code",
      "source": [
        "# b + w1*x1 + w2*x2 + w3*x3 = y/predition\n",
        "# theta = [b,w1,w2,w3]\n",
        "predX = np.array([1, 1, 1, 1])\n",
        "predX2 = np.array([1, 2, 0, 4])\n",
        "predX3 = np.array([1, 3, 2, 1])\n",
        "print(predX.dot(theta))\n",
        "print(predX2.dot(theta))\n",
        "print(predX3.dot(theta))"
      ],
      "metadata": {
        "colab": {
          "base_uri": "https://localhost:8080/"
        },
        "id": "CDnEyEaSTegB",
        "outputId": "84ec65b4-5da2-49c6-987c-7e3eb2534815"
      },
      "execution_count": 177,
      "outputs": [
        {
          "output_type": "stream",
          "name": "stdout",
          "text": [
            "2.9413640816645295\n",
            "0.09179843075891586\n",
            "-0.012755552822328889\n"
          ]
        }
      ]
    }
  ]
}