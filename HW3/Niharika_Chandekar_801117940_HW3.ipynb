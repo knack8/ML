{
  "nbformat": 4,
  "nbformat_minor": 0,
  "metadata": {
    "colab": {
      "provenance": []
    },
    "kernelspec": {
      "name": "python3",
      "display_name": "Python 3"
    },
    "language_info": {
      "name": "python"
    }
  },
  "cells": [
    {
      "cell_type": "code",
      "source": [
        "from sklearn.datasets import load_breast_cancer\n",
        "from sklearn.model_selection import train_test_split\n",
        "from sklearn.naive_bayes import GaussianNB\n",
        "from sklearn import metrics\n",
        "from sklearn.metrics import precision_score, accuracy_score, recall_score, classification_report, confusion_matrix\n",
        "import pandas as pd\n",
        "import matplotlib.pyplot as plt\n",
        "import seaborn as sns\n",
        "from sklearn.preprocessing import StandardScaler\n",
        "\n",
        "#loads cancer dataset\n",
        "breast = load_breast_cancer()\n",
        "X = breast.data\n",
        "Y = breast.target\n",
        "print(X.shape)\n",
        "\n",
        "breast_input = pd.DataFrame(X)\n",
        "breast_input.head()"
      ],
      "metadata": {
        "colab": {
          "base_uri": "https://localhost:8080/",
          "height": 317
        },
        "id": "ff9pPA_bLNju",
        "outputId": "2bbc5e61-5258-48e1-fe97-19cfcb83d97f"
      },
      "execution_count": 200,
      "outputs": [
        {
          "output_type": "stream",
          "name": "stdout",
          "text": [
            "(569, 30)\n"
          ]
        },
        {
          "output_type": "execute_result",
          "data": {
            "text/plain": [
              "      0      1       2       3        4        5       6        7       8   \\\n",
              "0  17.99  10.38  122.80  1001.0  0.11840  0.27760  0.3001  0.14710  0.2419   \n",
              "1  20.57  17.77  132.90  1326.0  0.08474  0.07864  0.0869  0.07017  0.1812   \n",
              "2  19.69  21.25  130.00  1203.0  0.10960  0.15990  0.1974  0.12790  0.2069   \n",
              "3  11.42  20.38   77.58   386.1  0.14250  0.28390  0.2414  0.10520  0.2597   \n",
              "4  20.29  14.34  135.10  1297.0  0.10030  0.13280  0.1980  0.10430  0.1809   \n",
              "\n",
              "        9   ...     20     21      22      23      24      25      26      27  \\\n",
              "0  0.07871  ...  25.38  17.33  184.60  2019.0  0.1622  0.6656  0.7119  0.2654   \n",
              "1  0.05667  ...  24.99  23.41  158.80  1956.0  0.1238  0.1866  0.2416  0.1860   \n",
              "2  0.05999  ...  23.57  25.53  152.50  1709.0  0.1444  0.4245  0.4504  0.2430   \n",
              "3  0.09744  ...  14.91  26.50   98.87   567.7  0.2098  0.8663  0.6869  0.2575   \n",
              "4  0.05883  ...  22.54  16.67  152.20  1575.0  0.1374  0.2050  0.4000  0.1625   \n",
              "\n",
              "       28       29  \n",
              "0  0.4601  0.11890  \n",
              "1  0.2750  0.08902  \n",
              "2  0.3613  0.08758  \n",
              "3  0.6638  0.17300  \n",
              "4  0.2364  0.07678  \n",
              "\n",
              "[5 rows x 30 columns]"
            ],
            "text/html": [
              "\n",
              "  <div id=\"df-cda38d26-a420-4f54-82f6-2511bd49adc6\">\n",
              "    <div class=\"colab-df-container\">\n",
              "      <div>\n",
              "<style scoped>\n",
              "    .dataframe tbody tr th:only-of-type {\n",
              "        vertical-align: middle;\n",
              "    }\n",
              "\n",
              "    .dataframe tbody tr th {\n",
              "        vertical-align: top;\n",
              "    }\n",
              "\n",
              "    .dataframe thead th {\n",
              "        text-align: right;\n",
              "    }\n",
              "</style>\n",
              "<table border=\"1\" class=\"dataframe\">\n",
              "  <thead>\n",
              "    <tr style=\"text-align: right;\">\n",
              "      <th></th>\n",
              "      <th>0</th>\n",
              "      <th>1</th>\n",
              "      <th>2</th>\n",
              "      <th>3</th>\n",
              "      <th>4</th>\n",
              "      <th>5</th>\n",
              "      <th>6</th>\n",
              "      <th>7</th>\n",
              "      <th>8</th>\n",
              "      <th>9</th>\n",
              "      <th>...</th>\n",
              "      <th>20</th>\n",
              "      <th>21</th>\n",
              "      <th>22</th>\n",
              "      <th>23</th>\n",
              "      <th>24</th>\n",
              "      <th>25</th>\n",
              "      <th>26</th>\n",
              "      <th>27</th>\n",
              "      <th>28</th>\n",
              "      <th>29</th>\n",
              "    </tr>\n",
              "  </thead>\n",
              "  <tbody>\n",
              "    <tr>\n",
              "      <th>0</th>\n",
              "      <td>17.99</td>\n",
              "      <td>10.38</td>\n",
              "      <td>122.80</td>\n",
              "      <td>1001.0</td>\n",
              "      <td>0.11840</td>\n",
              "      <td>0.27760</td>\n",
              "      <td>0.3001</td>\n",
              "      <td>0.14710</td>\n",
              "      <td>0.2419</td>\n",
              "      <td>0.07871</td>\n",
              "      <td>...</td>\n",
              "      <td>25.38</td>\n",
              "      <td>17.33</td>\n",
              "      <td>184.60</td>\n",
              "      <td>2019.0</td>\n",
              "      <td>0.1622</td>\n",
              "      <td>0.6656</td>\n",
              "      <td>0.7119</td>\n",
              "      <td>0.2654</td>\n",
              "      <td>0.4601</td>\n",
              "      <td>0.11890</td>\n",
              "    </tr>\n",
              "    <tr>\n",
              "      <th>1</th>\n",
              "      <td>20.57</td>\n",
              "      <td>17.77</td>\n",
              "      <td>132.90</td>\n",
              "      <td>1326.0</td>\n",
              "      <td>0.08474</td>\n",
              "      <td>0.07864</td>\n",
              "      <td>0.0869</td>\n",
              "      <td>0.07017</td>\n",
              "      <td>0.1812</td>\n",
              "      <td>0.05667</td>\n",
              "      <td>...</td>\n",
              "      <td>24.99</td>\n",
              "      <td>23.41</td>\n",
              "      <td>158.80</td>\n",
              "      <td>1956.0</td>\n",
              "      <td>0.1238</td>\n",
              "      <td>0.1866</td>\n",
              "      <td>0.2416</td>\n",
              "      <td>0.1860</td>\n",
              "      <td>0.2750</td>\n",
              "      <td>0.08902</td>\n",
              "    </tr>\n",
              "    <tr>\n",
              "      <th>2</th>\n",
              "      <td>19.69</td>\n",
              "      <td>21.25</td>\n",
              "      <td>130.00</td>\n",
              "      <td>1203.0</td>\n",
              "      <td>0.10960</td>\n",
              "      <td>0.15990</td>\n",
              "      <td>0.1974</td>\n",
              "      <td>0.12790</td>\n",
              "      <td>0.2069</td>\n",
              "      <td>0.05999</td>\n",
              "      <td>...</td>\n",
              "      <td>23.57</td>\n",
              "      <td>25.53</td>\n",
              "      <td>152.50</td>\n",
              "      <td>1709.0</td>\n",
              "      <td>0.1444</td>\n",
              "      <td>0.4245</td>\n",
              "      <td>0.4504</td>\n",
              "      <td>0.2430</td>\n",
              "      <td>0.3613</td>\n",
              "      <td>0.08758</td>\n",
              "    </tr>\n",
              "    <tr>\n",
              "      <th>3</th>\n",
              "      <td>11.42</td>\n",
              "      <td>20.38</td>\n",
              "      <td>77.58</td>\n",
              "      <td>386.1</td>\n",
              "      <td>0.14250</td>\n",
              "      <td>0.28390</td>\n",
              "      <td>0.2414</td>\n",
              "      <td>0.10520</td>\n",
              "      <td>0.2597</td>\n",
              "      <td>0.09744</td>\n",
              "      <td>...</td>\n",
              "      <td>14.91</td>\n",
              "      <td>26.50</td>\n",
              "      <td>98.87</td>\n",
              "      <td>567.7</td>\n",
              "      <td>0.2098</td>\n",
              "      <td>0.8663</td>\n",
              "      <td>0.6869</td>\n",
              "      <td>0.2575</td>\n",
              "      <td>0.6638</td>\n",
              "      <td>0.17300</td>\n",
              "    </tr>\n",
              "    <tr>\n",
              "      <th>4</th>\n",
              "      <td>20.29</td>\n",
              "      <td>14.34</td>\n",
              "      <td>135.10</td>\n",
              "      <td>1297.0</td>\n",
              "      <td>0.10030</td>\n",
              "      <td>0.13280</td>\n",
              "      <td>0.1980</td>\n",
              "      <td>0.10430</td>\n",
              "      <td>0.1809</td>\n",
              "      <td>0.05883</td>\n",
              "      <td>...</td>\n",
              "      <td>22.54</td>\n",
              "      <td>16.67</td>\n",
              "      <td>152.20</td>\n",
              "      <td>1575.0</td>\n",
              "      <td>0.1374</td>\n",
              "      <td>0.2050</td>\n",
              "      <td>0.4000</td>\n",
              "      <td>0.1625</td>\n",
              "      <td>0.2364</td>\n",
              "      <td>0.07678</td>\n",
              "    </tr>\n",
              "  </tbody>\n",
              "</table>\n",
              "<p>5 rows × 30 columns</p>\n",
              "</div>\n",
              "      <button class=\"colab-df-convert\" onclick=\"convertToInteractive('df-cda38d26-a420-4f54-82f6-2511bd49adc6')\"\n",
              "              title=\"Convert this dataframe to an interactive table.\"\n",
              "              style=\"display:none;\">\n",
              "        \n",
              "  <svg xmlns=\"http://www.w3.org/2000/svg\" height=\"24px\"viewBox=\"0 0 24 24\"\n",
              "       width=\"24px\">\n",
              "    <path d=\"M0 0h24v24H0V0z\" fill=\"none\"/>\n",
              "    <path d=\"M18.56 5.44l.94 2.06.94-2.06 2.06-.94-2.06-.94-.94-2.06-.94 2.06-2.06.94zm-11 1L8.5 8.5l.94-2.06 2.06-.94-2.06-.94L8.5 2.5l-.94 2.06-2.06.94zm10 10l.94 2.06.94-2.06 2.06-.94-2.06-.94-.94-2.06-.94 2.06-2.06.94z\"/><path d=\"M17.41 7.96l-1.37-1.37c-.4-.4-.92-.59-1.43-.59-.52 0-1.04.2-1.43.59L10.3 9.45l-7.72 7.72c-.78.78-.78 2.05 0 2.83L4 21.41c.39.39.9.59 1.41.59.51 0 1.02-.2 1.41-.59l7.78-7.78 2.81-2.81c.8-.78.8-2.07 0-2.86zM5.41 20L4 18.59l7.72-7.72 1.47 1.35L5.41 20z\"/>\n",
              "  </svg>\n",
              "      </button>\n",
              "      \n",
              "  <style>\n",
              "    .colab-df-container {\n",
              "      display:flex;\n",
              "      flex-wrap:wrap;\n",
              "      gap: 12px;\n",
              "    }\n",
              "\n",
              "    .colab-df-convert {\n",
              "      background-color: #E8F0FE;\n",
              "      border: none;\n",
              "      border-radius: 50%;\n",
              "      cursor: pointer;\n",
              "      display: none;\n",
              "      fill: #1967D2;\n",
              "      height: 32px;\n",
              "      padding: 0 0 0 0;\n",
              "      width: 32px;\n",
              "    }\n",
              "\n",
              "    .colab-df-convert:hover {\n",
              "      background-color: #E2EBFA;\n",
              "      box-shadow: 0px 1px 2px rgba(60, 64, 67, 0.3), 0px 1px 3px 1px rgba(60, 64, 67, 0.15);\n",
              "      fill: #174EA6;\n",
              "    }\n",
              "\n",
              "    [theme=dark] .colab-df-convert {\n",
              "      background-color: #3B4455;\n",
              "      fill: #D2E3FC;\n",
              "    }\n",
              "\n",
              "    [theme=dark] .colab-df-convert:hover {\n",
              "      background-color: #434B5C;\n",
              "      box-shadow: 0px 1px 3px 1px rgba(0, 0, 0, 0.15);\n",
              "      filter: drop-shadow(0px 1px 2px rgba(0, 0, 0, 0.3));\n",
              "      fill: #FFFFFF;\n",
              "    }\n",
              "  </style>\n",
              "\n",
              "      <script>\n",
              "        const buttonEl =\n",
              "          document.querySelector('#df-cda38d26-a420-4f54-82f6-2511bd49adc6 button.colab-df-convert');\n",
              "        buttonEl.style.display =\n",
              "          google.colab.kernel.accessAllowed ? 'block' : 'none';\n",
              "\n",
              "        async function convertToInteractive(key) {\n",
              "          const element = document.querySelector('#df-cda38d26-a420-4f54-82f6-2511bd49adc6');\n",
              "          const dataTable =\n",
              "            await google.colab.kernel.invokeFunction('convertToInteractive',\n",
              "                                                     [key], {});\n",
              "          if (!dataTable) return;\n",
              "\n",
              "          const docLinkHtml = 'Like what you see? Visit the ' +\n",
              "            '<a target=\"_blank\" href=https://colab.research.google.com/notebooks/data_table.ipynb>data table notebook</a>'\n",
              "            + ' to learn more about interactive tables.';\n",
              "          element.innerHTML = '';\n",
              "          dataTable['output_type'] = 'display_data';\n",
              "          await google.colab.output.renderOutput(dataTable, element);\n",
              "          const docLink = document.createElement('div');\n",
              "          docLink.innerHTML = docLinkHtml;\n",
              "          element.appendChild(docLink);\n",
              "        }\n",
              "      </script>\n",
              "    </div>\n",
              "  </div>\n",
              "  "
            ]
          },
          "metadata": {},
          "execution_count": 200
        }
      ]
    },
    {
      "cell_type": "code",
      "source": [
        "#splits data into test and training sets\n",
        "X_train, X_test, y_train, y_test  = train_test_split(X,Y, test_size = 0.2, random_state = 42)"
      ],
      "metadata": {
        "id": "yiOy9yU7O1S2"
      },
      "execution_count": 201,
      "outputs": []
    },
    {
      "cell_type": "code",
      "source": [
        "#scales features using standardscaler\n",
        "scaler = StandardScaler()\n",
        "X_train = scaler.fit_transform(X_train)\n",
        "X_test = scaler.transform(X_test)"
      ],
      "metadata": {
        "id": "l7hy8iS7ymYP"
      },
      "execution_count": 202,
      "outputs": []
    },
    {
      "cell_type": "code",
      "source": [
        "#trains a naive bayes classifier\n",
        "model = GaussianNB()\n",
        "model.fit(X_train, y_train)\n",
        "\n",
        "#makes prediction on test set\n",
        "y_pred = model.predict(X_test) "
      ],
      "metadata": {
        "id": "OB1YmsQbPuDS"
      },
      "execution_count": 203,
      "outputs": []
    },
    {
      "cell_type": "code",
      "source": [
        "#Calculation metrics\n",
        "accuracy = accuracy_score(y_test, y_pred)\n",
        "precision = precision_score(y_test, y_pred)\n",
        "recall = recall_score(y_test, y_pred)"
      ],
      "metadata": {
        "id": "9N4nSfHpQw4o"
      },
      "execution_count": 204,
      "outputs": []
    },
    {
      "cell_type": "code",
      "source": [
        "print(classification_report(y_test, y_pred))\n",
        "print(\"Accuracy:\", accuracy)\n",
        "print(\"Recall:\", recall)\n",
        "print(\"precision:\", precision)"
      ],
      "metadata": {
        "colab": {
          "base_uri": "https://localhost:8080/"
        },
        "id": "3vW_mkjvRwCw",
        "outputId": "f6b4c3f5-47b6-4b48-f9bb-ee79d038a521"
      },
      "execution_count": 205,
      "outputs": [
        {
          "output_type": "stream",
          "name": "stdout",
          "text": [
            "              precision    recall  f1-score   support\n",
            "\n",
            "           0       0.98      0.93      0.95        43\n",
            "           1       0.96      0.99      0.97        71\n",
            "\n",
            "    accuracy                           0.96       114\n",
            "   macro avg       0.97      0.96      0.96       114\n",
            "weighted avg       0.97      0.96      0.96       114\n",
            "\n",
            "Accuracy: 0.9649122807017544\n",
            "Recall: 0.9859154929577465\n",
            "precision: 0.958904109589041\n"
          ]
        }
      ]
    },
    {
      "cell_type": "code",
      "source": [
        "# Plot the confusion matrix\n",
        "cm = confusion_matrix(y_test, y_pred)\n",
        "sns.heatmap(cm, annot=True, cmap=\"Blues\")\n",
        "plt.title('Confusion Matrix')\n",
        "plt.ylabel('Actual label')\n",
        "plt.xlabel('Actual label')"
      ],
      "metadata": {
        "colab": {
          "base_uri": "https://localhost:8080/",
          "height": 489
        },
        "id": "9B0EIxu5jRFL",
        "outputId": "fe600e62-e069-436c-faee-414bf1e6b6ba"
      },
      "execution_count": 206,
      "outputs": [
        {
          "output_type": "execute_result",
          "data": {
            "text/plain": [
              "Text(0.5, 23.52222222222222, 'Actual label')"
            ]
          },
          "metadata": {},
          "execution_count": 206
        },
        {
          "output_type": "display_data",
          "data": {
            "text/plain": [
              "<Figure size 640x480 with 2 Axes>"
            ],
            "image/png": "[encoded data removed]"
          },
          "metadata": {}
        }
      ]
    },
    {
      "cell_type": "markdown",
      "source": [
        "Problem 2"
      ],
      "metadata": {
        "id": "3ERLbMzdTHwV"
      }
    },
    {
      "cell_type": "code",
      "source": [
        "from sklearn.decomposition import PCA\n",
        "from sklearn.linear_model import LogisticRegression\n",
        "import numpy as np\n",
        "import warnings \n",
        "warnings.filterwarnings('ignore')\n",
        "# pca = PCA(n_components=2)\n",
        "# principalComponents = pca.fit_transform(X) #in this case X = breast.data\n",
        "# principalDf = pd.DataFrame(data = principalComponents, columns = ['principal component 1', 'principal component 2'])"
      ],
      "metadata": {
        "id": "H1Bq6gGgY5kn"
      },
      "execution_count": 207,
      "outputs": []
    },
    {
      "cell_type": "code",
      "source": [
        "#splits data into test and training sets\n",
        "X_train, X_test, y_train, y_test  = train_test_split(X,Y, test_size = 0.2, random_state = 42)"
      ],
      "metadata": {
        "id": "x_bdwMjDZHlO"
      },
      "execution_count": 208,
      "outputs": []
    },
    {
      "cell_type": "code",
      "source": [
        "Ks = range(0,30)\n",
        "accuracies = []\n",
        "precisions = []\n",
        "recalls = []\n",
        "\n",
        "print(X_train)"
      ],
      "metadata": {
        "id": "2sYw1rzzZaoX",
        "colab": {
          "base_uri": "https://localhost:8080/"
        },
        "outputId": "6ddcda2c-6ef8-42ae-f1e3-6224aaa506b5"
      },
      "execution_count": 209,
      "outputs": [
        {
          "output_type": "stream",
          "name": "stdout",
          "text": [
            "[[9.029e+00 1.733e+01 5.879e+01 ... 1.750e-01 4.228e-01 1.175e-01]\n",
            " [2.109e+01 2.657e+01 1.427e+02 ... 2.903e-01 4.098e-01 1.284e-01]\n",
            " [9.173e+00 1.386e+01 5.920e+01 ... 5.087e-02 3.282e-01 8.490e-02]\n",
            " ...\n",
            " [1.429e+01 1.682e+01 9.030e+01 ... 3.333e-02 2.458e-01 6.120e-02]\n",
            " [1.398e+01 1.962e+01 9.112e+01 ... 1.827e-01 3.179e-01 1.055e-01]\n",
            " [1.218e+01 2.052e+01 7.722e+01 ... 7.431e-02 2.694e-01 6.878e-02]]\n"
          ]
        }
      ]
    },
    {
      "cell_type": "code",
      "source": [
        "print(Ks)\n",
        "\n",
        "# K iterates through classification metrics for graph\n",
        "for K in Ks:\n",
        "\n",
        "  #performs PCA on test data and makes predictions\n",
        "  pca = PCA(n_components=K+1)\n",
        "  Xpca2 = pca.fit_transform(X)\n",
        "\n",
        "  X_train, X_test, y_train, y_test  = train_test_split(Xpca2,Y, test_size = 0.2, random_state = 9)\n",
        "\n",
        "  # X_train_pca = pca.fit_transform(X_train)\n",
        "  # X_test_pca = pca.transform(X_test)\n",
        "\n",
        "  #trains naive bayes classifier\n",
        "  model = LogisticRegression()  \n",
        "  model.fit(X_train, y_train)\n",
        "\n",
        "  #makes prediction on test set\n",
        "  y_pred = model.predict(X_test) \n",
        "\n",
        "  #accuracy = metrics.accuracy_score(y_test, y_pred)\n",
        "\n",
        "  accuracy = metrics.accuracy_score(y_test, y_pred)\n",
        "  precision = metrics.precision_score(y_test, y_pred)\n",
        "  recall = metrics.recall_score(y_test, y_pred)\n",
        "\n",
        "  #prints calculation metrics in loop\n",
        "  print(K)\n",
        "  print(accuracy)\n",
        "  print(recall)\n",
        "  print(precision)\n",
        "\n",
        "  #stores the accuracy,precison and recall\n",
        "  accuracies.append(accuracy)\n",
        "  precisions.append(precision)\n",
        "  recalls.append(recall)\n",
        "\n",
        "  # K_list = [accuracy, recall, precision]\n",
        "  # K_list.append(K+1)\n",
        "\n",
        "#outputs the maximum of accuracies\n",
        "max_accuracies = max(accuracies)\n",
        "high_accuracies_K = accuracies.index(max(accuracies))+1"
      ],
      "metadata": {
        "id": "RstCvixRZyNR",
        "colab": {
          "base_uri": "https://localhost:8080/"
        },
        "outputId": "3c44d1d8-ac54-4e26-89f7-01bc8cba6050"
      },
      "execution_count": 210,
      "outputs": [
        {
          "output_type": "stream",
          "name": "stdout",
          "text": [
            "range(0, 30)\n",
            "0\n",
            "0.9122807017543859\n",
            "0.9864864864864865\n",
            "0.8902439024390244\n",
            "1\n",
            "0.9473684210526315\n",
            "0.9864864864864865\n",
            "0.9358974358974359\n",
            "2\n",
            "0.9473684210526315\n",
            "0.9864864864864865\n",
            "0.9358974358974359\n",
            "3\n",
            "0.9298245614035088\n",
            "0.972972972972973\n",
            "0.9230769230769231\n",
            "4\n",
            "0.9298245614035088\n",
            "0.972972972972973\n",
            "0.9230769230769231\n",
            "5\n",
            "0.9298245614035088\n",
            "0.972972972972973\n",
            "0.9230769230769231\n",
            "6\n",
            "0.9298245614035088\n",
            "0.972972972972973\n",
            "0.9230769230769231\n",
            "7\n",
            "0.9298245614035088\n",
            "0.972972972972973\n",
            "0.9230769230769231\n",
            "8\n",
            "0.9473684210526315\n",
            "0.9864864864864865\n",
            "0.9358974358974359\n",
            "9\n",
            "0.9385964912280702\n",
            "0.9864864864864865\n",
            "0.9240506329113924\n",
            "10\n",
            "0.9385964912280702\n",
            "0.9864864864864865\n",
            "0.9240506329113924\n",
            "11\n",
            "0.9385964912280702\n",
            "0.9864864864864865\n",
            "0.9240506329113924\n",
            "12\n",
            "0.9385964912280702\n",
            "0.9864864864864865\n",
            "0.9240506329113924\n",
            "13\n",
            "0.9385964912280702\n",
            "0.9864864864864865\n",
            "0.9240506329113924\n",
            "14\n",
            "0.9385964912280702\n",
            "0.9864864864864865\n",
            "0.9240506329113924\n",
            "15\n",
            "0.9385964912280702\n",
            "0.9864864864864865\n",
            "0.9240506329113924\n",
            "16\n",
            "0.9385964912280702\n",
            "0.9864864864864865\n",
            "0.9240506329113924\n",
            "17\n",
            "0.9385964912280702\n",
            "0.9864864864864865\n",
            "0.9240506329113924\n",
            "18\n",
            "0.9385964912280702\n",
            "0.9864864864864865\n",
            "0.9240506329113924\n",
            "19\n",
            "0.9385964912280702\n",
            "0.9864864864864865\n",
            "0.9240506329113924\n",
            "20\n",
            "0.9385964912280702\n",
            "0.9864864864864865\n",
            "0.9240506329113924\n",
            "21\n",
            "0.9385964912280702\n",
            "0.9864864864864865\n",
            "0.9240506329113924\n",
            "22\n",
            "0.9385964912280702\n",
            "0.9864864864864865\n",
            "0.9240506329113924\n",
            "23\n",
            "0.9385964912280702\n",
            "0.9864864864864865\n",
            "0.9240506329113924\n",
            "24\n",
            "0.9385964912280702\n",
            "0.9864864864864865\n",
            "0.9240506329113924\n",
            "25\n",
            "0.9385964912280702\n",
            "0.9864864864864865\n",
            "0.9240506329113924\n",
            "26\n",
            "0.9385964912280702\n",
            "0.9864864864864865\n",
            "0.9240506329113924\n",
            "27\n",
            "0.9385964912280702\n",
            "0.9864864864864865\n",
            "0.9240506329113924\n",
            "28\n",
            "0.9385964912280702\n",
            "0.9864864864864865\n",
            "0.9240506329113924\n",
            "29\n",
            "0.9385964912280702\n",
            "0.9864864864864865\n",
            "0.9240506329113924\n"
          ]
        }
      ]
    },
    {
      "cell_type": "code",
      "source": [
        "K_list  = range(0,30) \n",
        "print(len(X))\n",
        "print(len(Y))\n",
        "print(len(accuracies))\n",
        "print(len(precisions))\n",
        "print(len(recalls))\n",
        "print(len(K_list))\n",
        "\n",
        "print(\"max accuracy: \" + str(max_accuracies)+\"for K: \" + str(high_accuracies_K))\n",
        "\n",
        "plt.plot(K_list, accuracies, label = 'Accuracy')\n",
        "plt.plot(K_list, precisions, label = 'precision')\n",
        "plt.plot(K_list, recalls, label = 'recall')\n",
        "\n",
        "plt.legend()\n",
        "plt.title(\"Plotting classification accuracy, precision and recall vs. K\")\n",
        "plt.xlabel('K')\n",
        "plt.ylabel('Value')\n",
        "plt.show()"
      ],
      "metadata": {
        "colab": {
          "base_uri": "https://localhost:8080/",
          "height": 593
        },
        "id": "iqd16IzWxgTX",
        "outputId": "d05d6251-a4d4-41ae-c596-c478d3e70ffe"
      },
      "execution_count": 211,
      "outputs": [
        {
          "output_type": "stream",
          "name": "stdout",
          "text": [
            "569\n",
            "569\n",
            "30\n",
            "30\n",
            "30\n",
            "30\n",
            "max accuracy: 0.9473684210526315for K: 2\n"
          ]
        },
        {
          "output_type": "display_data",
          "data": {
            "text/plain": [
              "<Figure size 640x480 with 1 Axes>"
            ],
            "image/png": "[encoded data removed]"
          },
          "metadata": {}
        }
      ]
    },
    {
      "cell_type": "markdown",
      "source": [
        "Problem 3"
      ],
      "metadata": {
        "id": "_KgAUpHVL5nN"
      }
    },
    {
      "cell_type": "code",
      "source": [
        "from sklearn.datasets import load_breast_cancer\n",
        "from sklearn.preprocessing import StandardScaler\n",
        "breast = load_breast_cancer()\n",
        "X = breast.data\n",
        "Y = breast.target"
      ],
      "metadata": {
        "id": "iEgSbkOqOKRp"
      },
      "execution_count": 212,
      "outputs": []
    },
    {
      "cell_type": "code",
      "source": [
        "X_train, X_test, y_train, y_test = train_test_split(X, Y, test_size = 0.2)\n",
        "\n",
        "Ks = range(0,30)\n",
        "accuracies = []\n",
        "precisions = []\n",
        "recalls = []\n",
        "\n",
        "print(X_train)\n",
        "\n",
        "scaler = StandardScaler()\n",
        "X_train = scaler.fit_transform(X_train)\n",
        "X_test = scaler.transform(X_test)"
      ],
      "metadata": {
        "id": "FsDDem9cL_N3",
        "colab": {
          "base_uri": "https://localhost:8080/"
        },
        "outputId": "6799b21e-91af-4c58-c44e-eb969e3584e6"
      },
      "execution_count": 213,
      "outputs": [
        {
          "output_type": "stream",
          "name": "stdout",
          "text": [
            "[[1.370e+01 1.764e+01 8.776e+01 ... 9.077e-02 2.518e-01 6.960e-02]\n",
            " [1.402e+01 1.566e+01 8.959e+01 ... 8.216e-02 2.136e-01 6.710e-02]\n",
            " [1.277e+01 2.247e+01 8.172e+01 ... 9.331e-02 2.829e-01 8.067e-02]\n",
            " ...\n",
            " [2.116e+01 2.304e+01 1.372e+02 ... 2.009e-01 2.822e-01 7.526e-02]\n",
            " [1.060e+01 1.895e+01 6.928e+01 ... 7.926e-02 2.940e-01 7.587e-02]\n",
            " [1.861e+01 2.025e+01 1.221e+02 ... 1.490e-01 2.341e-01 7.421e-02]]\n"
          ]
        }
      ]
    },
    {
      "cell_type": "code",
      "source": [
        "print(Ks)\n",
        "for K in Ks:\n",
        "  pca = PCA(n_components=K+1)\n",
        "  Xpca2 = pca.fit_transform(X)\n",
        "\n",
        "  X_train, X_test, y_train, y_test  = train_test_split(Xpca2,Y, test_size = 0.2, random_state = 9)\n",
        "  model = GaussianNB()\n",
        "  model.fit(X_train, y_train)\n",
        "  y_pred = model.predict(X_test)\n",
        "\n",
        "  accuracy = metrics.accuracy_score(y_test, y_pred)\n",
        "  precision = metrics.precision_score(y_test, y_pred)\n",
        "  recall = metrics.recall_score(y_test, y_pred)\n",
        "\n",
        "  print(K)\n",
        "  print(accuracy)\n",
        "  print(recall)\n",
        "  print(precision)\n",
        "\n",
        "  accuracies.append(accuracy)\n",
        "  precisions.append(precision)\n",
        "  recalls.append(recall)\n",
        "\n",
        "  # K_list = [accuracy, recall, precision]\n",
        "  # K_list.append(K+1)\n",
        "\n",
        "max_accuracies = max(accuracies)\n",
        "high_accuracies_K = accuracies.index(max(accuracies))+1"
      ],
      "metadata": {
        "id": "4VwuZVjqQj1f",
        "colab": {
          "base_uri": "https://localhost:8080/"
        },
        "outputId": "5e5eaf3e-b2ab-471b-8a65-25782c641809"
      },
      "execution_count": 214,
      "outputs": [
        {
          "output_type": "stream",
          "name": "stdout",
          "text": [
            "range(0, 30)\n",
            "0\n",
            "0.8947368421052632\n",
            "0.9864864864864865\n",
            "0.8690476190476191\n",
            "1\n",
            "0.8947368421052632\n",
            "0.9864864864864865\n",
            "0.8690476190476191\n",
            "2\n",
            "0.8859649122807017\n",
            "0.972972972972973\n",
            "0.8674698795180723\n",
            "3\n",
            "0.9122807017543859\n",
            "0.9864864864864865\n",
            "0.8902439024390244\n",
            "4\n",
            "0.9122807017543859\n",
            "0.9864864864864865\n",
            "0.8902439024390244\n",
            "5\n",
            "0.8947368421052632\n",
            "0.9594594594594594\n",
            "0.8875\n",
            "6\n",
            "0.9035087719298246\n",
            "0.9594594594594594\n",
            "0.8987341772151899\n",
            "7\n",
            "0.8859649122807017\n",
            "0.9459459459459459\n",
            "0.8860759493670886\n",
            "8\n",
            "0.8771929824561403\n",
            "0.9324324324324325\n",
            "0.8846153846153846\n",
            "9\n",
            "0.8771929824561403\n",
            "0.9324324324324325\n",
            "0.8846153846153846\n",
            "10\n",
            "0.8771929824561403\n",
            "0.9324324324324325\n",
            "0.8846153846153846\n",
            "11\n",
            "0.8859649122807017\n",
            "0.9459459459459459\n",
            "0.8860759493670886\n",
            "12\n",
            "0.8947368421052632\n",
            "0.9459459459459459\n",
            "0.8974358974358975\n",
            "13\n",
            "0.9035087719298246\n",
            "0.9459459459459459\n",
            "0.9090909090909091\n",
            "14\n",
            "0.8947368421052632\n",
            "0.9324324324324325\n",
            "0.9078947368421053\n",
            "15\n",
            "0.8947368421052632\n",
            "0.9324324324324325\n",
            "0.9078947368421053\n",
            "16\n",
            "0.8947368421052632\n",
            "0.9324324324324325\n",
            "0.9078947368421053\n",
            "17\n",
            "0.8947368421052632\n",
            "0.9324324324324325\n",
            "0.9078947368421053\n",
            "18\n",
            "0.8859649122807017\n",
            "0.9324324324324325\n",
            "0.8961038961038961\n",
            "19\n",
            "0.8859649122807017\n",
            "0.9324324324324325\n",
            "0.8961038961038961\n",
            "20\n",
            "0.8859649122807017\n",
            "0.9324324324324325\n",
            "0.8961038961038961\n",
            "21\n",
            "0.8859649122807017\n",
            "0.9324324324324325\n",
            "0.8961038961038961\n",
            "22\n",
            "0.8859649122807017\n",
            "0.9324324324324325\n",
            "0.8961038961038961\n",
            "23\n",
            "0.8859649122807017\n",
            "0.9324324324324325\n",
            "0.8961038961038961\n",
            "24\n",
            "0.8859649122807017\n",
            "0.9324324324324325\n",
            "0.8961038961038961\n",
            "25\n",
            "0.8859649122807017\n",
            "0.9324324324324325\n",
            "0.8961038961038961\n",
            "26\n",
            "0.8859649122807017\n",
            "0.9324324324324325\n",
            "0.8961038961038961\n",
            "27\n",
            "0.8859649122807017\n",
            "0.9324324324324325\n",
            "0.8961038961038961\n",
            "28\n",
            "0.8859649122807017\n",
            "0.9324324324324325\n",
            "0.8961038961038961\n",
            "29\n",
            "0.8859649122807017\n",
            "0.9324324324324325\n",
            "0.8961038961038961\n"
          ]
        }
      ]
    },
    {
      "cell_type": "code",
      "source": [
        "K_list  = range(0,30)\n",
        "print(len(X))\n",
        "print(len(Y))\n",
        "print(len(accuracies))\n",
        "print(len(precisions))\n",
        "print(len(recalls))\n",
        "print(len(K_list))\n",
        "\n",
        "print(\"max accuracy: \" + str(max_accuracies)+\"for K: \" + str(high_accuracies_K))\n",
        "\n",
        "plt.plot(K_list, accuracies, label = 'Accuracy')\n",
        "plt.plot(K_list, precisions, label = 'precision')\n",
        "plt.plot(K_list, recalls, label = 'recall')\n",
        "\n",
        "plt.legend()\n",
        "plt.title(\"Plotting classification accuracy, precision and recall vs. K\")\n",
        "plt.xlabel('K')\n",
        "plt.ylabel('Value')\n",
        "plt.show()"
      ],
      "metadata": {
        "colab": {
          "base_uri": "https://localhost:8080/",
          "height": 593
        },
        "id": "qncNoogCRKuT",
        "outputId": "163b3d2b-6186-437d-9e02-98badddfe9b7"
      },
      "execution_count": 215,
      "outputs": [
        {
          "output_type": "stream",
          "name": "stdout",
          "text": [
            "569\n",
            "569\n",
            "30\n",
            "30\n",
            "30\n",
            "30\n",
            "max accuracy: 0.9122807017543859for K: 4\n"
          ]
        },
        {
          "output_type": "display_data",
          "data": {
            "text/plain": [
              "<Figure size 640x480 with 1 Axes>"
            ],
            "image/png": "[encoded data removed]"
          },
          "metadata": {}
        }
      ]
    }
  ]
}