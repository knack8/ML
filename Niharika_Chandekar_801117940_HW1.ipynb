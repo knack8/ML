{
  "nbformat": 4,
  "nbformat_minor": 0,
  "metadata": {
    "colab": {
      "provenance": []
    },
    "kernelspec": {
      "name": "python3",
      "display_name": "Python 3"
    },
    "language_info": {
      "name": "python"
    }
  },
  "cells": [
    {
      "cell_type": "code",
      "execution_count": 176,
      "metadata": {
        "id": "tw6UYBD_wEip"
      },
      "outputs": [],
      "source": [
        "import numpy as np\n",
        "import pandas as pd\n",
        "from sklearn.model_selection import train_test_split \n",
        "import matplotlib.pyplot as plt"
      ]
    },
    {
      "cell_type": "code",
      "source": [
        "df = pd.read_csv(\"Housing.csv\")\n",
        "display(df) "
      ],
      "metadata": {
        "colab": {
          "base_uri": "https://localhost:8080/",
          "height": 487
        },
        "id": "qYGRQNT2wqU2",
        "outputId": "b373b2f6-a12d-434d-a4ad-d947e648354a"
      },
      "execution_count": 177,
      "outputs": [
        {
          "output_type": "display_data",
          "data": {
            "text/plain": [
              "        price  area  bedrooms  bathrooms  stories mainroad guestroom basement  \\\n",
              "0    13300000  7420         4          2        3      yes        no       no   \n",
              "1    12250000  8960         4          4        4      yes        no       no   \n",
              "2    12250000  9960         3          2        2      yes        no      yes   \n",
              "3    12215000  7500         4          2        2      yes        no      yes   \n",
              "4    11410000  7420         4          1        2      yes       yes      yes   \n",
              "..        ...   ...       ...        ...      ...      ...       ...      ...   \n",
              "540   1820000  3000         2          1        1      yes        no      yes   \n",
              "541   1767150  2400         3          1        1       no        no       no   \n",
              "542   1750000  3620         2          1        1      yes        no       no   \n",
              "543   1750000  2910         3          1        1       no        no       no   \n",
              "544   1750000  3850         3          1        2      yes        no       no   \n",
              "\n",
              "    hotwaterheating airconditioning  parking prefarea furnishingstatus  \n",
              "0                no             yes        2      yes        furnished  \n",
              "1                no             yes        3       no        furnished  \n",
              "2                no              no        2      yes   semi-furnished  \n",
              "3                no             yes        3      yes        furnished  \n",
              "4                no             yes        2       no        furnished  \n",
              "..              ...             ...      ...      ...              ...  \n",
              "540              no              no        2       no      unfurnished  \n",
              "541              no              no        0       no   semi-furnished  \n",
              "542              no              no        0       no      unfurnished  \n",
              "543              no              no        0       no        furnished  \n",
              "544              no              no        0       no      unfurnished  \n",
              "\n",
              "[545 rows x 13 columns]"
            ],
            "text/html": [
              "\n",
              "  <div id=\"df-3729a9b1-c997-436d-84f8-ded996ba4dfa\">\n",
              "    <div class=\"colab-df-container\">\n",
              "      <div>\n",
              "<style scoped>\n",
              "    .dataframe tbody tr th:only-of-type {\n",
              "        vertical-align: middle;\n",
              "    }\n",
              "\n",
              "    .dataframe tbody tr th {\n",
              "        vertical-align: top;\n",
              "    }\n",
              "\n",
              "    .dataframe thead th {\n",
              "        text-align: right;\n",
              "    }\n",
              "</style>\n",
              "<table border=\"1\" class=\"dataframe\">\n",
              "  <thead>\n",
              "    <tr style=\"text-align: right;\">\n",
              "      <th></th>\n",
              "      <th>price</th>\n",
              "      <th>area</th>\n",
              "      <th>bedrooms</th>\n",
              "      <th>bathrooms</th>\n",
              "      <th>stories</th>\n",
              "      <th>mainroad</th>\n",
              "      <th>guestroom</th>\n",
              "      <th>basement</th>\n",
              "      <th>hotwaterheating</th>\n",
              "      <th>airconditioning</th>\n",
              "      <th>parking</th>\n",
              "      <th>prefarea</th>\n",
              "      <th>furnishingstatus</th>\n",
              "    </tr>\n",
              "  </thead>\n",
              "  <tbody>\n",
              "    <tr>\n",
              "      <th>0</th>\n",
              "      <td>13300000</td>\n",
              "      <td>7420</td>\n",
              "      <td>4</td>\n",
              "      <td>2</td>\n",
              "      <td>3</td>\n",
              "      <td>yes</td>\n",
              "      <td>no</td>\n",
              "      <td>no</td>\n",
              "      <td>no</td>\n",
              "      <td>yes</td>\n",
              "      <td>2</td>\n",
              "      <td>yes</td>\n",
              "      <td>furnished</td>\n",
              "    </tr>\n",
              "    <tr>\n",
              "      <th>1</th>\n",
              "      <td>12250000</td>\n",
              "      <td>8960</td>\n",
              "      <td>4</td>\n",
              "      <td>4</td>\n",
              "      <td>4</td>\n",
              "      <td>yes</td>\n",
              "      <td>no</td>\n",
              "      <td>no</td>\n",
              "      <td>no</td>\n",
              "      <td>yes</td>\n",
              "      <td>3</td>\n",
              "      <td>no</td>\n",
              "      <td>furnished</td>\n",
              "    </tr>\n",
              "    <tr>\n",
              "      <th>2</th>\n",
              "      <td>12250000</td>\n",
              "      <td>9960</td>\n",
              "      <td>3</td>\n",
              "      <td>2</td>\n",
              "      <td>2</td>\n",
              "      <td>yes</td>\n",
              "      <td>no</td>\n",
              "      <td>yes</td>\n",
              "      <td>no</td>\n",
              "      <td>no</td>\n",
              "      <td>2</td>\n",
              "      <td>yes</td>\n",
              "      <td>semi-furnished</td>\n",
              "    </tr>\n",
              "    <tr>\n",
              "      <th>3</th>\n",
              "      <td>12215000</td>\n",
              "      <td>7500</td>\n",
              "      <td>4</td>\n",
              "      <td>2</td>\n",
              "      <td>2</td>\n",
              "      <td>yes</td>\n",
              "      <td>no</td>\n",
              "      <td>yes</td>\n",
              "      <td>no</td>\n",
              "      <td>yes</td>\n",
              "      <td>3</td>\n",
              "      <td>yes</td>\n",
              "      <td>furnished</td>\n",
              "    </tr>\n",
              "    <tr>\n",
              "      <th>4</th>\n",
              "      <td>11410000</td>\n",
              "      <td>7420</td>\n",
              "      <td>4</td>\n",
              "      <td>1</td>\n",
              "      <td>2</td>\n",
              "      <td>yes</td>\n",
              "      <td>yes</td>\n",
              "      <td>yes</td>\n",
              "      <td>no</td>\n",
              "      <td>yes</td>\n",
              "      <td>2</td>\n",
              "      <td>no</td>\n",
              "      <td>furnished</td>\n",
              "    </tr>\n",
              "    <tr>\n",
              "      <th>...</th>\n",
              "      <td>...</td>\n",
              "      <td>...</td>\n",
              "      <td>...</td>\n",
              "      <td>...</td>\n",
              "      <td>...</td>\n",
              "      <td>...</td>\n",
              "      <td>...</td>\n",
              "      <td>...</td>\n",
              "      <td>...</td>\n",
              "      <td>...</td>\n",
              "      <td>...</td>\n",
              "      <td>...</td>\n",
              "      <td>...</td>\n",
              "    </tr>\n",
              "    <tr>\n",
              "      <th>540</th>\n",
              "      <td>1820000</td>\n",
              "      <td>3000</td>\n",
              "      <td>2</td>\n",
              "      <td>1</td>\n",
              "      <td>1</td>\n",
              "      <td>yes</td>\n",
              "      <td>no</td>\n",
              "      <td>yes</td>\n",
              "      <td>no</td>\n",
              "      <td>no</td>\n",
              "      <td>2</td>\n",
              "      <td>no</td>\n",
              "      <td>unfurnished</td>\n",
              "    </tr>\n",
              "    <tr>\n",
              "      <th>541</th>\n",
              "      <td>1767150</td>\n",
              "      <td>2400</td>\n",
              "      <td>3</td>\n",
              "      <td>1</td>\n",
              "      <td>1</td>\n",
              "      <td>no</td>\n",
              "      <td>no</td>\n",
              "      <td>no</td>\n",
              "      <td>no</td>\n",
              "      <td>no</td>\n",
              "      <td>0</td>\n",
              "      <td>no</td>\n",
              "      <td>semi-furnished</td>\n",
              "    </tr>\n",
              "    <tr>\n",
              "      <th>542</th>\n",
              "      <td>1750000</td>\n",
              "      <td>3620</td>\n",
              "      <td>2</td>\n",
              "      <td>1</td>\n",
              "      <td>1</td>\n",
              "      <td>yes</td>\n",
              "      <td>no</td>\n",
              "      <td>no</td>\n",
              "      <td>no</td>\n",
              "      <td>no</td>\n",
              "      <td>0</td>\n",
              "      <td>no</td>\n",
              "      <td>unfurnished</td>\n",
              "    </tr>\n",
              "    <tr>\n",
              "      <th>543</th>\n",
              "      <td>1750000</td>\n",
              "      <td>2910</td>\n",
              "      <td>3</td>\n",
              "      <td>1</td>\n",
              "      <td>1</td>\n",
              "      <td>no</td>\n",
              "      <td>no</td>\n",
              "      <td>no</td>\n",
              "      <td>no</td>\n",
              "      <td>no</td>\n",
              "      <td>0</td>\n",
              "      <td>no</td>\n",
              "      <td>furnished</td>\n",
              "    </tr>\n",
              "    <tr>\n",
              "      <th>544</th>\n",
              "      <td>1750000</td>\n",
              "      <td>3850</td>\n",
              "      <td>3</td>\n",
              "      <td>1</td>\n",
              "      <td>2</td>\n",
              "      <td>yes</td>\n",
              "      <td>no</td>\n",
              "      <td>no</td>\n",
              "      <td>no</td>\n",
              "      <td>no</td>\n",
              "      <td>0</td>\n",
              "      <td>no</td>\n",
              "      <td>unfurnished</td>\n",
              "    </tr>\n",
              "  </tbody>\n",
              "</table>\n",
              "<p>545 rows × 13 columns</p>\n",
              "</div>\n",
              "      <button class=\"colab-df-convert\" onclick=\"convertToInteractive('df-3729a9b1-c997-436d-84f8-ded996ba4dfa')\"\n",
              "              title=\"Convert this dataframe to an interactive table.\"\n",
              "              style=\"display:none;\">\n",
              "        \n",
              "  <svg xmlns=\"http://www.w3.org/2000/svg\" height=\"24px\"viewBox=\"0 0 24 24\"\n",
              "       width=\"24px\">\n",
              "    <path d=\"M0 0h24v24H0V0z\" fill=\"none\"/>\n",
              "    <path d=\"M18.56 5.44l.94 2.06.94-2.06 2.06-.94-2.06-.94-.94-2.06-.94 2.06-2.06.94zm-11 1L8.5 8.5l.94-2.06 2.06-.94-2.06-.94L8.5 2.5l-.94 2.06-2.06.94zm10 10l.94 2.06.94-2.06 2.06-.94-2.06-.94-.94-2.06-.94 2.06-2.06.94z\"/><path d=\"M17.41 7.96l-1.37-1.37c-.4-.4-.92-.59-1.43-.59-.52 0-1.04.2-1.43.59L10.3 9.45l-7.72 7.72c-.78.78-.78 2.05 0 2.83L4 21.41c.39.39.9.59 1.41.59.51 0 1.02-.2 1.41-.59l7.78-7.78 2.81-2.81c.8-.78.8-2.07 0-2.86zM5.41 20L4 18.59l7.72-7.72 1.47 1.35L5.41 20z\"/>\n",
              "  </svg>\n",
              "      </button>\n",
              "      \n",
              "  <style>\n",
              "    .colab-df-container {\n",
              "      display:flex;\n",
              "      flex-wrap:wrap;\n",
              "      gap: 12px;\n",
              "    }\n",
              "\n",
              "    .colab-df-convert {\n",
              "      background-color: #E8F0FE;\n",
              "      border: none;\n",
              "      border-radius: 50%;\n",
              "      cursor: pointer;\n",
              "      display: none;\n",
              "      fill: #1967D2;\n",
              "      height: 32px;\n",
              "      padding: 0 0 0 0;\n",
              "      width: 32px;\n",
              "    }\n",
              "\n",
              "    .colab-df-convert:hover {\n",
              "      background-color: #E2EBFA;\n",
              "      box-shadow: 0px 1px 2px rgba(60, 64, 67, 0.3), 0px 1px 3px 1px rgba(60, 64, 67, 0.15);\n",
              "      fill: #174EA6;\n",
              "    }\n",
              "\n",
              "    [theme=dark] .colab-df-convert {\n",
              "      background-color: #3B4455;\n",
              "      fill: #D2E3FC;\n",
              "    }\n",
              "\n",
              "    [theme=dark] .colab-df-convert:hover {\n",
              "      background-color: #434B5C;\n",
              "      box-shadow: 0px 1px 3px 1px rgba(0, 0, 0, 0.15);\n",
              "      filter: drop-shadow(0px 1px 2px rgba(0, 0, 0, 0.3));\n",
              "      fill: #FFFFFF;\n",
              "    }\n",
              "  </style>\n",
              "\n",
              "      <script>\n",
              "        const buttonEl =\n",
              "          document.querySelector('#df-3729a9b1-c997-436d-84f8-ded996ba4dfa button.colab-df-convert');\n",
              "        buttonEl.style.display =\n",
              "          google.colab.kernel.accessAllowed ? 'block' : 'none';\n",
              "\n",
              "        async function convertToInteractive(key) {\n",
              "          const element = document.querySelector('#df-3729a9b1-c997-436d-84f8-ded996ba4dfa');\n",
              "          const dataTable =\n",
              "            await google.colab.kernel.invokeFunction('convertToInteractive',\n",
              "                                                     [key], {});\n",
              "          if (!dataTable) return;\n",
              "\n",
              "          const docLinkHtml = 'Like what you see? Visit the ' +\n",
              "            '<a target=\"_blank\" href=https://colab.research.google.com/notebooks/data_table.ipynb>data table notebook</a>'\n",
              "            + ' to learn more about interactive tables.';\n",
              "          element.innerHTML = '';\n",
              "          dataTable['output_type'] = 'display_data';\n",
              "          await google.colab.output.renderOutput(dataTable, element);\n",
              "          const docLink = document.createElement('div');\n",
              "          docLink.innerHTML = docLinkHtml;\n",
              "          element.appendChild(docLink);\n",
              "        }\n",
              "      </script>\n",
              "    </div>\n",
              "  </div>\n",
              "  "
            ]
          },
          "metadata": {}
        }
      ]
    },
    {
      "cell_type": "markdown",
      "source": [
        "Problme 1a"
      ],
      "metadata": {
        "id": "SpnOe19RTlX7"
      }
    },
    {
      "cell_type": "code",
      "source": [
        "#accessing columns that were asked\n",
        "#loc = index by name and name is string\n",
        "reduced_df = df.loc[:,[\"area\", \"bedrooms\", \"bathrooms\", \"stories\", \"parking\"]]\n",
        "price = df.iloc[:,0] #iloc = index by number\n",
        "\n",
        "maxes = []\n",
        "# for i in range(5):\n",
        "#   maxes.append(max(reduced_df.iloc[:,i]))\n",
        "#   reduced_df.iloc[:,i] = reduced_df.iloc[:,i]/maxes[-1]\n",
        "\n",
        "# maxes.append(max(price))\n",
        "# price = price/maxes[-1]\n",
        "# reduced_df.iloc[:,0] = reduced_df.iloc[:,0]/max(reduced_df.iloc[:,0])\n",
        "print(price)\n",
        "print(reduced_df.iloc[:,:])\n",
        "print(maxes)\n"
      ],
      "metadata": {
        "colab": {
          "base_uri": "https://localhost:8080/",
          "height": 0
        },
        "id": "5wysiitixdY_",
        "outputId": "d4ac57cf-07c2-419e-cb71-2f85732bef0e"
      },
      "execution_count": 178,
      "outputs": [
        {
          "output_type": "stream",
          "name": "stdout",
          "text": [
            "0      13300000\n",
            "1      12250000\n",
            "2      12250000\n",
            "3      12215000\n",
            "4      11410000\n",
            "         ...   \n",
            "540     1820000\n",
            "541     1767150\n",
            "542     1750000\n",
            "543     1750000\n",
            "544     1750000\n",
            "Name: price, Length: 545, dtype: int64\n",
            "     area  bedrooms  bathrooms  stories  parking\n",
            "0    7420         4          2        3        2\n",
            "1    8960         4          4        4        3\n",
            "2    9960         3          2        2        2\n",
            "3    7500         4          2        2        3\n",
            "4    7420         4          1        2        2\n",
            "..    ...       ...        ...      ...      ...\n",
            "540  3000         2          1        1        2\n",
            "541  2400         3          1        1        0\n",
            "542  3620         2          1        1        0\n",
            "543  2910         3          1        1        0\n",
            "544  3850         3          1        2        0\n",
            "\n",
            "[545 rows x 5 columns]\n",
            "[]\n"
          ]
        }
      ]
    },
    {
      "cell_type": "code",
      "source": [
        "X_train, X_test, y_train, y_test = train_test_split(reduced_df.values, price.values, test_size = 0.2, random_state =42)"
      ],
      "metadata": {
        "id": "g2HRvm5b4AWD"
      },
      "execution_count": 179,
      "outputs": []
    },
    {
      "cell_type": "code",
      "source": [
        "print('features:\\n', X_train[0]) #shows all 5 X values \n",
        "print('example price:', y_train[0]) "
      ],
      "metadata": {
        "id": "2Uj6-Lao1rLB",
        "colab": {
          "base_uri": "https://localhost:8080/",
          "height": 0
        },
        "outputId": "35bbcce3-3bb7-4fcd-9ad6-133532e185a0"
      },
      "execution_count": 180,
      "outputs": [
        {
          "output_type": "stream",
          "name": "stdout",
          "text": [
            "features:\n",
            " [6000    3    2    4    1]\n",
            "example price: 7525000\n"
          ]
        }
      ]
    },
    {
      "cell_type": "code",
      "source": [
        "# 5x5\n",
        "# shows first 5 rows of area, bedrooms, bathrooms, stories, parking\n",
        "m = len(X_train)\n",
        "X_train = X_train.reshape(m,5)\n",
        "print('Xvals: \\n', X_train[:5,:])\n",
        "m"
      ],
      "metadata": {
        "colab": {
          "base_uri": "https://localhost:8080/",
          "height": 0
        },
        "id": "uKU2wiCq2kmN",
        "outputId": "d47322ef-1d59-49fd-9b46-0d8f26873634"
      },
      "execution_count": 181,
      "outputs": [
        {
          "output_type": "stream",
          "name": "stdout",
          "text": [
            "Xvals: \n",
            " [[6000    3    2    4    1]\n",
            " [7200    3    2    1    3]\n",
            " [3816    2    1    1    2]\n",
            " [2610    3    1    2    0]\n",
            " [3750    3    1    2    0]]\n"
          ]
        },
        {
          "output_type": "execute_result",
          "data": {
            "text/plain": [
              "436"
            ]
          },
          "metadata": {},
          "execution_count": 181
        }
      ]
    },
    {
      "cell_type": "code",
      "source": [
        "m = len(X_train)\n",
        "n = len(X_test)\n",
        "X_train_1 = np.ones((m,1)) #1 column\n",
        "X_test_1 = np.ones((n,1)) #1 column\n",
        "X_train_1[:1], len(X_train_1) #1 row"
      ],
      "metadata": {
        "colab": {
          "base_uri": "https://localhost:8080/",
          "height": 0
        },
        "id": "9MOZJjp0QMv6",
        "outputId": "49d7a3e4-8775-44d3-aa38-a5fc3ae7b38b"
      },
      "execution_count": 182,
      "outputs": [
        {
          "output_type": "execute_result",
          "data": {
            "text/plain": [
              "(array([[1.]]), 436)"
            ]
          },
          "metadata": {},
          "execution_count": 182
        }
      ]
    },
    {
      "cell_type": "code",
      "source": [
        "X_train = np.hstack((X_train_1, X_train))\n",
        "X_test = np.hstack((X_test_1, X_test))\n",
        "X_train[:5]"
      ],
      "metadata": {
        "colab": {
          "base_uri": "https://localhost:8080/",
          "height": 0
        },
        "id": "E-3YVKouTN2g",
        "outputId": "8fe4c9c4-1ca9-4bcc-d21d-38297828d94e"
      },
      "execution_count": 183,
      "outputs": [
        {
          "output_type": "execute_result",
          "data": {
            "text/plain": [
              "array([[1.000e+00, 6.000e+03, 3.000e+00, 2.000e+00, 4.000e+00, 1.000e+00],\n",
              "       [1.000e+00, 7.200e+03, 3.000e+00, 2.000e+00, 1.000e+00, 3.000e+00],\n",
              "       [1.000e+00, 3.816e+03, 2.000e+00, 1.000e+00, 1.000e+00, 2.000e+00],\n",
              "       [1.000e+00, 2.610e+03, 3.000e+00, 1.000e+00, 2.000e+00, 0.000e+00],\n",
              "       [1.000e+00, 3.750e+03, 3.000e+00, 1.000e+00, 2.000e+00, 0.000e+00]])"
            ]
          },
          "metadata": {},
          "execution_count": 183
        }
      ]
    },
    {
      "cell_type": "code",
      "source": [
        "theta = np.zeros(6)\n",
        "iterations = 1500\n",
        "alpha = .0000000001\n",
        "theta.shape"
      ],
      "metadata": {
        "colab": {
          "base_uri": "https://localhost:8080/",
          "height": 0
        },
        "id": "ITBlUJjDWBRv",
        "outputId": "05f88478-d2a4-4096-9be9-09d48363362b"
      },
      "execution_count": 184,
      "outputs": [
        {
          "output_type": "execute_result",
          "data": {
            "text/plain": [
              "(6,)"
            ]
          },
          "metadata": {},
          "execution_count": 184
        }
      ]
    },
    {
      "cell_type": "code",
      "source": [
        "def compute_loss(X, Y, theta):\n",
        "  predictions = X.dot(theta)\n",
        "  errors = np.subtract(predictions, Y)\n",
        "  sqrErrors = np.square(errors)\n",
        "  J = 1/(2*m) * np.sum(sqrErrors)\n",
        "  return J"
      ],
      "metadata": {
        "id": "yEjIfsBhZaRm"
      },
      "execution_count": 185,
      "outputs": []
    },
    {
      "cell_type": "code",
      "source": [
        "cost = compute_loss(X_train,y_train, theta)\n",
        "print('The cost for given values of theta_0 and theta_1 = ', cost)"
      ],
      "metadata": {
        "colab": {
          "base_uri": "https://localhost:8080/",
          "height": 0
        },
        "id": "1cFrAofNabPz",
        "outputId": "3bc49883-1c57-4684-de79-8618a6d136b0"
      },
      "execution_count": 186,
      "outputs": [
        {
          "output_type": "stream",
          "name": "stdout",
          "text": [
            "The cost for given values of theta_0 and theta_1 =  12617396203243.809\n"
          ]
        }
      ]
    },
    {
      "cell_type": "code",
      "source": [
        "def gradient_descent(X, Y, theta, alpha, iterations, train=True):\n",
        "  cost_history = np.zeros(iterations)\n",
        "\n",
        "  for i in range(iterations):\n",
        "    predictions = X.dot(theta)\n",
        "    errors = np.subtract(predictions, Y)\n",
        "    if train:\n",
        "      sum_delta = (alpha/m)*X.transpose().dot(errors)\n",
        "      theta = theta - sum_delta\n",
        "    cost_history[i] = compute_loss(X, Y, theta)\n",
        "    \n",
        "  return theta, cost_history"
      ],
      "metadata": {
        "id": "LutsYe4wewck"
      },
      "execution_count": 187,
      "outputs": []
    },
    {
      "cell_type": "code",
      "source": [
        "theta, cost_history = gradient_descent(X_train, y_train,theta, alpha, iterations)\n",
        "theta, test_history = gradient_descent(X_test, y_test,theta, alpha, iterations, train = False)\n",
        "\n",
        "print('Final value of theta =', theta)\n",
        "print('cost_history = ', cost_history[2:])\n",
        "len(cost_history)"
      ],
      "metadata": {
        "colab": {
          "base_uri": "https://localhost:8080/",
          "height": 0
        },
        "id": "NDJZmtBUe1YV",
        "outputId": "dc6ae576-11e9-46d1-f107-84bc973c094b"
      },
      "execution_count": 188,
      "outputs": [
        {
          "output_type": "stream",
          "name": "stdout",
          "text": [
            "Final value of theta = [1.94414246e-01 8.30456226e+02 6.23040970e-01 2.92262578e-01\n",
            " 4.24703458e-01 1.55536615e-01]\n",
            "cost_history =  [1.24111673e+13 1.23432850e+13 1.22758284e+13 ... 1.59026477e+12\n",
            " 1.59025920e+12 1.59025365e+12]\n"
          ]
        },
        {
          "output_type": "execute_result",
          "data": {
            "text/plain": [
              "1500"
            ]
          },
          "metadata": {},
          "execution_count": 188
        }
      ]
    },
    {
      "cell_type": "code",
      "source": [
        "plt.plot(cost_history, color = 'pink', label = 'training data')\n",
        "plt.plot(test_history, color = 'blue', label = 'testing data')"
      ],
      "metadata": {
        "id": "L3CbyOh2x4ak",
        "colab": {
          "base_uri": "https://localhost:8080/",
          "height": 293
        },
        "outputId": "a1d5c195-60c9-40a9-fff7-bcfec0dfbb48"
      },
      "execution_count": 189,
      "outputs": [
        {
          "output_type": "execute_result",
          "data": {
            "text/plain": [
              "[<matplotlib.lines.Line2D at 0x7f37705fbaf0>]"
            ]
          },
          "metadata": {},
          "execution_count": 189
        },
        {
          "output_type": "display_data",
          "data": {
            "text/plain": [
              "<Figure size 432x288 with 1 Axes>"
            ],
            "image/png": "[encoded data removed]"
          },
          "metadata": {
            "needs_background": "light"
          }
        }
      ]
    },
    {
      "cell_type": "markdown",
      "source": [
        "Problem 1b"
      ],
      "metadata": {
        "id": "sTZv0BbFTcXt"
      }
    },
    {
      "cell_type": "code",
      "source": [
        "#accessing columns that were asked\n",
        "#loc = index by name and name is string\n",
        "reduced_df = df.loc[:,[\"area\", \"bedrooms\", \"bathrooms\", \"stories\", \"mainroad\", \"guestroom\", \"basement\", \"hotwaterheating\", \"airconditioning\", \"parking\", \"prefarea\"]]\n",
        "price = df.iloc[:,0] #iloc = index by number\n",
        "\n",
        "# arr = [1, 2, 3]\n",
        "# print([i for i in arr])\n",
        "# print([i**2 for i in arr])\n",
        "# print([i for i in arr if i%2 == 1])\n",
        "\n",
        "for column_index in [4, 5, 6, 7, 8, 10]:\n",
        "    reduced_df.iloc[:,column_index] = reduced_df.iloc[:,column_index].map({\"yes\": 1, \"no\": 0})\n",
        "display(reduced_df.head())\n",
        "\n",
        "maxes = []\n",
        "\n",
        "# for i in range(11):\n",
        "#   maxes.append(max(reduced_df.iloc[:,i]))\n",
        "#   reduced_df.iloc[:,i] = reduced_df.iloc[:,i]/maxes[-1]\n",
        "\n",
        "# maxes.append(max(price))\n",
        "# price = price/maxes[-1]\n",
        "# reduced_df.iloc[:,0] = reduced_df.iloc[:,0]/max(reduced_df.iloc[:,0])\n",
        "print(price)\n",
        "print(reduced_df.iloc[:,:])\n",
        "print(maxes)"
      ],
      "metadata": {
        "colab": {
          "base_uri": "https://localhost:8080/",
          "height": 900
        },
        "id": "G_eN6B6m8Ln-",
        "outputId": "6402d9e9-1c3c-4db1-a66d-2399719a2881"
      },
      "execution_count": 190,
      "outputs": [
        {
          "output_type": "display_data",
          "data": {
            "text/plain": [
              "   area  bedrooms  bathrooms  stories  mainroad  guestroom  basement  \\\n",
              "0  7420         4          2        3         1          0         0   \n",
              "1  8960         4          4        4         1          0         0   \n",
              "2  9960         3          2        2         1          0         1   \n",
              "3  7500         4          2        2         1          0         1   \n",
              "4  7420         4          1        2         1          1         1   \n",
              "\n",
              "   hotwaterheating  airconditioning  parking  prefarea  \n",
              "0                0                1        2         1  \n",
              "1                0                1        3         0  \n",
              "2                0                0        2         1  \n",
              "3                0                1        3         1  \n",
              "4                0                1        2         0  "
            ],
            "text/html": [
              "\n",
              "  <div id=\"df-cb8c3e54-dcd0-4fd5-bcbb-d8886257a60d\">\n",
              "    <div class=\"colab-df-container\">\n",
              "      <div>\n",
              "<style scoped>\n",
              "    .dataframe tbody tr th:only-of-type {\n",
              "        vertical-align: middle;\n",
              "    }\n",
              "\n",
              "    .dataframe tbody tr th {\n",
              "        vertical-align: top;\n",
              "    }\n",
              "\n",
              "    .dataframe thead th {\n",
              "        text-align: right;\n",
              "    }\n",
              "</style>\n",
              "<table border=\"1\" class=\"dataframe\">\n",
              "  <thead>\n",
              "    <tr style=\"text-align: right;\">\n",
              "      <th></th>\n",
              "      <th>area</th>\n",
              "      <th>bedrooms</th>\n",
              "      <th>bathrooms</th>\n",
              "      <th>stories</th>\n",
              "      <th>mainroad</th>\n",
              "      <th>guestroom</th>\n",
              "      <th>basement</th>\n",
              "      <th>hotwaterheating</th>\n",
              "      <th>airconditioning</th>\n",
              "      <th>parking</th>\n",
              "      <th>prefarea</th>\n",
              "    </tr>\n",
              "  </thead>\n",
              "  <tbody>\n",
              "    <tr>\n",
              "      <th>0</th>\n",
              "      <td>7420</td>\n",
              "      <td>4</td>\n",
              "      <td>2</td>\n",
              "      <td>3</td>\n",
              "      <td>1</td>\n",
              "      <td>0</td>\n",
              "      <td>0</td>\n",
              "      <td>0</td>\n",
              "      <td>1</td>\n",
              "      <td>2</td>\n",
              "      <td>1</td>\n",
              "    </tr>\n",
              "    <tr>\n",
              "      <th>1</th>\n",
              "      <td>8960</td>\n",
              "      <td>4</td>\n",
              "      <td>4</td>\n",
              "      <td>4</td>\n",
              "      <td>1</td>\n",
              "      <td>0</td>\n",
              "      <td>0</td>\n",
              "      <td>0</td>\n",
              "      <td>1</td>\n",
              "      <td>3</td>\n",
              "      <td>0</td>\n",
              "    </tr>\n",
              "    <tr>\n",
              "      <th>2</th>\n",
              "      <td>9960</td>\n",
              "      <td>3</td>\n",
              "      <td>2</td>\n",
              "      <td>2</td>\n",
              "      <td>1</td>\n",
              "      <td>0</td>\n",
              "      <td>1</td>\n",
              "      <td>0</td>\n",
              "      <td>0</td>\n",
              "      <td>2</td>\n",
              "      <td>1</td>\n",
              "    </tr>\n",
              "    <tr>\n",
              "      <th>3</th>\n",
              "      <td>7500</td>\n",
              "      <td>4</td>\n",
              "      <td>2</td>\n",
              "      <td>2</td>\n",
              "      <td>1</td>\n",
              "      <td>0</td>\n",
              "      <td>1</td>\n",
              "      <td>0</td>\n",
              "      <td>1</td>\n",
              "      <td>3</td>\n",
              "      <td>1</td>\n",
              "    </tr>\n",
              "    <tr>\n",
              "      <th>4</th>\n",
              "      <td>7420</td>\n",
              "      <td>4</td>\n",
              "      <td>1</td>\n",
              "      <td>2</td>\n",
              "      <td>1</td>\n",
              "      <td>1</td>\n",
              "      <td>1</td>\n",
              "      <td>0</td>\n",
              "      <td>1</td>\n",
              "      <td>2</td>\n",
              "      <td>0</td>\n",
              "    </tr>\n",
              "  </tbody>\n",
              "</table>\n",
              "</div>\n",
              "      <button class=\"colab-df-convert\" onclick=\"convertToInteractive('df-cb8c3e54-dcd0-4fd5-bcbb-d8886257a60d')\"\n",
              "              title=\"Convert this dataframe to an interactive table.\"\n",
              "              style=\"display:none;\">\n",
              "        \n",
              "  <svg xmlns=\"http://www.w3.org/2000/svg\" height=\"24px\"viewBox=\"0 0 24 24\"\n",
              "       width=\"24px\">\n",
              "    <path d=\"M0 0h24v24H0V0z\" fill=\"none\"/>\n",
              "    <path d=\"M18.56 5.44l.94 2.06.94-2.06 2.06-.94-2.06-.94-.94-2.06-.94 2.06-2.06.94zm-11 1L8.5 8.5l.94-2.06 2.06-.94-2.06-.94L8.5 2.5l-.94 2.06-2.06.94zm10 10l.94 2.06.94-2.06 2.06-.94-2.06-.94-.94-2.06-.94 2.06-2.06.94z\"/><path d=\"M17.41 7.96l-1.37-1.37c-.4-.4-.92-.59-1.43-.59-.52 0-1.04.2-1.43.59L10.3 9.45l-7.72 7.72c-.78.78-.78 2.05 0 2.83L4 21.41c.39.39.9.59 1.41.59.51 0 1.02-.2 1.41-.59l7.78-7.78 2.81-2.81c.8-.78.8-2.07 0-2.86zM5.41 20L4 18.59l7.72-7.72 1.47 1.35L5.41 20z\"/>\n",
              "  </svg>\n",
              "      </button>\n",
              "      \n",
              "  <style>\n",
              "    .colab-df-container {\n",
              "      display:flex;\n",
              "      flex-wrap:wrap;\n",
              "      gap: 12px;\n",
              "    }\n",
              "\n",
              "    .colab-df-convert {\n",
              "      background-color: #E8F0FE;\n",
              "      border: none;\n",
              "      border-radius: 50%;\n",
              "      cursor: pointer;\n",
              "      display: none;\n",
              "      fill: #1967D2;\n",
              "      height: 32px;\n",
              "      padding: 0 0 0 0;\n",
              "      width: 32px;\n",
              "    }\n",
              "\n",
              "    .colab-df-convert:hover {\n",
              "      background-color: #E2EBFA;\n",
              "      box-shadow: 0px 1px 2px rgba(60, 64, 67, 0.3), 0px 1px 3px 1px rgba(60, 64, 67, 0.15);\n",
              "      fill: #174EA6;\n",
              "    }\n",
              "\n",
              "    [theme=dark] .colab-df-convert {\n",
              "      background-color: #3B4455;\n",
              "      fill: #D2E3FC;\n",
              "    }\n",
              "\n",
              "    [theme=dark] .colab-df-convert:hover {\n",
              "      background-color: #434B5C;\n",
              "      box-shadow: 0px 1px 3px 1px rgba(0, 0, 0, 0.15);\n",
              "      filter: drop-shadow(0px 1px 2px rgba(0, 0, 0, 0.3));\n",
              "      fill: #FFFFFF;\n",
              "    }\n",
              "  </style>\n",
              "\n",
              "      <script>\n",
              "        const buttonEl =\n",
              "          document.querySelector('#df-cb8c3e54-dcd0-4fd5-bcbb-d8886257a60d button.colab-df-convert');\n",
              "        buttonEl.style.display =\n",
              "          google.colab.kernel.accessAllowed ? 'block' : 'none';\n",
              "\n",
              "        async function convertToInteractive(key) {\n",
              "          const element = document.querySelector('#df-cb8c3e54-dcd0-4fd5-bcbb-d8886257a60d');\n",
              "          const dataTable =\n",
              "            await google.colab.kernel.invokeFunction('convertToInteractive',\n",
              "                                                     [key], {});\n",
              "          if (!dataTable) return;\n",
              "\n",
              "          const docLinkHtml = 'Like what you see? Visit the ' +\n",
              "            '<a target=\"_blank\" href=https://colab.research.google.com/notebooks/data_table.ipynb>data table notebook</a>'\n",
              "            + ' to learn more about interactive tables.';\n",
              "          element.innerHTML = '';\n",
              "          dataTable['output_type'] = 'display_data';\n",
              "          await google.colab.output.renderOutput(dataTable, element);\n",
              "          const docLink = document.createElement('div');\n",
              "          docLink.innerHTML = docLinkHtml;\n",
              "          element.appendChild(docLink);\n",
              "        }\n",
              "      </script>\n",
              "    </div>\n",
              "  </div>\n",
              "  "
            ]
          },
          "metadata": {}
        },
        {
          "output_type": "stream",
          "name": "stdout",
          "text": [
            "0      13300000\n",
            "1      12250000\n",
            "2      12250000\n",
            "3      12215000\n",
            "4      11410000\n",
            "         ...   \n",
            "540     1820000\n",
            "541     1767150\n",
            "542     1750000\n",
            "543     1750000\n",
            "544     1750000\n",
            "Name: price, Length: 545, dtype: int64\n",
            "     area  bedrooms  bathrooms  stories  mainroad  guestroom  basement  \\\n",
            "0    7420         4          2        3         1          0         0   \n",
            "1    8960         4          4        4         1          0         0   \n",
            "2    9960         3          2        2         1          0         1   \n",
            "3    7500         4          2        2         1          0         1   \n",
            "4    7420         4          1        2         1          1         1   \n",
            "..    ...       ...        ...      ...       ...        ...       ...   \n",
            "540  3000         2          1        1         1          0         1   \n",
            "541  2400         3          1        1         0          0         0   \n",
            "542  3620         2          1        1         1          0         0   \n",
            "543  2910         3          1        1         0          0         0   \n",
            "544  3850         3          1        2         1          0         0   \n",
            "\n",
            "     hotwaterheating  airconditioning  parking  prefarea  \n",
            "0                  0                1        2         1  \n",
            "1                  0                1        3         0  \n",
            "2                  0                0        2         1  \n",
            "3                  0                1        3         1  \n",
            "4                  0                1        2         0  \n",
            "..               ...              ...      ...       ...  \n",
            "540                0                0        2         0  \n",
            "541                0                0        0         0  \n",
            "542                0                0        0         0  \n",
            "543                0                0        0         0  \n",
            "544                0                0        0         0  \n",
            "\n",
            "[545 rows x 11 columns]\n",
            "[]\n"
          ]
        }
      ]
    },
    {
      "cell_type": "code",
      "source": [
        "X_train, X_test, y_train, y_test = train_test_split(reduced_df.values, price.values, test_size = 0.2, random_state =42)"
      ],
      "metadata": {
        "id": "URKabwVF5HEa"
      },
      "execution_count": 191,
      "outputs": []
    },
    {
      "cell_type": "code",
      "source": [
        "print('features:\\n', X_train[0]) #shows all 5 X values \n",
        "print('example price:', y_train[0]) "
      ],
      "metadata": {
        "colab": {
          "base_uri": "https://localhost:8080/",
          "height": 0
        },
        "id": "oEwMYUM3HzsI",
        "outputId": "a6ae2dec-8b75-4918-aa70-a5921c7cd3b1"
      },
      "execution_count": 192,
      "outputs": [
        {
          "output_type": "stream",
          "name": "stdout",
          "text": [
            "features:\n",
            " [6000    3    2    4    1    0    0    0    1    1    0]\n",
            "example price: 7525000\n"
          ]
        }
      ]
    },
    {
      "cell_type": "code",
      "source": [
        "# 5x5\n",
        "# shows first 5 rows of area, bedrooms, bathrooms, stories, parking\n",
        "m = len(X_train)\n",
        "X_train = X_train.reshape(m,11)\n",
        "print('Xvals: \\n', X_train[:11,:])\n",
        "m"
      ],
      "metadata": {
        "colab": {
          "base_uri": "https://localhost:8080/",
          "height": 0
        },
        "id": "HDLRYct1H8ot",
        "outputId": "9e902bc4-5835-48a2-c1a2-ff0f3a686917"
      },
      "execution_count": 193,
      "outputs": [
        {
          "output_type": "stream",
          "name": "stdout",
          "text": [
            "Xvals: \n",
            " [[6000    3    2    4    1    0    0    0    1    1    0]\n",
            " [7200    3    2    1    1    0    1    0    1    3    0]\n",
            " [3816    2    1    1    1    0    1    0    1    2    0]\n",
            " [2610    3    1    2    1    0    1    0    0    0    1]\n",
            " [3750    3    1    2    1    0    0    0    0    0    0]\n",
            " [5010    3    1    2    1    0    1    0    0    0    0]\n",
            " [3850    3    1    2    1    0    0    0    0    0    0]\n",
            " [5076    3    1    1    0    0    0    0    0    0    0]\n",
            " [3180    3    1    1    0    0    0    0    0    0    0]\n",
            " [6020    3    1    1    1    0    0    0    0    0    0]\n",
            " [3120    3    1    2    0    0    1    1    0    0    0]]\n"
          ]
        },
        {
          "output_type": "execute_result",
          "data": {
            "text/plain": [
              "436"
            ]
          },
          "metadata": {},
          "execution_count": 193
        }
      ]
    },
    {
      "cell_type": "code",
      "source": [
        "m = len(X_train)\n",
        "n = len(X_test)\n",
        "X_train_1 = np.ones((m,1)) #1 column\n",
        "X_test_1 = np.ones((n,1)) #1 column\n",
        "X_train_1[:1], len(X_train_1) #1 row"
      ],
      "metadata": {
        "colab": {
          "base_uri": "https://localhost:8080/",
          "height": 0
        },
        "id": "pKSnTwMqIRac",
        "outputId": "091c988e-86a3-40de-b67e-77028d9eab0d"
      },
      "execution_count": 194,
      "outputs": [
        {
          "output_type": "execute_result",
          "data": {
            "text/plain": [
              "(array([[1.]]), 436)"
            ]
          },
          "metadata": {},
          "execution_count": 194
        }
      ]
    },
    {
      "cell_type": "code",
      "source": [
        "X_train = np.hstack((X_train_1, X_train))\n",
        "X_test = np.hstack((X_test_1, X_test))\n",
        "X_train[:5]"
      ],
      "metadata": {
        "colab": {
          "base_uri": "https://localhost:8080/",
          "height": 0
        },
        "id": "IUdwmOo9IZis",
        "outputId": "ca377329-8b9e-434c-a3ed-47d7ecd22b99"
      },
      "execution_count": 195,
      "outputs": [
        {
          "output_type": "execute_result",
          "data": {
            "text/plain": [
              "array([[1.000e+00, 6.000e+03, 3.000e+00, 2.000e+00, 4.000e+00, 1.000e+00,\n",
              "        0.000e+00, 0.000e+00, 0.000e+00, 1.000e+00, 1.000e+00, 0.000e+00],\n",
              "       [1.000e+00, 7.200e+03, 3.000e+00, 2.000e+00, 1.000e+00, 1.000e+00,\n",
              "        0.000e+00, 1.000e+00, 0.000e+00, 1.000e+00, 3.000e+00, 0.000e+00],\n",
              "       [1.000e+00, 3.816e+03, 2.000e+00, 1.000e+00, 1.000e+00, 1.000e+00,\n",
              "        0.000e+00, 1.000e+00, 0.000e+00, 1.000e+00, 2.000e+00, 0.000e+00],\n",
              "       [1.000e+00, 2.610e+03, 3.000e+00, 1.000e+00, 2.000e+00, 1.000e+00,\n",
              "        0.000e+00, 1.000e+00, 0.000e+00, 0.000e+00, 0.000e+00, 1.000e+00],\n",
              "       [1.000e+00, 3.750e+03, 3.000e+00, 1.000e+00, 2.000e+00, 1.000e+00,\n",
              "        0.000e+00, 0.000e+00, 0.000e+00, 0.000e+00, 0.000e+00, 0.000e+00]])"
            ]
          },
          "metadata": {},
          "execution_count": 195
        }
      ]
    },
    {
      "cell_type": "code",
      "source": [
        "theta = np.zeros(12)\n",
        "iterations = 1500\n",
        "alpha = .0000000001\n",
        "theta.shape"
      ],
      "metadata": {
        "colab": {
          "base_uri": "https://localhost:8080/",
          "height": 0
        },
        "id": "cvkn-5QFIoOS",
        "outputId": "d5bba897-81d4-4243-ee1d-cf0bead97764"
      },
      "execution_count": 196,
      "outputs": [
        {
          "output_type": "execute_result",
          "data": {
            "text/plain": [
              "(12,)"
            ]
          },
          "metadata": {},
          "execution_count": 196
        }
      ]
    },
    {
      "cell_type": "code",
      "source": [
        "def compute_loss(X, Y, theta):\n",
        "  predictions = X.dot(theta)\n",
        "  errors = np.subtract(predictions, Y)\n",
        "  sqrErrors = np.square(errors)\n",
        "  J = 1/(2*m) * np.sum(sqrErrors)\n",
        "  return J"
      ],
      "metadata": {
        "id": "54TeIV7ZIubb"
      },
      "execution_count": 197,
      "outputs": []
    },
    {
      "cell_type": "code",
      "source": [
        "cost = compute_loss(X_train,y_train, theta)\n",
        "print('The cost for given values of theta_0 and theta_1 = ', cost)"
      ],
      "metadata": {
        "colab": {
          "base_uri": "https://localhost:8080/",
          "height": 0
        },
        "id": "2rLUKuaWI0wH",
        "outputId": "a9c0924c-88e3-4ab2-a6e6-404583df2d24"
      },
      "execution_count": 198,
      "outputs": [
        {
          "output_type": "stream",
          "name": "stdout",
          "text": [
            "The cost for given values of theta_0 and theta_1 =  12617396203243.809\n"
          ]
        }
      ]
    },
    {
      "cell_type": "code",
      "source": [
        "def gradient_descent(X, Y, theta, alpha, iterations, train = True):\n",
        "  cost_history = np.zeros(iterations)\n",
        "\n",
        "  for i in range(iterations):\n",
        "    predictions = X.dot(theta)\n",
        "    errors = np.subtract(predictions, Y)\n",
        "    sum_delta = (alpha/m)*X.transpose().dot(errors)\n",
        "    theta = theta - sum_delta\n",
        "    cost_history[i] = compute_loss(X, Y, theta)\n",
        "    \n",
        "  return theta, cost_history"
      ],
      "metadata": {
        "id": "0nDNAj0uJF5v"
      },
      "execution_count": 199,
      "outputs": []
    },
    {
      "cell_type": "code",
      "source": [
        "theta, cost_history = gradient_descent(X_train, y_train,theta, alpha, iterations)\n",
        "print('Final value of theta =', theta)\n",
        "print('cost_history = ', cost_history[2:])\n",
        "len(cost_history)"
      ],
      "metadata": {
        "colab": {
          "base_uri": "https://localhost:8080/",
          "height": 0
        },
        "id": "3f-BrYwCJKxx",
        "outputId": "a5aeded0-e86b-4c20-cad8-c669196ecc2a"
      },
      "execution_count": 200,
      "outputs": [
        {
          "output_type": "stream",
          "name": "stdout",
          "text": [
            "Final value of theta = [1.94414238e-01 8.30456190e+02 6.23040945e-01 2.92262567e-01\n",
            " 4.24703443e-01 1.72499519e-01 4.67442179e-02 9.14051009e-02\n",
            " 1.43612303e-02 9.52339961e-02 1.55536609e-01 5.97006390e-02]\n",
            "cost_history =  [1.24111673e+13 1.23432850e+13 1.22758284e+13 ... 1.59026464e+12\n",
            " 1.59025907e+12 1.59025353e+12]\n"
          ]
        },
        {
          "output_type": "execute_result",
          "data": {
            "text/plain": [
              "1500"
            ]
          },
          "metadata": {},
          "execution_count": 200
        }
      ]
    },
    {
      "cell_type": "code",
      "source": [
        "plt.plot(cost_history, color = 'pink', label = 'training data')\n",
        "plt.plot(test_history, color = 'blue', label = 'testing data')"
      ],
      "metadata": {
        "colab": {
          "base_uri": "https://localhost:8080/",
          "height": 293
        },
        "id": "_nuVjLG5S5_s",
        "outputId": "57a86b48-e620-46ab-ad71-b580f2ba4557"
      },
      "execution_count": 201,
      "outputs": [
        {
          "output_type": "execute_result",
          "data": {
            "text/plain": [
              "[<matplotlib.lines.Line2D at 0x7f3770565ca0>]"
            ]
          },
          "metadata": {},
          "execution_count": 201
        },
        {
          "output_type": "display_data",
          "data": {
            "text/plain": [
              "<Figure size 432x288 with 1 Axes>"
            ],
            "image/png": "[encoded data removed]"
          },
          "metadata": {
            "needs_background": "light"
          }
        }
      ]
    },
    {
      "cell_type": "markdown",
      "source": [
        "Problem 2a"
      ],
      "metadata": {
        "id": "MTPcrFFWUOtX"
      }
    },
    {
      "cell_type": "code",
      "source": [
        "def normalize_dataframe(df):\n",
        "    numerical_cols = df.select_dtypes(include=[np.number]).columns\n",
        "    df_normalized = df.copy()\n",
        "    for col in numerical_cols:\n",
        "        col_mean = df[col].mean()\n",
        "        col_std = df[col].std()\n",
        "        df_normalized[col] = (df[col] - col_mean) / col_std\n",
        "    return df_normalized"
      ],
      "metadata": {
        "id": "WrwV1XzJdXJQ"
      },
      "execution_count": 202,
      "outputs": []
    },
    {
      "cell_type": "code",
      "source": [
        "#accessing columns that were asked\n",
        "#loc = index by name and name is string\n",
        "reduced_df = df.loc[:,[\"area\", \"bedrooms\", \"bathrooms\", \"stories\", \"parking\"]]\n",
        "price = df.iloc[:,0] #iloc = index by number\n",
        "\n",
        "maxes = []\n",
        "reduced_df = normalize_dataframe(reduced_df)\n",
        "for i in range(5):\n",
        "  maxes.append(max(reduced_df.iloc[:,i]))\n",
        "  reduced_df.iloc[:,i] = reduced_df.iloc[:,i]/maxes[-1]\n",
        "\n",
        "maxes.append(max(price))\n",
        "price = price/maxes[-1]\n",
        "reduced_df.iloc[:,0] = reduced_df.iloc[:,0]/max(reduced_df.iloc[:,0])\n",
        "print(price)\n",
        "print(reduced_df.iloc[:,:])\n",
        "print(maxes)\n"
      ],
      "metadata": {
        "colab": {
          "base_uri": "https://localhost:8080/",
          "height": 0
        },
        "id": "SRxym7-VTZMZ",
        "outputId": "c92c6a43-0592-4531-aec7-361cc0f07ffb"
      },
      "execution_count": 203,
      "outputs": [
        {
          "output_type": "stream",
          "name": "stdout",
          "text": [
            "0      1.000000\n",
            "1      0.921053\n",
            "2      0.921053\n",
            "3      0.918421\n",
            "4      0.857895\n",
            "         ...   \n",
            "540    0.136842\n",
            "541    0.132868\n",
            "542    0.131579\n",
            "543    0.131579\n",
            "544    0.131579\n",
            "Name: price, Length: 545, dtype: float64\n",
            "         area  bedrooms  bathrooms   stories   parking\n",
            "0    0.205391  0.340992   0.263016  0.544314  0.566428\n",
            "1    0.344764  0.340992   1.000000  1.000000  1.000000\n",
            "2    0.435266  0.011487   0.263016  0.088629  0.566428\n",
            "3    0.212631  0.340992   0.263016  0.088629  1.000000\n",
            "4    0.205391  0.340992  -0.105477  0.088629  0.566428\n",
            "..        ...       ...        ...       ...       ...\n",
            "540 -0.194629 -0.318017  -0.105477 -0.367057  0.566428\n",
            "541 -0.248930  0.011487  -0.105477 -0.367057 -0.300716\n",
            "542 -0.138517 -0.318017  -0.105477 -0.367057 -0.300716\n",
            "543 -0.202774  0.011487  -0.105477 -0.367057 -0.300716\n",
            "544 -0.117702  0.011487  -0.105477  0.088629 -0.300716\n",
            "\n",
            "[545 rows x 5 columns]\n",
            "[5.091585570242134, 4.111923842176972, 5.400846899372526, 2.529699688044935, 2.6769500506662025, 13300000]\n"
          ]
        }
      ]
    },
    {
      "cell_type": "code",
      "source": [
        "X_train, X_test, y_train, y_test = train_test_split(reduced_df.values, price.values, test_size = 0.2, random_state =42)"
      ],
      "metadata": {
        "id": "23v8dtkhUhmF"
      },
      "execution_count": 204,
      "outputs": []
    },
    {
      "cell_type": "code",
      "source": [
        "print('features:\\n', X_train[0]) #shows all 5 X values \n",
        "print('example price:', y_train[0]) "
      ],
      "metadata": {
        "colab": {
          "base_uri": "https://localhost:8080/",
          "height": 0
        },
        "id": "zcpI8WQyUoof",
        "outputId": "00a5331b-6936-48a6-e2c2-3349c52a88b1"
      },
      "execution_count": 205,
      "outputs": [
        {
          "output_type": "stream",
          "name": "stdout",
          "text": [
            "features:\n",
            " [0.07687786 0.0114873  0.26301555 1.         0.13285601]\n",
            "example price: 0.5657894736842105\n"
          ]
        }
      ]
    },
    {
      "cell_type": "code",
      "source": [
        "# 5x5\n",
        "# shows first 5 rows of area, bedrooms, bathrooms, stories, parking\n",
        "m = len(X_train)\n",
        "X_train = X_train.reshape(m,5)\n",
        "print('Xvals: \\n', X_train[:5,:])\n",
        "m"
      ],
      "metadata": {
        "colab": {
          "base_uri": "https://localhost:8080/",
          "height": 0
        },
        "id": "xTU-I4ZyUrHf",
        "outputId": "711f61a6-000a-425e-f1e6-8b68924d90b4"
      },
      "execution_count": 206,
      "outputs": [
        {
          "output_type": "stream",
          "name": "stdout",
          "text": [
            "Xvals: \n",
            " [[ 0.07687786  0.0114873   0.26301555  1.          0.13285601]\n",
            " [ 0.18548046  0.0114873   0.26301555 -0.36705686  1.        ]\n",
            " [-0.12077888 -0.31801693 -0.10547667 -0.36705686  0.566428  ]\n",
            " [-0.2299245   0.0114873  -0.10547667  0.08862876 -0.30071599]\n",
            " [-0.12675203  0.0114873  -0.10547667  0.08862876 -0.30071599]]\n"
          ]
        },
        {
          "output_type": "execute_result",
          "data": {
            "text/plain": [
              "436"
            ]
          },
          "metadata": {},
          "execution_count": 206
        }
      ]
    },
    {
      "cell_type": "code",
      "source": [
        "m = len(X_train)\n",
        "n = len(X_test)\n",
        "X_train_1 = np.ones((m,1)) #1 column\n",
        "X_test_1 = np.ones((n,1)) #1 column\n",
        "X_train_1[:1], len(X_train_1) #1 row"
      ],
      "metadata": {
        "colab": {
          "base_uri": "https://localhost:8080/",
          "height": 0
        },
        "id": "wAGcLseTUttC",
        "outputId": "3c14e416-bf4c-4409-ddf3-95c3415aa583"
      },
      "execution_count": 207,
      "outputs": [
        {
          "output_type": "execute_result",
          "data": {
            "text/plain": [
              "(array([[1.]]), 436)"
            ]
          },
          "metadata": {},
          "execution_count": 207
        }
      ]
    },
    {
      "cell_type": "code",
      "source": [
        "X_train = np.hstack((X_train_1, X_train))\n",
        "X_test = np.hstack((X_test_1, X_test))\n",
        "X_train[:5]"
      ],
      "metadata": {
        "colab": {
          "base_uri": "https://localhost:8080/",
          "height": 0
        },
        "id": "gZ5H_H1SUwpj",
        "outputId": "9f52f651-ae4c-450f-e346-eff402372d99"
      },
      "execution_count": 208,
      "outputs": [
        {
          "output_type": "execute_result",
          "data": {
            "text/plain": [
              "array([[ 1.        ,  0.07687786,  0.0114873 ,  0.26301555,  1.        ,\n",
              "         0.13285601],\n",
              "       [ 1.        ,  0.18548046,  0.0114873 ,  0.26301555, -0.36705686,\n",
              "         1.        ],\n",
              "       [ 1.        , -0.12077888, -0.31801693, -0.10547667, -0.36705686,\n",
              "         0.566428  ],\n",
              "       [ 1.        , -0.2299245 ,  0.0114873 , -0.10547667,  0.08862876,\n",
              "        -0.30071599],\n",
              "       [ 1.        , -0.12675203,  0.0114873 , -0.10547667,  0.08862876,\n",
              "        -0.30071599]])"
            ]
          },
          "metadata": {},
          "execution_count": 208
        }
      ]
    },
    {
      "cell_type": "code",
      "source": [
        "theta = np.zeros(6)\n",
        "iterations = 1500\n",
        "alpha = .01\n",
        "theta.shape"
      ],
      "metadata": {
        "colab": {
          "base_uri": "https://localhost:8080/",
          "height": 0
        },
        "id": "rQAkVFs3Uzgx",
        "outputId": "b9537bd2-e758-4629-fb49-a8f4dba8ec0b"
      },
      "execution_count": 209,
      "outputs": [
        {
          "output_type": "execute_result",
          "data": {
            "text/plain": [
              "(6,)"
            ]
          },
          "metadata": {},
          "execution_count": 209
        }
      ]
    },
    {
      "cell_type": "code",
      "source": [
        "def compute_loss(X, Y, theta):\n",
        "  predictions = X.dot(theta)\n",
        "  errors = np.subtract(predictions, Y)\n",
        "  sqrErrors = np.square(errors)\n",
        "  J = 1/(2*m) * np.sum(sqrErrors)\n",
        "  return J"
      ],
      "metadata": {
        "id": "57geN06bU3OA"
      },
      "execution_count": 210,
      "outputs": []
    },
    {
      "cell_type": "code",
      "source": [
        "cost = compute_loss(X_train,y_train, theta)\n",
        "print('The cost for given values of theta_0 and theta_1 = ', cost)"
      ],
      "metadata": {
        "colab": {
          "base_uri": "https://localhost:8080/",
          "height": 0
        },
        "id": "rSyoGYOwU5kO",
        "outputId": "efa8a25e-254b-41bf-8740-7683629560fd"
      },
      "execution_count": 211,
      "outputs": [
        {
          "output_type": "stream",
          "name": "stdout",
          "text": [
            "The cost for given values of theta_0 and theta_1 =  0.07132905310217541\n"
          ]
        }
      ]
    },
    {
      "cell_type": "code",
      "source": [
        "def gradient_descent(X, Y, theta, alpha, iterations, train=True):\n",
        "  cost_history = np.zeros(iterations)\n",
        "\n",
        "  for i in range(iterations):\n",
        "    predictions = X.dot(theta)\n",
        "    errors = np.subtract(predictions, Y)\n",
        "    if train:\n",
        "      sum_delta = (alpha/m)*X.transpose().dot(errors)\n",
        "      theta = theta - sum_delta\n",
        "    cost_history[i] = compute_loss(X, Y, theta)\n",
        "    \n",
        "  return theta, cost_history"
      ],
      "metadata": {
        "id": "JQzgghcIU8Nb"
      },
      "execution_count": 212,
      "outputs": []
    },
    {
      "cell_type": "code",
      "source": [
        "theta, cost_history = gradient_descent(X_train, y_train,theta, alpha, iterations)\n",
        "theta, test_history = gradient_descent(X_test, y_test,theta, alpha, iterations, train = False)\n",
        "\n",
        "print('Final value of theta =', theta)\n",
        "print('cost_history = ', cost_history[2:])\n",
        "len(cost_history)"
      ],
      "metadata": {
        "colab": {
          "base_uri": "https://localhost:8080/",
          "height": 0
        },
        "id": "_D_A8VU1U-gd",
        "outputId": "4d40c456-451d-4093-a688-8e9453bba343"
      },
      "execution_count": 213,
      "outputs": [
        {
          "output_type": "stream",
          "name": "stdout",
          "text": [
            "Final value of theta = [0.35598472 0.12594212 0.06378406 0.10164363 0.09412014 0.08882613]\n",
            "cost_history =  [0.06763439 0.0664511  0.06529114 ... 0.00441907 0.00441863 0.00441819]\n"
          ]
        },
        {
          "output_type": "execute_result",
          "data": {
            "text/plain": [
              "1500"
            ]
          },
          "metadata": {},
          "execution_count": 213
        }
      ]
    },
    {
      "cell_type": "code",
      "source": [
        "plt.plot(cost_history, color = 'pink', label = 'training data')\n",
        "plt.plot(test_history, color = 'blue', label = 'testing data')"
      ],
      "metadata": {
        "colab": {
          "base_uri": "https://localhost:8080/",
          "height": 282
        },
        "id": "t4-UHZNuVA7T",
        "outputId": "164428fc-59df-4842-fe11-2beb040c876a"
      },
      "execution_count": 214,
      "outputs": [
        {
          "output_type": "execute_result",
          "data": {
            "text/plain": [
              "[<matplotlib.lines.Line2D at 0x7f37704df610>]"
            ]
          },
          "metadata": {},
          "execution_count": 214
        },
        {
          "output_type": "display_data",
          "data": {
            "text/plain": [
              "<Figure size 432x288 with 1 Axes>"
            ],
            "image/png": "[encoded data removed]"
          },
          "metadata": {
            "needs_background": "light"
          }
        }
      ]
    },
    {
      "cell_type": "markdown",
      "source": [
        "Poblem 2b"
      ],
      "metadata": {
        "id": "Taw65_pIVFzV"
      }
    },
    {
      "cell_type": "code",
      "source": [
        "#accessing columns that were asked\n",
        "#loc = index by name and name is string\n",
        "reduced_df = df.loc[:,[\"area\", \"bedrooms\", \"bathrooms\", \"stories\", \"mainroad\", \"guestroom\", \"basement\", \"hotwaterheating\", \"airconditioning\", \"parking\", \"prefarea\"]]\n",
        "price = df.iloc[:,0] #iloc = index by number\n",
        "\n",
        "# arr = [1, 2, 3]\n",
        "# print([i for i in arr])\n",
        "# print([i**2 for i in arr])\n",
        "# print([i for i in arr if i%2 == 1])\n",
        "\n",
        "for column_index in [4, 5, 6, 7, 8, 10]:\n",
        "    reduced_df.iloc[:,column_index] = reduced_df.iloc[:,column_index].map({\"yes\": 1, \"no\": 0})\n",
        "display(reduced_df.head())\n",
        "\n",
        "maxes = []\n",
        "\n",
        "reduced_df = normalize_dataframe(reduced_df)\n",
        "\n",
        "for i in range(11):\n",
        "  maxes.append(max(reduced_df.iloc[:,i]))\n",
        "  reduced_df.iloc[:,i] = reduced_df.iloc[:,i]/maxes[-1]\n",
        "\n",
        "maxes.append(max(price))\n",
        "price = price/maxes[-1]\n",
        "reduced_df.iloc[:,0] = reduced_df.iloc[:,0]/max(reduced_df.iloc[:,0])\n",
        "print(price)\n",
        "print(reduced_df.iloc[:,:])\n",
        "print(maxes)\n",
        "\n"
      ],
      "metadata": {
        "colab": {
          "base_uri": "https://localhost:8080/",
          "height": 920
        },
        "id": "qqHTLnwfVJHb",
        "outputId": "396c15a7-b628-4eaf-f10d-1ff36c3e4579"
      },
      "execution_count": 215,
      "outputs": [
        {
          "output_type": "display_data",
          "data": {
            "text/plain": [
              "   area  bedrooms  bathrooms  stories  mainroad  guestroom  basement  \\\n",
              "0  7420         4          2        3         1          0         0   \n",
              "1  8960         4          4        4         1          0         0   \n",
              "2  9960         3          2        2         1          0         1   \n",
              "3  7500         4          2        2         1          0         1   \n",
              "4  7420         4          1        2         1          1         1   \n",
              "\n",
              "   hotwaterheating  airconditioning  parking  prefarea  \n",
              "0                0                1        2         1  \n",
              "1                0                1        3         0  \n",
              "2                0                0        2         1  \n",
              "3                0                1        3         1  \n",
              "4                0                1        2         0  "
            ],
            "text/html": [
              "\n",
              "  <div id=\"df-aa44e8ce-a790-4840-9ecc-2b3eefdc4106\">\n",
              "    <div class=\"colab-df-container\">\n",
              "      <div>\n",
              "<style scoped>\n",
              "    .dataframe tbody tr th:only-of-type {\n",
              "        vertical-align: middle;\n",
              "    }\n",
              "\n",
              "    .dataframe tbody tr th {\n",
              "        vertical-align: top;\n",
              "    }\n",
              "\n",
              "    .dataframe thead th {\n",
              "        text-align: right;\n",
              "    }\n",
              "</style>\n",
              "<table border=\"1\" class=\"dataframe\">\n",
              "  <thead>\n",
              "    <tr style=\"text-align: right;\">\n",
              "      <th></th>\n",
              "      <th>area</th>\n",
              "      <th>bedrooms</th>\n",
              "      <th>bathrooms</th>\n",
              "      <th>stories</th>\n",
              "      <th>mainroad</th>\n",
              "      <th>guestroom</th>\n",
              "      <th>basement</th>\n",
              "      <th>hotwaterheating</th>\n",
              "      <th>airconditioning</th>\n",
              "      <th>parking</th>\n",
              "      <th>prefarea</th>\n",
              "    </tr>\n",
              "  </thead>\n",
              "  <tbody>\n",
              "    <tr>\n",
              "      <th>0</th>\n",
              "      <td>7420</td>\n",
              "      <td>4</td>\n",
              "      <td>2</td>\n",
              "      <td>3</td>\n",
              "      <td>1</td>\n",
              "      <td>0</td>\n",
              "      <td>0</td>\n",
              "      <td>0</td>\n",
              "      <td>1</td>\n",
              "      <td>2</td>\n",
              "      <td>1</td>\n",
              "    </tr>\n",
              "    <tr>\n",
              "      <th>1</th>\n",
              "      <td>8960</td>\n",
              "      <td>4</td>\n",
              "      <td>4</td>\n",
              "      <td>4</td>\n",
              "      <td>1</td>\n",
              "      <td>0</td>\n",
              "      <td>0</td>\n",
              "      <td>0</td>\n",
              "      <td>1</td>\n",
              "      <td>3</td>\n",
              "      <td>0</td>\n",
              "    </tr>\n",
              "    <tr>\n",
              "      <th>2</th>\n",
              "      <td>9960</td>\n",
              "      <td>3</td>\n",
              "      <td>2</td>\n",
              "      <td>2</td>\n",
              "      <td>1</td>\n",
              "      <td>0</td>\n",
              "      <td>1</td>\n",
              "      <td>0</td>\n",
              "      <td>0</td>\n",
              "      <td>2</td>\n",
              "      <td>1</td>\n",
              "    </tr>\n",
              "    <tr>\n",
              "      <th>3</th>\n",
              "      <td>7500</td>\n",
              "      <td>4</td>\n",
              "      <td>2</td>\n",
              "      <td>2</td>\n",
              "      <td>1</td>\n",
              "      <td>0</td>\n",
              "      <td>1</td>\n",
              "      <td>0</td>\n",
              "      <td>1</td>\n",
              "      <td>3</td>\n",
              "      <td>1</td>\n",
              "    </tr>\n",
              "    <tr>\n",
              "      <th>4</th>\n",
              "      <td>7420</td>\n",
              "      <td>4</td>\n",
              "      <td>1</td>\n",
              "      <td>2</td>\n",
              "      <td>1</td>\n",
              "      <td>1</td>\n",
              "      <td>1</td>\n",
              "      <td>0</td>\n",
              "      <td>1</td>\n",
              "      <td>2</td>\n",
              "      <td>0</td>\n",
              "    </tr>\n",
              "  </tbody>\n",
              "</table>\n",
              "</div>\n",
              "      <button class=\"colab-df-convert\" onclick=\"convertToInteractive('df-aa44e8ce-a790-4840-9ecc-2b3eefdc4106')\"\n",
              "              title=\"Convert this dataframe to an interactive table.\"\n",
              "              style=\"display:none;\">\n",
              "        \n",
              "  <svg xmlns=\"http://www.w3.org/2000/svg\" height=\"24px\"viewBox=\"0 0 24 24\"\n",
              "       width=\"24px\">\n",
              "    <path d=\"M0 0h24v24H0V0z\" fill=\"none\"/>\n",
              "    <path d=\"M18.56 5.44l.94 2.06.94-2.06 2.06-.94-2.06-.94-.94-2.06-.94 2.06-2.06.94zm-11 1L8.5 8.5l.94-2.06 2.06-.94-2.06-.94L8.5 2.5l-.94 2.06-2.06.94zm10 10l.94 2.06.94-2.06 2.06-.94-2.06-.94-.94-2.06-.94 2.06-2.06.94z\"/><path d=\"M17.41 7.96l-1.37-1.37c-.4-.4-.92-.59-1.43-.59-.52 0-1.04.2-1.43.59L10.3 9.45l-7.72 7.72c-.78.78-.78 2.05 0 2.83L4 21.41c.39.39.9.59 1.41.59.51 0 1.02-.2 1.41-.59l7.78-7.78 2.81-2.81c.8-.78.8-2.07 0-2.86zM5.41 20L4 18.59l7.72-7.72 1.47 1.35L5.41 20z\"/>\n",
              "  </svg>\n",
              "      </button>\n",
              "      \n",
              "  <style>\n",
              "    .colab-df-container {\n",
              "      display:flex;\n",
              "      flex-wrap:wrap;\n",
              "      gap: 12px;\n",
              "    }\n",
              "\n",
              "    .colab-df-convert {\n",
              "      background-color: #E8F0FE;\n",
              "      border: none;\n",
              "      border-radius: 50%;\n",
              "      cursor: pointer;\n",
              "      display: none;\n",
              "      fill: #1967D2;\n",
              "      height: 32px;\n",
              "      padding: 0 0 0 0;\n",
              "      width: 32px;\n",
              "    }\n",
              "\n",
              "    .colab-df-convert:hover {\n",
              "      background-color: #E2EBFA;\n",
              "      box-shadow: 0px 1px 2px rgba(60, 64, 67, 0.3), 0px 1px 3px 1px rgba(60, 64, 67, 0.15);\n",
              "      fill: #174EA6;\n",
              "    }\n",
              "\n",
              "    [theme=dark] .colab-df-convert {\n",
              "      background-color: #3B4455;\n",
              "      fill: #D2E3FC;\n",
              "    }\n",
              "\n",
              "    [theme=dark] .colab-df-convert:hover {\n",
              "      background-color: #434B5C;\n",
              "      box-shadow: 0px 1px 3px 1px rgba(0, 0, 0, 0.15);\n",
              "      filter: drop-shadow(0px 1px 2px rgba(0, 0, 0, 0.3));\n",
              "      fill: #FFFFFF;\n",
              "    }\n",
              "  </style>\n",
              "\n",
              "      <script>\n",
              "        const buttonEl =\n",
              "          document.querySelector('#df-aa44e8ce-a790-4840-9ecc-2b3eefdc4106 button.colab-df-convert');\n",
              "        buttonEl.style.display =\n",
              "          google.colab.kernel.accessAllowed ? 'block' : 'none';\n",
              "\n",
              "        async function convertToInteractive(key) {\n",
              "          const element = document.querySelector('#df-aa44e8ce-a790-4840-9ecc-2b3eefdc4106');\n",
              "          const dataTable =\n",
              "            await google.colab.kernel.invokeFunction('convertToInteractive',\n",
              "                                                     [key], {});\n",
              "          if (!dataTable) return;\n",
              "\n",
              "          const docLinkHtml = 'Like what you see? Visit the ' +\n",
              "            '<a target=\"_blank\" href=https://colab.research.google.com/notebooks/data_table.ipynb>data table notebook</a>'\n",
              "            + ' to learn more about interactive tables.';\n",
              "          element.innerHTML = '';\n",
              "          dataTable['output_type'] = 'display_data';\n",
              "          await google.colab.output.renderOutput(dataTable, element);\n",
              "          const docLink = document.createElement('div');\n",
              "          docLink.innerHTML = docLinkHtml;\n",
              "          element.appendChild(docLink);\n",
              "        }\n",
              "      </script>\n",
              "    </div>\n",
              "  </div>\n",
              "  "
            ]
          },
          "metadata": {}
        },
        {
          "output_type": "stream",
          "name": "stdout",
          "text": [
            "0      1.000000\n",
            "1      0.921053\n",
            "2      0.921053\n",
            "3      0.918421\n",
            "4      0.857895\n",
            "         ...   \n",
            "540    0.136842\n",
            "541    0.132868\n",
            "542    0.131579\n",
            "543    0.131579\n",
            "544    0.131579\n",
            "Name: price, Length: 545, dtype: float64\n",
            "         area  bedrooms  bathrooms   stories  mainroad  guestroom  basement  \\\n",
            "0    0.205391  0.340992   0.263016  0.544314  1.000000  -0.216518 -0.539548   \n",
            "1    0.344764  0.340992   1.000000  1.000000  1.000000  -0.216518 -0.539548   \n",
            "2    0.435266  0.011487   0.263016  0.088629  1.000000  -0.216518  1.000000   \n",
            "3    0.212631  0.340992   0.263016  0.088629  1.000000  -0.216518  1.000000   \n",
            "4    0.205391  0.340992  -0.105477  0.088629  1.000000   1.000000  1.000000   \n",
            "..        ...       ...        ...       ...       ...        ...       ...   \n",
            "540 -0.194629 -0.318017  -0.105477 -0.367057  1.000000  -0.216518  1.000000   \n",
            "541 -0.248930  0.011487  -0.105477 -0.367057 -6.077922  -0.216518 -0.539548   \n",
            "542 -0.138517 -0.318017  -0.105477 -0.367057  1.000000  -0.216518 -0.539548   \n",
            "543 -0.202774  0.011487  -0.105477 -0.367057 -6.077922  -0.216518 -0.539548   \n",
            "544 -0.117702  0.011487  -0.105477  0.088629  1.000000  -0.216518 -0.539548   \n",
            "\n",
            "     hotwaterheating  airconditioning   parking  prefarea  \n",
            "0          -0.048077         1.000000  0.566428  1.000000  \n",
            "1          -0.048077         1.000000  1.000000 -0.306954  \n",
            "2          -0.048077        -0.461126  0.566428  1.000000  \n",
            "3          -0.048077         1.000000  1.000000  1.000000  \n",
            "4          -0.048077         1.000000  0.566428 -0.306954  \n",
            "..               ...              ...       ...       ...  \n",
            "540        -0.048077        -0.461126  0.566428 -0.306954  \n",
            "541        -0.048077        -0.461126 -0.300716 -0.306954  \n",
            "542        -0.048077        -0.461126 -0.300716 -0.306954  \n",
            "543        -0.048077        -0.461126 -0.300716 -0.306954  \n",
            "544        -0.048077        -0.461126 -0.300716 -0.306954  \n",
            "\n",
            "[545 rows x 11 columns]\n",
            "[5.091585570242134, 4.111923842176972, 5.400846899372526, 2.529699688044935, 0.40525057036170026, 2.147110217260803, 1.3601479337382152, 4.55651564930763, 1.4712666515828257, 2.6769500506662025, 1.8032844651871542, 13300000]\n"
          ]
        }
      ]
    },
    {
      "cell_type": "code",
      "source": [
        "X_train, X_test, y_train, y_test = train_test_split(reduced_df.values, price.values, test_size = 0.2, random_state =42)"
      ],
      "metadata": {
        "id": "9KD31ilKVOGL"
      },
      "execution_count": 216,
      "outputs": []
    },
    {
      "cell_type": "code",
      "source": [
        "print('features:\\n', X_train[0]) #shows all 5 X values \n",
        "print('example price:', y_train[0]) "
      ],
      "metadata": {
        "colab": {
          "base_uri": "https://localhost:8080/",
          "height": 0
        },
        "id": "Ks8jb4WEVRsu",
        "outputId": "33fa4fa7-7071-4331-d2e6-b860c6375ef8"
      },
      "execution_count": 217,
      "outputs": [
        {
          "output_type": "stream",
          "name": "stdout",
          "text": [
            "features:\n",
            " [ 0.07687786  0.0114873   0.26301555  1.          1.         -0.21651786\n",
            " -0.53954802 -0.04807692  1.          0.13285601 -0.30695444]\n",
            "example price: 0.5657894736842105\n"
          ]
        }
      ]
    },
    {
      "cell_type": "code",
      "source": [
        "# 5x5\n",
        "# shows first 5 rows of area, bedrooms, bathrooms, stories, parking\n",
        "m = len(X_train)\n",
        "X_train = X_train.reshape(m,11)\n",
        "print('Xvals: \\n', X_train[:11,:])\n",
        "m"
      ],
      "metadata": {
        "colab": {
          "base_uri": "https://localhost:8080/",
          "height": 0
        },
        "id": "YF8aFcGEVTq1",
        "outputId": "429db3f3-cc93-4e83-d7c5-c86bc0e624a0"
      },
      "execution_count": 218,
      "outputs": [
        {
          "output_type": "stream",
          "name": "stdout",
          "text": [
            "Xvals: \n",
            " [[ 0.07687786  0.0114873   0.26301555  1.          1.         -0.21651786\n",
            "  -0.53954802 -0.04807692  1.          0.13285601 -0.30695444]\n",
            " [ 0.18548046  0.0114873   0.26301555 -0.36705686  1.         -0.21651786\n",
            "   1.         -0.04807692  1.          1.         -0.30695444]\n",
            " [-0.12077888 -0.31801693 -0.10547667 -0.36705686  1.         -0.21651786\n",
            "   1.         -0.04807692  1.          0.566428   -0.30695444]\n",
            " [-0.2299245   0.0114873  -0.10547667  0.08862876  1.         -0.21651786\n",
            "   1.         -0.04807692 -0.46112601 -0.30071599  1.        ]\n",
            " [-0.12675203  0.0114873  -0.10547667  0.08862876  1.         -0.21651786\n",
            "  -0.53954802 -0.04807692 -0.46112601 -0.30071599 -0.30695444]\n",
            " [-0.01271929  0.0114873  -0.10547667  0.08862876  1.         -0.21651786\n",
            "   1.         -0.04807692 -0.46112601 -0.30071599 -0.30695444]\n",
            " [-0.11770181  0.0114873  -0.10547667  0.08862876  1.         -0.21651786\n",
            "  -0.53954802 -0.04807692 -0.46112601 -0.30071599 -0.30695444]\n",
            " [-0.00674615  0.0114873  -0.10547667 -0.36705686 -6.07792208 -0.21651786\n",
            "  -0.53954802 -0.04807692 -0.46112601 -0.30071599 -0.30695444]\n",
            " [-0.17833826  0.0114873  -0.10547667 -0.36705686 -6.07792208 -0.21651786\n",
            "  -0.53954802 -0.04807692 -0.46112601 -0.30071599 -0.30695444]\n",
            " [ 0.0786879   0.0114873  -0.10547667 -0.36705686  1.         -0.21651786\n",
            "  -0.53954802 -0.04807692 -0.46112601 -0.30071599 -0.30695444]\n",
            " [-0.18376839  0.0114873  -0.10547667  0.08862876 -6.07792208 -0.21651786\n",
            "   1.          1.         -0.46112601 -0.30071599 -0.30695444]]\n"
          ]
        },
        {
          "output_type": "execute_result",
          "data": {
            "text/plain": [
              "436"
            ]
          },
          "metadata": {},
          "execution_count": 218
        }
      ]
    },
    {
      "cell_type": "code",
      "source": [
        "m = len(X_train)\n",
        "n = len(X_test)\n",
        "X_train_1 = np.ones((m,1)) #1 column\n",
        "X_test_1 = np.ones((n,1)) #1 column\n",
        "X_train_1[:5], len(X_train_1) #1 row"
      ],
      "metadata": {
        "colab": {
          "base_uri": "https://localhost:8080/",
          "height": 0
        },
        "id": "EIzUkJMBVWXu",
        "outputId": "6d2394d7-3050-4a28-8e48-846b0d6f9da3"
      },
      "execution_count": 219,
      "outputs": [
        {
          "output_type": "execute_result",
          "data": {
            "text/plain": [
              "(array([[1.],\n",
              "        [1.],\n",
              "        [1.],\n",
              "        [1.],\n",
              "        [1.]]), 436)"
            ]
          },
          "metadata": {},
          "execution_count": 219
        }
      ]
    },
    {
      "cell_type": "code",
      "source": [
        "X_train = np.hstack((X_train_1, X_train))\n",
        "X_test = np.hstack((X_test_1, X_test))\n",
        "X_train[:5]"
      ],
      "metadata": {
        "colab": {
          "base_uri": "https://localhost:8080/",
          "height": 0
        },
        "id": "S1jh5Oh6VY-o",
        "outputId": "1b47989d-0f89-47d9-b474-226f9c98e422"
      },
      "execution_count": 220,
      "outputs": [
        {
          "output_type": "execute_result",
          "data": {
            "text/plain": [
              "array([[ 1.        ,  0.07687786,  0.0114873 ,  0.26301555,  1.        ,\n",
              "         1.        , -0.21651786, -0.53954802, -0.04807692,  1.        ,\n",
              "         0.13285601, -0.30695444],\n",
              "       [ 1.        ,  0.18548046,  0.0114873 ,  0.26301555, -0.36705686,\n",
              "         1.        , -0.21651786,  1.        , -0.04807692,  1.        ,\n",
              "         1.        , -0.30695444],\n",
              "       [ 1.        , -0.12077888, -0.31801693, -0.10547667, -0.36705686,\n",
              "         1.        , -0.21651786,  1.        , -0.04807692,  1.        ,\n",
              "         0.566428  , -0.30695444],\n",
              "       [ 1.        , -0.2299245 ,  0.0114873 , -0.10547667,  0.08862876,\n",
              "         1.        , -0.21651786,  1.        , -0.04807692, -0.46112601,\n",
              "        -0.30071599,  1.        ],\n",
              "       [ 1.        , -0.12675203,  0.0114873 , -0.10547667,  0.08862876,\n",
              "         1.        , -0.21651786, -0.53954802, -0.04807692, -0.46112601,\n",
              "        -0.30071599, -0.30695444]])"
            ]
          },
          "metadata": {},
          "execution_count": 220
        }
      ]
    },
    {
      "cell_type": "code",
      "source": [
        "theta = np.zeros(12)\n",
        "iterations = 1500\n",
        "alpha = .01\n",
        "theta.shape"
      ],
      "metadata": {
        "colab": {
          "base_uri": "https://localhost:8080/",
          "height": 0
        },
        "id": "Q93T3dYZVbAN",
        "outputId": "d6a0c781-9ffd-49ac-c457-091c8df90b8a"
      },
      "execution_count": 221,
      "outputs": [
        {
          "output_type": "execute_result",
          "data": {
            "text/plain": [
              "(12,)"
            ]
          },
          "metadata": {},
          "execution_count": 221
        }
      ]
    },
    {
      "cell_type": "code",
      "source": [
        "def compute_loss(X, Y, theta):\n",
        "  predictions = X.dot(theta)\n",
        "  errors = np.subtract(predictions, Y)\n",
        "  sqrErrors = np.square(errors)\n",
        "  J = 1/(2*m) * np.sum(sqrErrors)\n",
        "  return J"
      ],
      "metadata": {
        "id": "XoIViqAKVeYn"
      },
      "execution_count": 222,
      "outputs": []
    },
    {
      "cell_type": "code",
      "source": [
        "cost = compute_loss(X_train,y_train, theta)\n",
        "print('The cost for given values of theta_0 and theta_1 = ', cost)"
      ],
      "metadata": {
        "colab": {
          "base_uri": "https://localhost:8080/",
          "height": 0
        },
        "id": "i_WlFJyBVgvn",
        "outputId": "4fbd1878-f5a5-4e50-9a41-4659e269be4f"
      },
      "execution_count": 223,
      "outputs": [
        {
          "output_type": "stream",
          "name": "stdout",
          "text": [
            "The cost for given values of theta_0 and theta_1 =  0.07132905310217541\n"
          ]
        }
      ]
    },
    {
      "cell_type": "code",
      "source": [
        "def gradient_descent(X, Y, theta, alpha, iterations,train = True):\n",
        "  cost_history = np.zeros(iterations)\n",
        "\n",
        "  for i in range(iterations):\n",
        "    predictions = X.dot(theta)\n",
        "    errors = np.subtract(predictions, Y)\n",
        "    if train:\n",
        "      sum_delta = (alpha/m)*X.transpose().dot(errors)\n",
        "      theta = theta - sum_delta\n",
        "    cost_history[i] = compute_loss(X, Y, theta)\n",
        "    \n",
        "  return theta, cost_history"
      ],
      "metadata": {
        "id": "Uxeqi3T5Vi4K"
      },
      "execution_count": 224,
      "outputs": []
    },
    {
      "cell_type": "code",
      "source": [
        "theta, cost_history = gradient_descent(X_train, y_train,theta, alpha, iterations)\n",
        "theta, test_history = gradient_descent(X_test, y_test,theta, alpha, iterations, train = False)\n",
        "print('Final value of theta =', theta)\n",
        "print('cost_history = ', cost_history[2:])\n",
        "len(cost_history)"
      ],
      "metadata": {
        "colab": {
          "base_uri": "https://localhost:8080/",
          "height": 0
        },
        "id": "D7QLdponVkym",
        "outputId": "2dea8964-1a0f-42d3-ac04-0bec0af18b39"
      },
      "execution_count": 225,
      "outputs": [
        {
          "output_type": "stream",
          "name": "stdout",
          "text": [
            "Final value of theta = [0.35585743 0.09012686 0.04931931 0.08952685 0.07344395 0.00611183\n",
            " 0.02394733 0.02030264 0.03399489 0.04994878 0.06349352 0.03876027]\n",
            "cost_history =  [0.06731463 0.06604516 0.0648073  ... 0.00327253 0.0032722  0.00327188]\n"
          ]
        },
        {
          "output_type": "execute_result",
          "data": {
            "text/plain": [
              "1500"
            ]
          },
          "metadata": {},
          "execution_count": 225
        }
      ]
    },
    {
      "cell_type": "code",
      "source": [
        "plt.plot(cost_history, color = 'pink', label = 'training data')\n",
        "plt.plot(test_history, color = 'blue', label = 'testing data')"
      ],
      "metadata": {
        "colab": {
          "base_uri": "https://localhost:8080/",
          "height": 282
        },
        "id": "28ZKCaG7VnaJ",
        "outputId": "87c88f93-d92a-46f8-9ff5-1fb6adc6a0db"
      },
      "execution_count": 226,
      "outputs": [
        {
          "output_type": "execute_result",
          "data": {
            "text/plain": [
              "[<matplotlib.lines.Line2D at 0x7f3770454130>]"
            ]
          },
          "metadata": {},
          "execution_count": 226
        },
        {
          "output_type": "display_data",
          "data": {
            "text/plain": [
              "<Figure size 432x288 with 1 Axes>"
            ],
            "image/png": "[encoded data removed]"
          },
          "metadata": {
            "needs_background": "light"
          }
        }
      ]
    },
    {
      "cell_type": "markdown",
      "source": [
        "Problem 3a"
      ],
      "metadata": {
        "id": "t_0emMISWB2f"
      }
    },
    {
      "cell_type": "code",
      "source": [
        "#accessing columns that were asked\n",
        "#loc = index by name and name is string\n",
        "reduced_df = df.loc[:,[\"area\", \"bedrooms\", \"bathrooms\", \"stories\", \"parking\"]]\n",
        "price = df.iloc[:,0] #iloc = index by number\n",
        "\n",
        "maxes = []\n",
        "reduced_df = normalize_dataframe(reduced_df)\n",
        "for i in range(5):\n",
        "  maxes.append(max(reduced_df.iloc[:,i]))\n",
        "  reduced_df.iloc[:,i] = reduced_df.iloc[:,i]/maxes[-1]\n",
        "\n",
        "maxes.append(max(price))\n",
        "price = price/maxes[-1]\n",
        "reduced_df.iloc[:,0] = reduced_df.iloc[:,0]/max(reduced_df.iloc[:,0])\n",
        "print(price)\n",
        "print(reduced_df.iloc[:,:])\n",
        "print(maxes)\n"
      ],
      "metadata": {
        "colab": {
          "base_uri": "https://localhost:8080/",
          "height": 0
        },
        "id": "F4ChGcxuWBSD",
        "outputId": "69004b9a-ffaa-4032-ecf8-d3a0f571e20e"
      },
      "execution_count": 227,
      "outputs": [
        {
          "output_type": "stream",
          "name": "stdout",
          "text": [
            "0      1.000000\n",
            "1      0.921053\n",
            "2      0.921053\n",
            "3      0.918421\n",
            "4      0.857895\n",
            "         ...   \n",
            "540    0.136842\n",
            "541    0.132868\n",
            "542    0.131579\n",
            "543    0.131579\n",
            "544    0.131579\n",
            "Name: price, Length: 545, dtype: float64\n",
            "         area  bedrooms  bathrooms   stories   parking\n",
            "0    0.205391  0.340992   0.263016  0.544314  0.566428\n",
            "1    0.344764  0.340992   1.000000  1.000000  1.000000\n",
            "2    0.435266  0.011487   0.263016  0.088629  0.566428\n",
            "3    0.212631  0.340992   0.263016  0.088629  1.000000\n",
            "4    0.205391  0.340992  -0.105477  0.088629  0.566428\n",
            "..        ...       ...        ...       ...       ...\n",
            "540 -0.194629 -0.318017  -0.105477 -0.367057  0.566428\n",
            "541 -0.248930  0.011487  -0.105477 -0.367057 -0.300716\n",
            "542 -0.138517 -0.318017  -0.105477 -0.367057 -0.300716\n",
            "543 -0.202774  0.011487  -0.105477 -0.367057 -0.300716\n",
            "544 -0.117702  0.011487  -0.105477  0.088629 -0.300716\n",
            "\n",
            "[545 rows x 5 columns]\n",
            "[5.091585570242134, 4.111923842176972, 5.400846899372526, 2.529699688044935, 2.6769500506662025, 13300000]\n"
          ]
        }
      ]
    },
    {
      "cell_type": "code",
      "source": [
        "X_train, X_test, y_train, y_test = train_test_split(reduced_df.values, price.values, test_size = 0.2, random_state =42)"
      ],
      "metadata": {
        "id": "ObU0IOeFWOIq"
      },
      "execution_count": 228,
      "outputs": []
    },
    {
      "cell_type": "code",
      "source": [
        "print('features:\\n', X_train[0]) #shows all 5 X values \n",
        "print('example price:', y_train[0]) "
      ],
      "metadata": {
        "colab": {
          "base_uri": "https://localhost:8080/",
          "height": 0
        },
        "id": "ov5CD1APWQK7",
        "outputId": "33192475-a366-427d-b22d-cc6f3fb31077"
      },
      "execution_count": 229,
      "outputs": [
        {
          "output_type": "stream",
          "name": "stdout",
          "text": [
            "features:\n",
            " [0.07687786 0.0114873  0.26301555 1.         0.13285601]\n",
            "example price: 0.5657894736842105\n"
          ]
        }
      ]
    },
    {
      "cell_type": "code",
      "source": [
        "# 5x5\n",
        "# shows first 5 rows of area, bedrooms, bathrooms, stories, parking\n",
        "m = len(X_train)\n",
        "X_train = X_train.reshape(m,5)\n",
        "print('Xvals: \\n', X_train[:5,:])\n",
        "m"
      ],
      "metadata": {
        "colab": {
          "base_uri": "https://localhost:8080/",
          "height": 0
        },
        "id": "dj3r99wQWVu7",
        "outputId": "e071a7c5-e28b-449b-9f73-7c0c4f6cd082"
      },
      "execution_count": 230,
      "outputs": [
        {
          "output_type": "stream",
          "name": "stdout",
          "text": [
            "Xvals: \n",
            " [[ 0.07687786  0.0114873   0.26301555  1.          0.13285601]\n",
            " [ 0.18548046  0.0114873   0.26301555 -0.36705686  1.        ]\n",
            " [-0.12077888 -0.31801693 -0.10547667 -0.36705686  0.566428  ]\n",
            " [-0.2299245   0.0114873  -0.10547667  0.08862876 -0.30071599]\n",
            " [-0.12675203  0.0114873  -0.10547667  0.08862876 -0.30071599]]\n"
          ]
        },
        {
          "output_type": "execute_result",
          "data": {
            "text/plain": [
              "436"
            ]
          },
          "metadata": {},
          "execution_count": 230
        }
      ]
    },
    {
      "cell_type": "code",
      "source": [
        "m = len(X_train)\n",
        "n = len(X_test)\n",
        "X_train_1 = np.ones((m,1)) #1 column\n",
        "X_test_1 = np.ones((n,1)) #1 column\n",
        "X_train_1[:1], len(X_train_1) #1 row"
      ],
      "metadata": {
        "colab": {
          "base_uri": "https://localhost:8080/",
          "height": 0
        },
        "id": "RSK1WsxiWYfc",
        "outputId": "6c352477-295f-46aa-f337-0941225f80b3"
      },
      "execution_count": 231,
      "outputs": [
        {
          "output_type": "execute_result",
          "data": {
            "text/plain": [
              "(array([[1.]]), 436)"
            ]
          },
          "metadata": {},
          "execution_count": 231
        }
      ]
    },
    {
      "cell_type": "code",
      "source": [
        "X_train = np.hstack((X_train_1, X_train))\n",
        "X_test = np.hstack((X_test_1, X_test))\n",
        "X_train[:5], "
      ],
      "metadata": {
        "colab": {
          "base_uri": "https://localhost:8080/",
          "height": 0
        },
        "id": "hfCCjiydWa12",
        "outputId": "93d6b568-0ebb-46fd-b57c-ec233d1c60de"
      },
      "execution_count": 232,
      "outputs": [
        {
          "output_type": "execute_result",
          "data": {
            "text/plain": [
              "(array([[ 1.        ,  0.07687786,  0.0114873 ,  0.26301555,  1.        ,\n",
              "          0.13285601],\n",
              "        [ 1.        ,  0.18548046,  0.0114873 ,  0.26301555, -0.36705686,\n",
              "          1.        ],\n",
              "        [ 1.        , -0.12077888, -0.31801693, -0.10547667, -0.36705686,\n",
              "          0.566428  ],\n",
              "        [ 1.        , -0.2299245 ,  0.0114873 , -0.10547667,  0.08862876,\n",
              "         -0.30071599],\n",
              "        [ 1.        , -0.12675203,  0.0114873 , -0.10547667,  0.08862876,\n",
              "         -0.30071599]]),)"
            ]
          },
          "metadata": {},
          "execution_count": 232
        }
      ]
    },
    {
      "cell_type": "code",
      "source": [
        "theta = np.zeros(6)\n",
        "iterations = 1500\n",
        "alpha = .01\n",
        "theta.shape"
      ],
      "metadata": {
        "colab": {
          "base_uri": "https://localhost:8080/",
          "height": 0
        },
        "id": "3xSR4J3wWeMD",
        "outputId": "193e4097-7e5e-4a88-8be2-8da722a902a3"
      },
      "execution_count": 233,
      "outputs": [
        {
          "output_type": "execute_result",
          "data": {
            "text/plain": [
              "(6,)"
            ]
          },
          "metadata": {},
          "execution_count": 233
        }
      ]
    },
    {
      "cell_type": "code",
      "source": [
        "def compute_loss(X, Y, theta, lambda_reg=0.1):\n",
        "    m = len(Y)\n",
        "    predictions = X.dot(theta)\n",
        "    errors = predictions - Y\n",
        "    sqrErrors = np.square(errors)\n",
        "    regularization = (lambda_reg/(2*m)) * np.sum(theta[1:]**2)\n",
        "    J = 1/(2*m) * np.sum(sqrErrors) + regularization\n",
        "    return J"
      ],
      "metadata": {
        "id": "kI_MnWhOWgmC"
      },
      "execution_count": 234,
      "outputs": []
    },
    {
      "cell_type": "code",
      "source": [
        "cost = compute_loss(X_train,y_train, theta)\n",
        "print('The cost for given values of theta_0 and theta_1 = ', cost)"
      ],
      "metadata": {
        "colab": {
          "base_uri": "https://localhost:8080/",
          "height": 0
        },
        "id": "jOSVzaw1WivA",
        "outputId": "3f646860-1d61-4a56-c08e-a360a96692c8"
      },
      "execution_count": 235,
      "outputs": [
        {
          "output_type": "stream",
          "name": "stdout",
          "text": [
            "The cost for given values of theta_0 and theta_1 =  0.07132905310217541\n"
          ]
        }
      ]
    },
    {
      "cell_type": "code",
      "source": [
        "def gradient_descent(X, Y, theta, alpha, iterations, lambda_reg=0.1, train=True):\n",
        "    m = len(Y)\n",
        "    cost_history = np.zeros(iterations)\n",
        "\n",
        "    for i in range(iterations):\n",
        "        predictions = X.dot(theta)\n",
        "        errors = predictions - Y\n",
        "        if train:\n",
        "            regularization = (lambda_reg/(2*m)) * np.sum(theta[1:]**2)\n",
        "            sum_delta = (alpha/m)*X.transpose().dot(errors) + regularization\n",
        "            theta = theta - sum_delta\n",
        "        cost_history[i] = compute_loss(X, Y, theta, lambda_reg)\n",
        "        \n",
        "    return theta, cost_history"
      ],
      "metadata": {
        "id": "lJpmllOrWlQO"
      },
      "execution_count": 236,
      "outputs": []
    },
    {
      "cell_type": "code",
      "source": [
        "X_train"
      ],
      "metadata": {
        "colab": {
          "base_uri": "https://localhost:8080/",
          "height": 0
        },
        "id": "0WvLNizkBMMc",
        "outputId": "1fc4a08f-f76f-49e9-eaf8-7df02d8249c0"
      },
      "execution_count": 237,
      "outputs": [
        {
          "output_type": "execute_result",
          "data": {
            "text/plain": [
              "array([[ 1.        ,  0.07687786,  0.0114873 ,  0.26301555,  1.        ,\n",
              "         0.13285601],\n",
              "       [ 1.        ,  0.18548046,  0.0114873 ,  0.26301555, -0.36705686,\n",
              "         1.        ],\n",
              "       [ 1.        , -0.12077888, -0.31801693, -0.10547667, -0.36705686,\n",
              "         0.566428  ],\n",
              "       ...,\n",
              "       [ 1.        , -0.0588754 ,  0.0114873 ,  0.26301555,  0.54431438,\n",
              "         0.13285601],\n",
              "       [ 1.        , -0.1005064 , -0.31801693, -0.10547667, -0.36705686,\n",
              "        -0.30071599],\n",
              "       [ 1.        ,  0.03162677,  0.0114873 ,  0.26301555,  1.        ,\n",
              "         0.13285601]])"
            ]
          },
          "metadata": {},
          "execution_count": 237
        }
      ]
    },
    {
      "cell_type": "code",
      "source": [
        "X_train"
      ],
      "metadata": {
        "colab": {
          "base_uri": "https://localhost:8080/",
          "height": 0
        },
        "id": "iLoSu8WrFtFr",
        "outputId": "a4a2b293-2c2f-4da4-a15c-97b0b4411d8b"
      },
      "execution_count": 238,
      "outputs": [
        {
          "output_type": "execute_result",
          "data": {
            "text/plain": [
              "array([[ 1.        ,  0.07687786,  0.0114873 ,  0.26301555,  1.        ,\n",
              "         0.13285601],\n",
              "       [ 1.        ,  0.18548046,  0.0114873 ,  0.26301555, -0.36705686,\n",
              "         1.        ],\n",
              "       [ 1.        , -0.12077888, -0.31801693, -0.10547667, -0.36705686,\n",
              "         0.566428  ],\n",
              "       ...,\n",
              "       [ 1.        , -0.0588754 ,  0.0114873 ,  0.26301555,  0.54431438,\n",
              "         0.13285601],\n",
              "       [ 1.        , -0.1005064 , -0.31801693, -0.10547667, -0.36705686,\n",
              "        -0.30071599],\n",
              "       [ 1.        ,  0.03162677,  0.0114873 ,  0.26301555,  1.        ,\n",
              "         0.13285601]])"
            ]
          },
          "metadata": {},
          "execution_count": 238
        }
      ]
    },
    {
      "cell_type": "code",
      "source": [
        "theta, cost_history = gradient_descent(X=X_train, Y=y_train, theta=theta, alpha=alpha, iterations=iterations)\n",
        "theta, test_history = gradient_descent(X_test, y_test,theta, alpha, iterations, train = False)\n",
        "\n",
        "print('Final value of theta =', theta)\n",
        "print('cost_history = ', cost_history[2:])\n",
        "len(cost_history)"
      ],
      "metadata": {
        "colab": {
          "base_uri": "https://localhost:8080/",
          "height": 0
        },
        "id": "JzM3OdoaWnpM",
        "outputId": "e1f513f3-d45f-48e7-feb6-e2afc769e80f"
      },
      "execution_count": 239,
      "outputs": [
        {
          "output_type": "stream",
          "name": "stdout",
          "text": [
            "Final value of theta = [0.35545312 0.12310667 0.06147617 0.09879753 0.09257036 0.08708548]\n",
            "cost_history =  [0.06763439 0.0664511  0.06529114 ... 0.00445522 0.00445479 0.00445437]\n"
          ]
        },
        {
          "output_type": "execute_result",
          "data": {
            "text/plain": [
              "1500"
            ]
          },
          "metadata": {},
          "execution_count": 239
        }
      ]
    },
    {
      "cell_type": "code",
      "source": [
        "plt.plot(cost_history, color = 'pink', label = 'training data')\n",
        "plt.plot(test_history, color = 'blue', label = 'testing data')"
      ],
      "metadata": {
        "colab": {
          "base_uri": "https://localhost:8080/",
          "height": 282
        },
        "id": "Oyz9Bns0Wp6U",
        "outputId": "a7213c9c-cf10-4eef-8681-598e98c0c987"
      },
      "execution_count": 240,
      "outputs": [
        {
          "output_type": "execute_result",
          "data": {
            "text/plain": [
              "[<matplotlib.lines.Line2D at 0x7f3771bd7610>]"
            ]
          },
          "metadata": {},
          "execution_count": 240
        },
        {
          "output_type": "display_data",
          "data": {
            "text/plain": [
              "<Figure size 432x288 with 1 Axes>"
            ],
            "image/png": "[encoded data removed]"
          },
          "metadata": {
            "needs_background": "light"
          }
        }
      ]
    },
    {
      "cell_type": "markdown",
      "source": [
        "Problem 3b"
      ],
      "metadata": {
        "id": "rheqA8huWsjS"
      }
    },
    {
      "cell_type": "code",
      "source": [
        "#accessing columns that were asked\n",
        "#loc = index by name and name is string\n",
        "reduced_df = df.loc[:,[\"area\", \"bedrooms\", \"bathrooms\", \"stories\", \"mainroad\", \"guestroom\", \"basement\", \"hotwaterheating\", \"airconditioning\", \"parking\", \"prefarea\"]]\n",
        "price = df.iloc[:,0] #iloc = index by number\n",
        "\n",
        "# arr = [1, 2, 3]\n",
        "# print([i for i in arr])\n",
        "# print([i**2 for i in arr])\n",
        "# print([i for i in arr if i%2 == 1])\n",
        "\n",
        "for column_index in [4, 5, 6, 7, 8, 10]:\n",
        "    reduced_df.iloc[:,column_index] = reduced_df.iloc[:,column_index].map({\"yes\": 1, \"no\": 0})\n",
        "display(reduced_df.head())\n",
        "\n",
        "maxes = []\n",
        "reduced_df = normalize_dataframe(reduced_df)\n",
        "for i in range(11):\n",
        "  maxes.append(max(reduced_df.iloc[:,i]))\n",
        "  reduced_df.iloc[:,i] = reduced_df.iloc[:,i]/maxes[-1]\n",
        "\n",
        "maxes.append(max(price))\n",
        "price = price/maxes[-1]\n",
        "reduced_df.iloc[:,0] = reduced_df.iloc[:,0]/max(reduced_df.iloc[:,0])\n",
        "print(price)\n",
        "print(reduced_df.iloc[:,:])\n",
        "print(maxes)"
      ],
      "metadata": {
        "colab": {
          "base_uri": "https://localhost:8080/",
          "height": 920
        },
        "id": "KTKEL0zyWvNC",
        "outputId": "ba172f94-0b93-4271-d860-e5a32a8ecd50"
      },
      "execution_count": 241,
      "outputs": [
        {
          "output_type": "display_data",
          "data": {
            "text/plain": [
              "   area  bedrooms  bathrooms  stories  mainroad  guestroom  basement  \\\n",
              "0  7420         4          2        3         1          0         0   \n",
              "1  8960         4          4        4         1          0         0   \n",
              "2  9960         3          2        2         1          0         1   \n",
              "3  7500         4          2        2         1          0         1   \n",
              "4  7420         4          1        2         1          1         1   \n",
              "\n",
              "   hotwaterheating  airconditioning  parking  prefarea  \n",
              "0                0                1        2         1  \n",
              "1                0                1        3         0  \n",
              "2                0                0        2         1  \n",
              "3                0                1        3         1  \n",
              "4                0                1        2         0  "
            ],
            "text/html": [
              "\n",
              "  <div id=\"df-15b6ab30-c9f9-4035-81c5-f9524351dc2f\">\n",
              "    <div class=\"colab-df-container\">\n",
              "      <div>\n",
              "<style scoped>\n",
              "    .dataframe tbody tr th:only-of-type {\n",
              "        vertical-align: middle;\n",
              "    }\n",
              "\n",
              "    .dataframe tbody tr th {\n",
              "        vertical-align: top;\n",
              "    }\n",
              "\n",
              "    .dataframe thead th {\n",
              "        text-align: right;\n",
              "    }\n",
              "</style>\n",
              "<table border=\"1\" class=\"dataframe\">\n",
              "  <thead>\n",
              "    <tr style=\"text-align: right;\">\n",
              "      <th></th>\n",
              "      <th>area</th>\n",
              "      <th>bedrooms</th>\n",
              "      <th>bathrooms</th>\n",
              "      <th>stories</th>\n",
              "      <th>mainroad</th>\n",
              "      <th>guestroom</th>\n",
              "      <th>basement</th>\n",
              "      <th>hotwaterheating</th>\n",
              "      <th>airconditioning</th>\n",
              "      <th>parking</th>\n",
              "      <th>prefarea</th>\n",
              "    </tr>\n",
              "  </thead>\n",
              "  <tbody>\n",
              "    <tr>\n",
              "      <th>0</th>\n",
              "      <td>7420</td>\n",
              "      <td>4</td>\n",
              "      <td>2</td>\n",
              "      <td>3</td>\n",
              "      <td>1</td>\n",
              "      <td>0</td>\n",
              "      <td>0</td>\n",
              "      <td>0</td>\n",
              "      <td>1</td>\n",
              "      <td>2</td>\n",
              "      <td>1</td>\n",
              "    </tr>\n",
              "    <tr>\n",
              "      <th>1</th>\n",
              "      <td>8960</td>\n",
              "      <td>4</td>\n",
              "      <td>4</td>\n",
              "      <td>4</td>\n",
              "      <td>1</td>\n",
              "      <td>0</td>\n",
              "      <td>0</td>\n",
              "      <td>0</td>\n",
              "      <td>1</td>\n",
              "      <td>3</td>\n",
              "      <td>0</td>\n",
              "    </tr>\n",
              "    <tr>\n",
              "      <th>2</th>\n",
              "      <td>9960</td>\n",
              "      <td>3</td>\n",
              "      <td>2</td>\n",
              "      <td>2</td>\n",
              "      <td>1</td>\n",
              "      <td>0</td>\n",
              "      <td>1</td>\n",
              "      <td>0</td>\n",
              "      <td>0</td>\n",
              "      <td>2</td>\n",
              "      <td>1</td>\n",
              "    </tr>\n",
              "    <tr>\n",
              "      <th>3</th>\n",
              "      <td>7500</td>\n",
              "      <td>4</td>\n",
              "      <td>2</td>\n",
              "      <td>2</td>\n",
              "      <td>1</td>\n",
              "      <td>0</td>\n",
              "      <td>1</td>\n",
              "      <td>0</td>\n",
              "      <td>1</td>\n",
              "      <td>3</td>\n",
              "      <td>1</td>\n",
              "    </tr>\n",
              "    <tr>\n",
              "      <th>4</th>\n",
              "      <td>7420</td>\n",
              "      <td>4</td>\n",
              "      <td>1</td>\n",
              "      <td>2</td>\n",
              "      <td>1</td>\n",
              "      <td>1</td>\n",
              "      <td>1</td>\n",
              "      <td>0</td>\n",
              "      <td>1</td>\n",
              "      <td>2</td>\n",
              "      <td>0</td>\n",
              "    </tr>\n",
              "  </tbody>\n",
              "</table>\n",
              "</div>\n",
              "      <button class=\"colab-df-convert\" onclick=\"convertToInteractive('df-15b6ab30-c9f9-4035-81c5-f9524351dc2f')\"\n",
              "              title=\"Convert this dataframe to an interactive table.\"\n",
              "              style=\"display:none;\">\n",
              "        \n",
              "  <svg xmlns=\"http://www.w3.org/2000/svg\" height=\"24px\"viewBox=\"0 0 24 24\"\n",
              "       width=\"24px\">\n",
              "    <path d=\"M0 0h24v24H0V0z\" fill=\"none\"/>\n",
              "    <path d=\"M18.56 5.44l.94 2.06.94-2.06 2.06-.94-2.06-.94-.94-2.06-.94 2.06-2.06.94zm-11 1L8.5 8.5l.94-2.06 2.06-.94-2.06-.94L8.5 2.5l-.94 2.06-2.06.94zm10 10l.94 2.06.94-2.06 2.06-.94-2.06-.94-.94-2.06-.94 2.06-2.06.94z\"/><path d=\"M17.41 7.96l-1.37-1.37c-.4-.4-.92-.59-1.43-.59-.52 0-1.04.2-1.43.59L10.3 9.45l-7.72 7.72c-.78.78-.78 2.05 0 2.83L4 21.41c.39.39.9.59 1.41.59.51 0 1.02-.2 1.41-.59l7.78-7.78 2.81-2.81c.8-.78.8-2.07 0-2.86zM5.41 20L4 18.59l7.72-7.72 1.47 1.35L5.41 20z\"/>\n",
              "  </svg>\n",
              "      </button>\n",
              "      \n",
              "  <style>\n",
              "    .colab-df-container {\n",
              "      display:flex;\n",
              "      flex-wrap:wrap;\n",
              "      gap: 12px;\n",
              "    }\n",
              "\n",
              "    .colab-df-convert {\n",
              "      background-color: #E8F0FE;\n",
              "      border: none;\n",
              "      border-radius: 50%;\n",
              "      cursor: pointer;\n",
              "      display: none;\n",
              "      fill: #1967D2;\n",
              "      height: 32px;\n",
              "      padding: 0 0 0 0;\n",
              "      width: 32px;\n",
              "    }\n",
              "\n",
              "    .colab-df-convert:hover {\n",
              "      background-color: #E2EBFA;\n",
              "      box-shadow: 0px 1px 2px rgba(60, 64, 67, 0.3), 0px 1px 3px 1px rgba(60, 64, 67, 0.15);\n",
              "      fill: #174EA6;\n",
              "    }\n",
              "\n",
              "    [theme=dark] .colab-df-convert {\n",
              "      background-color: #3B4455;\n",
              "      fill: #D2E3FC;\n",
              "    }\n",
              "\n",
              "    [theme=dark] .colab-df-convert:hover {\n",
              "      background-color: #434B5C;\n",
              "      box-shadow: 0px 1px 3px 1px rgba(0, 0, 0, 0.15);\n",
              "      filter: drop-shadow(0px 1px 2px rgba(0, 0, 0, 0.3));\n",
              "      fill: #FFFFFF;\n",
              "    }\n",
              "  </style>\n",
              "\n",
              "      <script>\n",
              "        const buttonEl =\n",
              "          document.querySelector('#df-15b6ab30-c9f9-4035-81c5-f9524351dc2f button.colab-df-convert');\n",
              "        buttonEl.style.display =\n",
              "          google.colab.kernel.accessAllowed ? 'block' : 'none';\n",
              "\n",
              "        async function convertToInteractive(key) {\n",
              "          const element = document.querySelector('#df-15b6ab30-c9f9-4035-81c5-f9524351dc2f');\n",
              "          const dataTable =\n",
              "            await google.colab.kernel.invokeFunction('convertToInteractive',\n",
              "                                                     [key], {});\n",
              "          if (!dataTable) return;\n",
              "\n",
              "          const docLinkHtml = 'Like what you see? Visit the ' +\n",
              "            '<a target=\"_blank\" href=https://colab.research.google.com/notebooks/data_table.ipynb>data table notebook</a>'\n",
              "            + ' to learn more about interactive tables.';\n",
              "          element.innerHTML = '';\n",
              "          dataTable['output_type'] = 'display_data';\n",
              "          await google.colab.output.renderOutput(dataTable, element);\n",
              "          const docLink = document.createElement('div');\n",
              "          docLink.innerHTML = docLinkHtml;\n",
              "          element.appendChild(docLink);\n",
              "        }\n",
              "      </script>\n",
              "    </div>\n",
              "  </div>\n",
              "  "
            ]
          },
          "metadata": {}
        },
        {
          "output_type": "stream",
          "name": "stdout",
          "text": [
            "0      1.000000\n",
            "1      0.921053\n",
            "2      0.921053\n",
            "3      0.918421\n",
            "4      0.857895\n",
            "         ...   \n",
            "540    0.136842\n",
            "541    0.132868\n",
            "542    0.131579\n",
            "543    0.131579\n",
            "544    0.131579\n",
            "Name: price, Length: 545, dtype: float64\n",
            "         area  bedrooms  bathrooms   stories  mainroad  guestroom  basement  \\\n",
            "0    0.205391  0.340992   0.263016  0.544314  1.000000  -0.216518 -0.539548   \n",
            "1    0.344764  0.340992   1.000000  1.000000  1.000000  -0.216518 -0.539548   \n",
            "2    0.435266  0.011487   0.263016  0.088629  1.000000  -0.216518  1.000000   \n",
            "3    0.212631  0.340992   0.263016  0.088629  1.000000  -0.216518  1.000000   \n",
            "4    0.205391  0.340992  -0.105477  0.088629  1.000000   1.000000  1.000000   \n",
            "..        ...       ...        ...       ...       ...        ...       ...   \n",
            "540 -0.194629 -0.318017  -0.105477 -0.367057  1.000000  -0.216518  1.000000   \n",
            "541 -0.248930  0.011487  -0.105477 -0.367057 -6.077922  -0.216518 -0.539548   \n",
            "542 -0.138517 -0.318017  -0.105477 -0.367057  1.000000  -0.216518 -0.539548   \n",
            "543 -0.202774  0.011487  -0.105477 -0.367057 -6.077922  -0.216518 -0.539548   \n",
            "544 -0.117702  0.011487  -0.105477  0.088629  1.000000  -0.216518 -0.539548   \n",
            "\n",
            "     hotwaterheating  airconditioning   parking  prefarea  \n",
            "0          -0.048077         1.000000  0.566428  1.000000  \n",
            "1          -0.048077         1.000000  1.000000 -0.306954  \n",
            "2          -0.048077        -0.461126  0.566428  1.000000  \n",
            "3          -0.048077         1.000000  1.000000  1.000000  \n",
            "4          -0.048077         1.000000  0.566428 -0.306954  \n",
            "..               ...              ...       ...       ...  \n",
            "540        -0.048077        -0.461126  0.566428 -0.306954  \n",
            "541        -0.048077        -0.461126 -0.300716 -0.306954  \n",
            "542        -0.048077        -0.461126 -0.300716 -0.306954  \n",
            "543        -0.048077        -0.461126 -0.300716 -0.306954  \n",
            "544        -0.048077        -0.461126 -0.300716 -0.306954  \n",
            "\n",
            "[545 rows x 11 columns]\n",
            "[5.091585570242134, 4.111923842176972, 5.400846899372526, 2.529699688044935, 0.40525057036170026, 2.147110217260803, 1.3601479337382152, 4.55651564930763, 1.4712666515828257, 2.6769500506662025, 1.8032844651871542, 13300000]\n"
          ]
        }
      ]
    },
    {
      "cell_type": "code",
      "source": [
        "X_train, X_test, y_train, y_test = train_test_split(reduced_df.values, price.values, test_size = 0.2, random_state =42)"
      ],
      "metadata": {
        "id": "Q80VR5lRW1QQ"
      },
      "execution_count": 242,
      "outputs": []
    },
    {
      "cell_type": "code",
      "source": [
        "print('features:\\n', X_train[0]) #shows all 5 X values \n",
        "print('example price:', y_train[0]) "
      ],
      "metadata": {
        "colab": {
          "base_uri": "https://localhost:8080/",
          "height": 0
        },
        "id": "QNL-22gvW314",
        "outputId": "eef14483-e610-4923-a13b-3526d13167b4"
      },
      "execution_count": 243,
      "outputs": [
        {
          "output_type": "stream",
          "name": "stdout",
          "text": [
            "features:\n",
            " [ 0.07687786  0.0114873   0.26301555  1.          1.         -0.21651786\n",
            " -0.53954802 -0.04807692  1.          0.13285601 -0.30695444]\n",
            "example price: 0.5657894736842105\n"
          ]
        }
      ]
    },
    {
      "cell_type": "code",
      "source": [
        "# 5x5\n",
        "# shows first 5 rows of area, bedrooms, bathrooms, stories, parking\n",
        "m = len(X_train)\n",
        "X_train = X_train.reshape(m,11)\n",
        "print('Xvals: \\n', X_train[:11,:])\n",
        "m"
      ],
      "metadata": {
        "colab": {
          "base_uri": "https://localhost:8080/",
          "height": 0
        },
        "id": "rBfGPXnjW5p8",
        "outputId": "b5b941f5-41db-4b32-cd87-f60f64bcd791"
      },
      "execution_count": 244,
      "outputs": [
        {
          "output_type": "stream",
          "name": "stdout",
          "text": [
            "Xvals: \n",
            " [[ 0.07687786  0.0114873   0.26301555  1.          1.         -0.21651786\n",
            "  -0.53954802 -0.04807692  1.          0.13285601 -0.30695444]\n",
            " [ 0.18548046  0.0114873   0.26301555 -0.36705686  1.         -0.21651786\n",
            "   1.         -0.04807692  1.          1.         -0.30695444]\n",
            " [-0.12077888 -0.31801693 -0.10547667 -0.36705686  1.         -0.21651786\n",
            "   1.         -0.04807692  1.          0.566428   -0.30695444]\n",
            " [-0.2299245   0.0114873  -0.10547667  0.08862876  1.         -0.21651786\n",
            "   1.         -0.04807692 -0.46112601 -0.30071599  1.        ]\n",
            " [-0.12675203  0.0114873  -0.10547667  0.08862876  1.         -0.21651786\n",
            "  -0.53954802 -0.04807692 -0.46112601 -0.30071599 -0.30695444]\n",
            " [-0.01271929  0.0114873  -0.10547667  0.08862876  1.         -0.21651786\n",
            "   1.         -0.04807692 -0.46112601 -0.30071599 -0.30695444]\n",
            " [-0.11770181  0.0114873  -0.10547667  0.08862876  1.         -0.21651786\n",
            "  -0.53954802 -0.04807692 -0.46112601 -0.30071599 -0.30695444]\n",
            " [-0.00674615  0.0114873  -0.10547667 -0.36705686 -6.07792208 -0.21651786\n",
            "  -0.53954802 -0.04807692 -0.46112601 -0.30071599 -0.30695444]\n",
            " [-0.17833826  0.0114873  -0.10547667 -0.36705686 -6.07792208 -0.21651786\n",
            "  -0.53954802 -0.04807692 -0.46112601 -0.30071599 -0.30695444]\n",
            " [ 0.0786879   0.0114873  -0.10547667 -0.36705686  1.         -0.21651786\n",
            "  -0.53954802 -0.04807692 -0.46112601 -0.30071599 -0.30695444]\n",
            " [-0.18376839  0.0114873  -0.10547667  0.08862876 -6.07792208 -0.21651786\n",
            "   1.          1.         -0.46112601 -0.30071599 -0.30695444]]\n"
          ]
        },
        {
          "output_type": "execute_result",
          "data": {
            "text/plain": [
              "436"
            ]
          },
          "metadata": {},
          "execution_count": 244
        }
      ]
    },
    {
      "cell_type": "code",
      "source": [
        "# 5x5\n",
        "# shows first 5 rows of area, bedrooms, bathrooms, stories, parking\n",
        "m = len(X_train)\n",
        "X_train = X_train.reshape(m,11)\n",
        "print('Xvals: \\n', X_train[:11,:])\n",
        "m"
      ],
      "metadata": {
        "colab": {
          "base_uri": "https://localhost:8080/",
          "height": 0
        },
        "id": "wV0Dhy_MW8Vn",
        "outputId": "b5ee900b-0faf-4cd2-9304-f6348486aff4"
      },
      "execution_count": 245,
      "outputs": [
        {
          "output_type": "stream",
          "name": "stdout",
          "text": [
            "Xvals: \n",
            " [[ 0.07687786  0.0114873   0.26301555  1.          1.         -0.21651786\n",
            "  -0.53954802 -0.04807692  1.          0.13285601 -0.30695444]\n",
            " [ 0.18548046  0.0114873   0.26301555 -0.36705686  1.         -0.21651786\n",
            "   1.         -0.04807692  1.          1.         -0.30695444]\n",
            " [-0.12077888 -0.31801693 -0.10547667 -0.36705686  1.         -0.21651786\n",
            "   1.         -0.04807692  1.          0.566428   -0.30695444]\n",
            " [-0.2299245   0.0114873  -0.10547667  0.08862876  1.         -0.21651786\n",
            "   1.         -0.04807692 -0.46112601 -0.30071599  1.        ]\n",
            " [-0.12675203  0.0114873  -0.10547667  0.08862876  1.         -0.21651786\n",
            "  -0.53954802 -0.04807692 -0.46112601 -0.30071599 -0.30695444]\n",
            " [-0.01271929  0.0114873  -0.10547667  0.08862876  1.         -0.21651786\n",
            "   1.         -0.04807692 -0.46112601 -0.30071599 -0.30695444]\n",
            " [-0.11770181  0.0114873  -0.10547667  0.08862876  1.         -0.21651786\n",
            "  -0.53954802 -0.04807692 -0.46112601 -0.30071599 -0.30695444]\n",
            " [-0.00674615  0.0114873  -0.10547667 -0.36705686 -6.07792208 -0.21651786\n",
            "  -0.53954802 -0.04807692 -0.46112601 -0.30071599 -0.30695444]\n",
            " [-0.17833826  0.0114873  -0.10547667 -0.36705686 -6.07792208 -0.21651786\n",
            "  -0.53954802 -0.04807692 -0.46112601 -0.30071599 -0.30695444]\n",
            " [ 0.0786879   0.0114873  -0.10547667 -0.36705686  1.         -0.21651786\n",
            "  -0.53954802 -0.04807692 -0.46112601 -0.30071599 -0.30695444]\n",
            " [-0.18376839  0.0114873  -0.10547667  0.08862876 -6.07792208 -0.21651786\n",
            "   1.          1.         -0.46112601 -0.30071599 -0.30695444]]\n"
          ]
        },
        {
          "output_type": "execute_result",
          "data": {
            "text/plain": [
              "436"
            ]
          },
          "metadata": {},
          "execution_count": 245
        }
      ]
    },
    {
      "cell_type": "code",
      "source": [
        "m = len(X_train)\n",
        "n = len(X_test)\n",
        "X_train_1 = np.ones((m,1)) #1 column\n",
        "X_test_1 = np.ones((n,1)) #1 column\n",
        "X_train_1[:1], len(X_train_1) #1 row"
      ],
      "metadata": {
        "colab": {
          "base_uri": "https://localhost:8080/",
          "height": 0
        },
        "id": "roX-hv6QW_V6",
        "outputId": "960c180e-94c1-48f6-842d-f5b5c26808ff"
      },
      "execution_count": 246,
      "outputs": [
        {
          "output_type": "execute_result",
          "data": {
            "text/plain": [
              "(array([[1.]]), 436)"
            ]
          },
          "metadata": {},
          "execution_count": 246
        }
      ]
    },
    {
      "cell_type": "code",
      "source": [
        "X_train = np.hstack((X_train_1, X_train))\n",
        "X_test = np.hstack((X_test_1, X_test))\n",
        "X_train[:5]"
      ],
      "metadata": {
        "colab": {
          "base_uri": "https://localhost:8080/",
          "height": 0
        },
        "id": "AG3WecrNXBvc",
        "outputId": "8a184605-8558-4167-abc0-fae92c498c53"
      },
      "execution_count": 247,
      "outputs": [
        {
          "output_type": "execute_result",
          "data": {
            "text/plain": [
              "array([[ 1.        ,  0.07687786,  0.0114873 ,  0.26301555,  1.        ,\n",
              "         1.        , -0.21651786, -0.53954802, -0.04807692,  1.        ,\n",
              "         0.13285601, -0.30695444],\n",
              "       [ 1.        ,  0.18548046,  0.0114873 ,  0.26301555, -0.36705686,\n",
              "         1.        , -0.21651786,  1.        , -0.04807692,  1.        ,\n",
              "         1.        , -0.30695444],\n",
              "       [ 1.        , -0.12077888, -0.31801693, -0.10547667, -0.36705686,\n",
              "         1.        , -0.21651786,  1.        , -0.04807692,  1.        ,\n",
              "         0.566428  , -0.30695444],\n",
              "       [ 1.        , -0.2299245 ,  0.0114873 , -0.10547667,  0.08862876,\n",
              "         1.        , -0.21651786,  1.        , -0.04807692, -0.46112601,\n",
              "        -0.30071599,  1.        ],\n",
              "       [ 1.        , -0.12675203,  0.0114873 , -0.10547667,  0.08862876,\n",
              "         1.        , -0.21651786, -0.53954802, -0.04807692, -0.46112601,\n",
              "        -0.30071599, -0.30695444]])"
            ]
          },
          "metadata": {},
          "execution_count": 247
        }
      ]
    },
    {
      "cell_type": "code",
      "source": [
        "theta = np.zeros(12)\n",
        "iterations = 1500\n",
        "alpha = .01\n",
        "theta.shape"
      ],
      "metadata": {
        "colab": {
          "base_uri": "https://localhost:8080/",
          "height": 0
        },
        "id": "uTaDPV1pXD9p",
        "outputId": "41cfe654-998c-4634-dcbd-802f69323514"
      },
      "execution_count": 248,
      "outputs": [
        {
          "output_type": "execute_result",
          "data": {
            "text/plain": [
              "(12,)"
            ]
          },
          "metadata": {},
          "execution_count": 248
        }
      ]
    },
    {
      "cell_type": "code",
      "source": [
        "def compute_loss(X, Y, theta):\n",
        "  predictions = X.dot(theta)\n",
        "  errors = np.subtract(predictions, Y)\n",
        "  sqrErrors = np.square(errors)\n",
        "  J = 1/(2*m) * np.sum(sqrErrors)\n",
        "  return J"
      ],
      "metadata": {
        "id": "5blSDeyOXGh8"
      },
      "execution_count": 249,
      "outputs": []
    },
    {
      "cell_type": "code",
      "source": [
        "cost = compute_loss(X_train,y_train, theta)\n",
        "print('The cost for given values of theta_0 and theta_1 = ', cost)"
      ],
      "metadata": {
        "colab": {
          "base_uri": "https://localhost:8080/",
          "height": 0
        },
        "id": "oU0LB3DTXIZh",
        "outputId": "9ce0df24-9c74-48df-d5d8-297b6a3e05ca"
      },
      "execution_count": 250,
      "outputs": [
        {
          "output_type": "stream",
          "name": "stdout",
          "text": [
            "The cost for given values of theta_0 and theta_1 =  0.07132905310217541\n"
          ]
        }
      ]
    },
    {
      "cell_type": "code",
      "source": [
        "def gradient_descent(X, Y, theta, alpha, iterations):\n",
        "  cost_history = np.zeros(iterations)\n",
        "\n",
        "  for i in range(iterations):\n",
        "    predictions = X.dot(theta)\n",
        "    errors = np.subtract(predictions, Y)\n",
        "    sum_delta = (alpha/m)*X.transpose().dot(errors)\n",
        "    theta = theta - sum_delta\n",
        "    cost_history[i] = compute_loss(X, Y, theta)\n",
        "    \n",
        "  return theta, cost_history"
      ],
      "metadata": {
        "id": "W8IXtgeVXKvR"
      },
      "execution_count": 251,
      "outputs": []
    },
    {
      "cell_type": "code",
      "source": [
        "theta, cost_history = gradient_descent(X_train, y_train,theta, alpha, iterations)\n",
        "print('Final value of theta =', theta)\n",
        "print('cost_history = ', cost_history[2:])\n",
        "len(cost_history)"
      ],
      "metadata": {
        "colab": {
          "base_uri": "https://localhost:8080/",
          "height": 0
        },
        "id": "DB4IJHQKXOgy",
        "outputId": "0756f7b7-b65b-4800-e82c-3c1eb2bff3a5"
      },
      "execution_count": 252,
      "outputs": [
        {
          "output_type": "stream",
          "name": "stdout",
          "text": [
            "Final value of theta = [0.35585743 0.09012686 0.04931931 0.08952685 0.07344395 0.00611183\n",
            " 0.02394733 0.02030264 0.03399489 0.04994878 0.06349352 0.03876027]\n",
            "cost_history =  [0.06731463 0.06604516 0.0648073  ... 0.00327253 0.0032722  0.00327188]\n"
          ]
        },
        {
          "output_type": "execute_result",
          "data": {
            "text/plain": [
              "1500"
            ]
          },
          "metadata": {},
          "execution_count": 252
        }
      ]
    },
    {
      "cell_type": "code",
      "source": [
        "plt.plot(cost_history, color = 'pink', label = 'training data')\n",
        "plt.plot(test_history, color = 'blue', label = 'testing data')"
      ],
      "metadata": {
        "colab": {
          "base_uri": "https://localhost:8080/",
          "height": 282
        },
        "id": "m7Qh0d3UXQSx",
        "outputId": "0d834605-808a-4517-a6f2-78a794d99574"
      },
      "execution_count": 253,
      "outputs": [
        {
          "output_type": "execute_result",
          "data": {
            "text/plain": [
              "[<matplotlib.lines.Line2D at 0x7f37706af5e0>]"
            ]
          },
          "metadata": {},
          "execution_count": 253
        },
        {
          "output_type": "display_data",
          "data": {
            "text/plain": [
              "<Figure size 432x288 with 1 Axes>"
            ],
            "image/png": "[encoded data removed]"
          },
          "metadata": {
            "needs_background": "light"
          }
        }
      ]
    }
  ]
}